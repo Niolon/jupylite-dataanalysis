{
 "cells": [
  {
   "cell_type": "markdown",
   "metadata": {
    "editable": false
   },
   "source": [
    "![University Logo](../Durham_University.svg)"
   ]
  },
  {
   "cell_type": "markdown",
   "metadata": {
    "editable": false,
    "slideshow": {
     "slide_type": "slide"
    },
    "tags": []
   },
   "source": [
    "# Dictionaries are like a labelled drawer containing arbitrary data\n",
    "Data is accessed by keyword"
   ]
  },
  {
   "cell_type": "code",
   "execution_count": null,
   "metadata": {
    "editable": true,
    "remove_code": "non-comments",
    "slideshow": {
     "slide_type": ""
    },
    "tags": []
   },
   "outputs": [],
   "source": [
    "# Create a mixed dict with a list as content\n"
   ]
  },
  {
   "cell_type": "markdown",
   "metadata": {
    "editable": false,
    "slideshow": {
     "slide_type": "slide"
    },
    "tags": []
   },
   "source": [
    "# Introduction to Pandas\n",
    "\n",
    "## What is Pandas?\n",
    "- Open-source library providing easy-to-use data structures and data analysis tools.\n",
    "- Built on top of NumPy, making it a critical tool for data manipulation in Python.\n",
    "\n",
    "## Why Use Pandas?\n",
    "- Simplifies many complex data operations that are cumbersome or less intuitive in NumPy.\n",
    "- Provides robust tools for working with structured data like time series and structured grids."
   ]
  },
  {
   "cell_type": "markdown",
   "metadata": {
    "editable": false,
    "slideshow": {
     "slide_type": "slide"
    },
    "tags": []
   },
   "source": [
    "# The Connection Between Pandas and NumPy\n",
    "\n",
    "Pandas is built on NumPy and extends its capabilities by providing more flexible data structures.\n",
    "\n",
    "## Pandas and NumPy\n",
    "- **NumPy**: Provides the foundation with its array object, which is designed for efficient numeric computation.\n",
    "- **Pandas**: Uses NumPy arrays to store data, benefiting from NumPy's speed and resources but adds significant functionality for handling data.\n",
    "\n",
    "## Use Cases\n",
    "- **NumPy**: Ideal for performing numerical computations. Focus is on the numerical transformation of data.\n",
    "- **Pandas**: Best for more complex operations involving data cleaning, transformations, and analysis of tabular data.\n",
    "\n",
    "Both can easily be combined"
   ]
  },
  {
   "cell_type": "markdown",
   "metadata": {
    "editable": false,
    "slideshow": {
     "slide_type": "slide"
    },
    "tags": []
   },
   "source": [
    "# Importing Pandas"
   ]
  },
  {
   "cell_type": "code",
   "execution_count": null,
   "metadata": {
    "editable": true,
    "remove_code": "non-comments",
    "slideshow": {
     "slide_type": ""
    },
    "tags": []
   },
   "outputs": [],
   "source": [
    "# Importing pandas\n",
    "\n",
    "# Display the version\n"
   ]
  },
  {
   "cell_type": "markdown",
   "metadata": {
    "editable": false,
    "slideshow": {
     "slide_type": "slide"
    },
    "tags": []
   },
   "source": [
    "# Key Data Structures in Pandas\n",
    "\n",
    "Pandas primarily uses two main data structures: `Series` and `DataFrame`.\n",
    "\n",
    "## Series\n",
    "- A one-dimensional array-like object capable of holding any data type.\n",
    "- Each element has an index; the default one ranges from 0 to N, where N is the length of the series minus one.\n",
    "\n",
    "## DataFrame\n",
    "- A two-dimensional, size-mutable, potentially heterogeneous tabular data.\n",
    "- Data is aligned in a tabular fashion in rows and columns.\n",
    "- Think of it as a spreadsheet or SQL table."
   ]
  },
  {
   "cell_type": "markdown",
   "metadata": {
    "editable": false,
    "slideshow": {
     "slide_type": "slide"
    },
    "tags": []
   },
   "source": [
    "## We can create Series from NumPy arrays, lists and dictionaries"
   ]
  },
  {
   "cell_type": "code",
   "execution_count": null,
   "metadata": {
    "editable": true,
    "slideshow": {
     "slide_type": ""
    },
    "tags": []
   },
   "outputs": [],
   "source": [
    "# Import numpy\n",
    "import numpy as np\n"
   ]
  },
  {
   "cell_type": "code",
   "execution_count": null,
   "metadata": {
    "editable": true,
    "remove_code": "non-comments",
    "scrolled": true,
    "slideshow": {
     "slide_type": ""
    },
    "tags": []
   },
   "outputs": [],
   "source": [
    "# Create a series from a list (size 5)\n"
   ]
  },
  {
   "cell_type": "code",
   "execution_count": null,
   "metadata": {
    "editable": true,
    "remove_code": "non-comments",
    "slideshow": {
     "slide_type": ""
    },
    "tags": []
   },
   "outputs": [],
   "source": [
    "# Create a series from a numpy array (size 5)\n"
   ]
  },
  {
   "cell_type": "code",
   "execution_count": null,
   "metadata": {
    "editable": true,
    "remove_code": "non-comments",
    "slideshow": {
     "slide_type": ""
    },
    "tags": []
   },
   "outputs": [],
   "source": [
    "# Create a series from a dictionary\n"
   ]
  },
  {
   "cell_type": "markdown",
   "metadata": {
    "editable": false,
    "slideshow": {
     "slide_type": "slide"
    },
    "tags": []
   },
   "source": [
    "## We can create a DataFrame from a dictionary \n",
    "The keys of the dictionary are the column labels and entries are objects that can be cast into a series, if they have the same indexing and length"
   ]
  },
  {
   "cell_type": "code",
   "execution_count": null,
   "metadata": {
    "editable": true,
    "remove_code": "non-comments",
    "slideshow": {
     "slide_type": ""
    },
    "tags": []
   },
   "outputs": [],
   "source": [
    "# Create a dataframe from the list and the numpy array\n"
   ]
  },
  {
   "cell_type": "code",
   "execution_count": null,
   "metadata": {
    "editable": true,
    "remove_code": "non-comments",
    "slideshow": {
     "slide_type": ""
    },
    "tags": []
   },
   "outputs": [],
   "source": [
    "# Create another dataframe from the series\n"
   ]
  },
  {
   "cell_type": "markdown",
   "metadata": {
    "slideshow": {
     "slide_type": "slide"
    },
    "editable": false
   },
   "source": [
    "## We can also create a NumPy array from a Series or DataFrame\n",
    "For that we use the `values` property."
   ]
  },
  {
   "cell_type": "code",
   "execution_count": null,
   "metadata": {
    "editable": true,
    "remove_code": "non-comments",
    "slideshow": {
     "slide_type": ""
    },
    "tags": []
   },
   "outputs": [],
   "source": [
    "# Show the values property of a pd.Series\n"
   ]
  },
  {
   "cell_type": "code",
   "execution_count": null,
   "metadata": {
    "editable": true,
    "remove_code": "non-comments",
    "slideshow": {
     "slide_type": ""
    },
    "tags": []
   },
   "outputs": [],
   "source": [
    "# Show the values property of a pd.DataFrame\n"
   ]
  },
  {
   "cell_type": "markdown",
   "metadata": {
    "editable": false,
    "slideshow": {
     "slide_type": "slide"
    },
    "tags": []
   },
   "source": [
    "# Loading Data with Pandas"
   ]
  },
  {
   "cell_type": "code",
   "execution_count": null,
   "metadata": {
    "editable": true,
    "remove_code": "after:# Load the dataset",
    "slideshow": {
     "slide_type": ""
    },
    "tags": []
   },
   "outputs": [],
   "source": [
    "data_path = '../Data/presentation/DAC_Study_4_PS.sav.csv'\n",
    "\n",
    "# Load the dataset\n",
    "\n",
    "# Display the first few rows of the dataframe\n"
   ]
  },
  {
   "cell_type": "markdown",
   "metadata": {
    "editable": false,
    "slideshow": {
     "slide_type": "slide"
    },
    "tags": []
   },
   "source": [
    "# This is a real dataset\n",
    "The original publication has been done in [Gino & Wiltermuth (2014): 'Evil Genius?: How Dishonesty Can Lead to Greater Creativity'](https://doi.org/10.1177/0956797614520714)\n",
    "\n",
    "However, we reproduce the analysis done in the blog post [Uri, Joe, & Leif (2023): '[111] Data Falsificada (Part 3): \"The Cheaters Are Out of Order\"'](https://datacolada.org/111)\n",
    "\n",
    "This is one of the studies from a widely publicised case of academic misconduct within research on dishonesty.\n",
    "\n",
    "Until 2023 Francesca Gino was a professor at Harvard Business School\n",
    "\n",
    "We will first introduce some pandas functions and then reproduce part of the original analysis and the analysis done by Uri et al."
   ]
  },
  {
   "cell_type": "markdown",
   "metadata": {
    "editable": false,
    "slideshow": {
     "slide_type": "slide"
    },
    "tags": []
   },
   "source": [
    "# Basic DataFrame Operations"
   ]
  },
  {
   "cell_type": "code",
   "execution_count": null,
   "metadata": {
    "editable": true,
    "remove_code": "non-comments",
    "slideshow": {
     "slide_type": ""
    },
    "tags": []
   },
   "outputs": [],
   "source": [
    "# Display the shape of the dataframe\n",
    "\n",
    "# Get a concise summary of the dataframe\n"
   ]
  },
  {
   "cell_type": "markdown",
   "metadata": {
    "editable": false,
    "slideshow": {
     "slide_type": "slide"
    },
    "tags": []
   },
   "source": [
    "# Accessing data values\n",
    "\n",
    "We can access the `pd.Series` belonging to these columns by name just as we would in a dictionary. A list of column names creates a new `pd.DataFrame` view"
   ]
  },
  {
   "cell_type": "code",
   "execution_count": null,
   "metadata": {
    "editable": true,
    "remove_code": "non-comments",
    "slideshow": {
     "slide_type": ""
    },
    "tags": []
   },
   "outputs": [],
   "source": [
    "# Access the cheated and the Numberofresponses columns\n"
   ]
  },
  {
   "cell_type": "markdown",
   "metadata": {
    "editable": false,
    "slideshow": {
     "slide_type": "slide"
    },
    "tags": []
   },
   "source": [
    "## Data Selection with loc and iloc"
   ]
  },
  {
   "cell_type": "code",
   "execution_count": null,
   "metadata": {
    "editable": true,
    "remove_code": "non-comments",
    "slideshow": {
     "slide_type": ""
    },
    "tags": []
   },
   "outputs": [],
   "source": [
    "# Select columns by name using loc\n",
    "\n",
    "# Display the first five rows\n"
   ]
  },
  {
   "cell_type": "code",
   "execution_count": null,
   "metadata": {
    "editable": true,
    "remove_code": "non-comments",
    "slideshow": {
     "slide_type": ""
    },
    "tags": []
   },
   "outputs": [],
   "source": [
    "# Select rows and columns by index using iloc\n",
    "\n",
    "# Display the first five rows\n"
   ]
  },
  {
   "cell_type": "markdown",
   "metadata": {
    "editable": false,
    "slideshow": {
     "slide_type": "slide"
    },
    "tags": []
   },
   "source": [
    "## A word of warning about chained assignment\n",
    "A view can be only created for one access, afterwards pandas will create a copy!"
   ]
  },
  {
   "cell_type": "code",
   "execution_count": null,
   "metadata": {
    "editable": true,
    "slideshow": {
     "slide_type": ""
    },
    "tags": []
   },
   "outputs": [],
   "source": [
    "df[['StartDate', 'EndDate']][0:5] = df[['StartDate', 'EndDate']][0:5]\n",
    "#  Here lies the problem          -   The access here is fine"
   ]
  },
  {
   "cell_type": "markdown",
   "metadata": {
    "editable": false
   },
   "source": [
    "Use this notation for access to data but not for assingment!"
   ]
  },
  {
   "cell_type": "markdown",
   "metadata": {
    "editable": false,
    "slideshow": {
     "slide_type": "slide"
    },
    "tags": []
   },
   "source": [
    "## Boolean data selection\n",
    "A mask on a `pd.DataFrame` works for rows."
   ]
  },
  {
   "cell_type": "code",
   "execution_count": null,
   "metadata": {
    "editable": true,
    "remove_code": "non-comments",
    "slideshow": {
     "slide_type": ""
    },
    "tags": []
   },
   "outputs": [],
   "source": [
    "# Using conditions to filter rows with more than ten responses\n",
    "\n",
    "# Display the head of filtered data\n"
   ]
  },
  {
   "cell_type": "code",
   "execution_count": null,
   "metadata": {
    "editable": true,
    "remove_code": "non-comments",
    "slideshow": {
     "slide_type": ""
    },
    "tags": []
   },
   "outputs": [],
   "source": [
    "# Using loc with conditions to get only the cheated and Numberofresponses columns for rows with a large number of responses\n",
    "\n",
    "# Display the head of filtered data\n"
   ]
  },
  {
   "cell_type": "markdown",
   "metadata": {
    "editable": false,
    "slideshow": {
     "slide_type": "slide"
    },
    "tags": []
   },
   "source": [
    "## Cleaning up: Converting Date Columns to Datetime\n",
    "Pandas allows us to convert date columns to datetime format for easier manipulation."
   ]
  },
  {
   "cell_type": "code",
   "execution_count": null,
   "metadata": {
    "editable": true,
    "remove_code": "non-comments",
    "slideshow": {
     "slide_type": ""
    },
    "tags": []
   },
   "outputs": [],
   "source": [
    "# Convert 'StartDate' and 'EndDate' to datetime\n",
    "\n",
    "# Display the types to confirm conversion\n"
   ]
  },
  {
   "cell_type": "markdown",
   "metadata": {
    "editable": false,
    "slideshow": {
     "slide_type": "slide"
    },
    "tags": []
   },
   "source": [
    "## Cleaning up: Handling Missing Values"
   ]
  },
  {
   "cell_type": "code",
   "execution_count": null,
   "metadata": {
    "editable": true,
    "remove_code": "non-comments",
    "slideshow": {
     "slide_type": ""
    },
    "tags": []
   },
   "outputs": [],
   "source": [
    "# Use isnull() to check for missing values\n",
    "# Get sum to test for the number of missing values per column\n",
    "\n",
    "# Output columns with missing values\n"
   ]
  },
  {
   "cell_type": "markdown",
   "metadata": {
    "editable": false,
    "slideshow": {
     "slide_type": "slide"
    },
    "tags": []
   },
   "source": [
    "## An example of how you might fill missing data\n",
    "This is a technical demonstration, if or how to actually impute missing data is highly dependent on your field, but rarely the optimal solution."
   ]
  },
  {
   "cell_type": "code",
   "execution_count": null,
   "metadata": {
    "editable": true,
    "remove_code": "non-comments",
    "slideshow": {
     "slide_type": ""
    },
    "tags": []
   },
   "outputs": [],
   "source": [
    "# Fill missing numeric values with the median\n"
   ]
  },
  {
   "cell_type": "markdown",
   "metadata": {
    "editable": false,
    "slideshow": {
     "slide_type": "fragment"
    },
    "tags": []
   },
   "source": [
    "## Boolean Data Selection",
    "Alternative is to just exclude the affected rows with `dropna`"
   ]
  },
  {
   "cell_type": "code",
   "execution_count": null,
   "metadata": {
    "editable": true,
    "remove_code": "non-comments",
    "slideshow": {
     "slide_type": ""
    },
    "tags": []
   },
   "outputs": [],
   "source": [
    "# Demonstrate dropna on whole dataset\n"
   ]
  },
  {
   "cell_type": "code",
   "execution_count": null,
   "metadata": {
    "editable": true,
    "remove_code": "non-comments",
    "slideshow": {
     "slide_type": ""
    },
    "tags": []
   },
   "outputs": [],
   "source": [
    "# Demonstrate dropna on a subset of columns\n"
   ]
  },
  {
   "cell_type": "markdown",
   "metadata": {
    "editable": false,
    "slideshow": {
     "slide_type": "slide"
    },
    "tags": []
   },
   "source": [
    "# Using `describe` for a quick statistical analysis"
   ]
  },
  {
   "cell_type": "code",
   "execution_count": null,
   "metadata": {
    "editable": true,
    "remove_code": "non-comments",
    "slideshow": {
     "slide_type": ""
    },
    "tags": []
   },
   "outputs": [],
   "source": [
    "# Descriptive statistics for numeric columns\n"
   ]
  },
  {
   "cell_type": "markdown",
   "metadata": {
    "slideshow": {
     "slide_type": "slide"
    },
    "editable": false
   },
   "source": [
    "# Reproducing the original but refuted calculation \n",
    "\n",
    "[Gino & Wiltermuth (2014): 'Evil Genius?: How Dishonesty Can Lead to Greater Creativity'](https://doi.org/10.1177/0956797614520714)\n",
    "\n",
    " - The original hypothesis was that people willing to cheat are more creative\n",
    " - People participated in a virtual coin toss game where they had the opportunity and incentive to cheat\n",
    " - They then were asked to come up with ways to use a newspaper as a measurement of creativity (among others)"
   ]
  },
  {
   "cell_type": "markdown",
   "metadata": {
    "editable": false,
    "slideshow": {
     "slide_type": "slide"
    },
    "tags": []
   },
   "source": [
    "## Selecting Relevant Data for Analysis\n",
    "We create a new work DataFrame that only contains the columns that indicate \n",
    " - whether a participant cheated (`cheated`)\n",
    " - and the number of uses for the newspaper (`Numberofresponses`)"
   ]
  },
  {
   "cell_type": "code",
   "execution_count": null,
   "metadata": {
    "editable": true,
    "remove_code": "non-comments",
    "slideshow": {
     "slide_type": ""
    },
    "tags": []
   },
   "outputs": [],
   "source": [
    "# Create a new DataFrame with only necessary columns\n",
    "\n",
    "# Display the new DataFrame to confirm selection\n"
   ]
  },
  {
   "cell_type": "markdown",
   "metadata": {
    "editable": false,
    "slideshow": {
     "slide_type": "slide"
    },
    "tags": []
   },
   "source": [
    "## Preparing Data for Analysis\n",
    "We create subviews for the datasets for the people that cheated and the people that did not"
   ]
  },
  {
   "cell_type": "code",
   "execution_count": null,
   "metadata": {
    "editable": true,
    "remove_code": "non-comments",
    "slideshow": {
     "slide_type": ""
    },
    "tags": []
   },
   "outputs": [],
   "source": [
    "# Select non-cheaters and display the first 7 rows\n"
   ]
  },
  {
   "cell_type": "code",
   "execution_count": null,
   "metadata": {
    "editable": true,
    "remove_code": "non-comments",
    "slideshow": {
     "slide_type": ""
    },
    "tags": []
   },
   "outputs": [],
   "source": [
    "# Select cheaters and display the first 7 rows\n"
   ]
  },
  {
   "cell_type": "markdown",
   "metadata": {
    "editable": false,
    "slideshow": {
     "slide_type": "slide"
    },
    "tags": []
   },
   "source": [
    "## Conducting T-Tests\n",
    "We can now reproduce the analysis of the original publication from 2014"
   ]
  },
  {
   "cell_type": "code",
   "execution_count": null,
   "metadata": {
    "editable": true,
    "remove_code": "after:# Calculate the ttest value for the numberofresponses of cheaters and non-cheaters",
    "slideshow": {
     "slide_type": ""
    },
    "tags": []
   },
   "outputs": [],
   "source": [
    "from scipy.stats import ttest_ind\n",
    "# Calculate the ttest value for the numberofresponses of cheaters and non-cheaters\n",
    "\n",
    "# Calculate the mean and std of number of responses for cheaters and non-cheaters\n"
   ]
  },
  {
   "cell_type": "markdown",
   "metadata": {
    "editable": false,
    "slideshow": {
     "slide_type": "slide"
    },
    "tags": []
   },
   "source": [
    "## The sorting of the data indicates manipulation\n",
    "as found by [Uri, Joe, & Leif (2023): [111] Data Falsificada (Part 3): \"The Cheaters Are Out of Order\"](https://datacolada.org/111)\n",
    "\n",
    "We can have a look by using matplotlib"
   ]
  },
  {
   "cell_type": "code",
   "execution_count": null,
   "metadata": {
    "editable": true,
    "remove_code": "non-comments",
    "slideshow": {
     "slide_type": ""
    },
    "tags": []
   },
   "outputs": [],
   "source": [
    "# Create a plot of index versus number of responses, color by the cheated column\n"
   ]
  },
  {
   "cell_type": "markdown",
   "metadata": {
    "editable": false,
    "slideshow": {
     "slide_type": "slide"
    },
    "tags": []
   },
   "source": [
    "#  So what if the cheaters were originally in order as well\n",
    "\n",
    "We can implement a function that enforces monotonicity (means data can only be lower than the following values)"
   ]
  },
  {
   "cell_type": "code",
   "execution_count": null,
   "metadata": {
    "editable": true,
    "remove_code": "after:# Correct value to min if True",
    "slideshow": {
     "slide_type": ""
    },
    "tags": []
   },
   "outputs": [],
   "source": [
    "import numpy as np\n",
    "\n",
    "# Implement a function by checking if value higher than the min of value + next 4\n",
    "# Correct value to min if True\n",
    "\n",
    "# Apply the function to the cheated values and create a new column ImputedResponses\n",
    "\n",
    "# Fill the missing values for non-cheaters from the original data\n",
    "\n",
    "# Display the original and imputed data\n"
   ]
  },
  {
   "cell_type": "markdown",
   "metadata": {
    "editable": false,
    "slideshow": {
     "slide_type": "slide"
    },
    "tags": []
   },
   "source": [
    "# Visualizing Before and After Imputation\n",
    "With more involved functions we should make sure that our calculation actually worked"
   ]
  },
  {
   "cell_type": "code",
   "execution_count": null,
   "metadata": {
    "editable": true,
    "remove_code": "non-comments",
    "slideshow": {
     "slide_type": ""
    },
    "tags": []
   },
   "outputs": [],
   "source": [
    "# Create a new matplotlib figure to check that the function was successful\n",
    "\n",
    "# Create DataFrame view with cheaters\n",
    "\n",
    "# Plot Original Data\n",
    "\n",
    "# Plot Imputed Data\n"
   ]
  },
  {
   "cell_type": "markdown",
   "metadata": {
    "editable": false,
    "slideshow": {
     "slide_type": "slide"
    },
    "tags": []
   },
   "source": [
    "## Rerun the Statistical Analysis\n",
    "Although we have imputed high (if in doubt take the higher number of responses), the significance has vanished"
   ]
  },
  {
   "cell_type": "code",
   "execution_count": null,
   "metadata": {
    "editable": true,
    "remove_code": "non-comments",
    "slideshow": {
     "slide_type": ""
    },
    "tags": []
   },
   "outputs": [],
   "source": [
    "# Recreate the analysis with the imputed data\n",
    "\n",
    "# Calculate the mean and std of number of responses for cheaters and non-cheaters\n"
   ]
  },
  {
   "cell_type": "markdown",
   "metadata": {
    "editable": false,
    "slideshow": {
     "slide_type": "slide"
    },
    "tags": []
   },
   "source": [
    "## Grouping Data for Analysis for comparison"
   ]
  },
  {
   "cell_type": "code",
   "execution_count": null,
   "metadata": {
    "editable": true,
    "remove_code": "non-comments",
    "slideshow": {
     "slide_type": ""
    },
    "tags": []
   },
   "outputs": [],
   "source": [
    "# 'groupby' cheated and calculate new means\n"
   ]
  },
  {
   "cell_type": "code",
   "execution_count": null,
   "metadata": {
    "editable": true,
    "remove_code": "non-comments",
    "slideshow": {
     "slide_type": ""
    },
    "tags": []
   },
   "outputs": [],
   "source": [
    "# 'groupby' cheated and calculate new standard deviations\n"
   ]
  },
  {
   "cell_type": "markdown",
   "metadata": {
    "slideshow": {
     "slide_type": "slide"
    },
    "editable": false
   },
   "source": [
    "# A final function: Using pd.merge to combine data of different dataframes\n",
    "We will now demonstrate the Pandas merge function. This has nothing to do with the research question. We will however use the data as mock data.\n",
    "\n",
    "Let us say we have a grading scheme for the number of responses, and want to give each participant a grade for their number of responses."
   ]
  },
  {
   "cell_type": "code",
   "execution_count": null,
   "metadata": {
    "editable": true,
    "remove_code": "after: # Merge the grades with the data",
    "slideshow": {
     "slide_type": ""
    },
    "tags": []
   },
   "outputs": [],
   "source": [
    "# Grading scheme\n",
    "grades = pd.DataFrame({\n",
    "    'Numberofresponses': [2, 3,  4,  5,  6,  7,  8,  9, 10, 11, 12, 13, 14],\n",
    "    'Grade': ['F', 'F', 'F', 'D', 'D', 'C', 'C', 'C', 'B', 'B', 'B', 'A', 'A']\n",
    "})\n",
    "\n",
    "# Merge the grades with the data\n"
   ]
  },
  {
   "cell_type": "markdown",
   "metadata": {
    "editable": false,
    "slideshow": {
     "slide_type": "slide"
    },
    "tags": []
   },
   "source": [
    "# Key Takeaways\n",
    "\n",
    "Today, we've covered a wide range of topics in Pandas, aimed at giving you the tools to perform basic data manipulation, analysis, and visualization:\n",
    "\n",
    "1. **Data Loading and Cleaning**: How to load data from various sources and clean it for analysis.\n",
    "2. **Data Selection and Manipulation**: Techniques for selecting, filtering, and adjusting data.\n",
    "3. **Statistical Analysis**: Using t-tests to compare groups within your data.\n",
    "4. **Data Visualization**: Creating plots to visualize data discrepancies and distributions.\n",
    "5. **Grouping Data**: How to segment data for grouped analyses and comparisons.\n",
    "6. **Merging Data**: How to combine data from two different sources.\n"
   ]
  }
 ],
 "metadata": {
  "kernelspec": {
   "display_name": "teaching_data_analysis",
   "language": "python",
   "name": "python3"
  },
  "language_info": {
   "codemirror_mode": {
    "name": "ipython",
    "version": 3
   },
   "file_extension": ".py",
   "mimetype": "text/x-python",
   "name": "python",
   "nbconvert_exporter": "python",
   "pygments_lexer": "ipython3",
   "version": "3.13.2"
  }
 },
 "nbformat": 4,
 "nbformat_minor": 4
}