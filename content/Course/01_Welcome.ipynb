{
 "cells": [
  {
   "cell_type": "markdown",
   "metadata": {
    "editable": false,
    "slideshow": {
     "slide_type": "slide"
    },
    "tags": []
   },
   "source": [
    "# Data Analysis with Python\n",
    "\n",
    "## Course by Advanced Research Computing\n",
    "Tutors: Dmitry Nikolaenko, Jordan Byers, Paul Niklas Ruth, Thomas Flynn"
   ]
  },
  {
   "cell_type": "markdown",
   "metadata": {
    "editable": false,
    "slideshow": {
     "slide_type": "slide"
    }
   },
   "source": [
    "# Introduction\n",
    "Write onto the two sticky notes, which department are you from and what do you hope to get out of this course."
   ]
  },
  {
   "cell_type": "markdown",
   "metadata": {
    "editable": false,
    "slideshow": {
     "slide_type": "slide"
    }
   },
   "source": [
    "# Setting up your Python environment\n",
    "Use one of these possibilities:\n",
    " - https://notebooks.dmaitre.phyip3.dur.ac.uk/arc --> The Jupyter Notebook server set up by Daniel Maitre from the Physics department (log in with your CIS account; the loading process may take some time).\n",
    " - Your own Jupyter Notebook or Jupyter Lab --> If you haven't installed either of them yet, you can do so using pip (Python's package manager) or Conda (a package manager from Anaconda). See an installation script example in the attachment if you already have conda in your system, or follow the installation steps for pip on https://jupyter.org/install.\n",
    " - https://colab.research.google.com/ --> Google Colaboratory is a free cloud-based service hosted by Google. You don't need to worry about installing, all necessary libraries are already provided in the cloud."
   ]
  },
  {
   "cell_type": "markdown",
   "metadata": {
    "editable": false,
    "slideshow": {
     "slide_type": "slide"
    }
   },
   "source": [
    "# Getting the Data\n",
    "\n",
    "- Access https://github.com/DurhamARC-Training/DataAnalysisPython and download the `Course` directory\n",
    "- The `Filled_Course` directory contains the filled in exercises for your reference\n",
    "- There is also a Python script which downloads everything (including the filled notebook) as a ZIP archive and extracts to a folder, if GIT isn't an available option for you:\n",
    "\n",
    "  You can execute \n",
    "  ```bash\n",
    "  wget https://raw.githubusercontent.com/DurhamARC-Training/DataAnalysisPython/main/pull_files_from_repo_dap.py && python pull_files_from_repo_dap.py\n",
    "  ```\n",
    "\n",
    "  This will automatically\n",
    "\n",
    "  a. Download the `pull_files_from_repo_dap.py` file and put it into your environment.\n",
    "\n",
    "  b. Execute `python pull_files_from_repo_dap.py` in the folder."
   ]
  },
  {
   "cell_type": "code",
   "execution_count": null,
   "metadata": {},
   "outputs": [],
   "source": []
  }
 ],
 "metadata": {
  "kernelspec": {
   "display_name": "Python 3 (ipykernel)",
   "language": "python",
   "name": "python3"
  },
  "language_info": {
   "codemirror_mode": {
    "name": "ipython",
    "version": 3
   },
   "file_extension": ".py",
   "mimetype": "text/x-python",
   "name": "python",
   "nbconvert_exporter": "python",
   "pygments_lexer": "ipython3",
   "version": "3.12.3"
  }
 },
 "nbformat": 4,
 "nbformat_minor": 4
}
