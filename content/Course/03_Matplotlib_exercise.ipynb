{
 "cells": [
  {
   "cell_type": "markdown",
   "id": "f9ab6862-0066-401f-af94-bd34a2ea1795",
   "metadata": {
    "editable": false,
    "slideshow": {
     "slide_type": "slide"
    },
    "tags": []
   },
   "source": [
    "# Exercises for using Matplotlib"
   ]
  },
  {
   "cell_type": "markdown",
   "id": "7c725a92-5308-489b-bd5c-24c419704ed9",
   "metadata": {
    "editable": false,
    "slideshow": {
     "slide_type": "subslide"
    },
    "tags": []
   },
   "source": [
    "## Exercise 1: Visualise the points as scatter plots and show the regression line"
   ]
  },
  {
   "cell_type": "markdown",
   "id": "b18dd0cb-f9d8-4c50-9328-5fb057635f0d",
   "metadata": {
    "editable": false,
    "slideshow": {
     "slide_type": ""
    },
    "tags": []
   },
   "source": [
    "### Preparation for Exercise 1"
   ]
  },
  {
   "cell_type": "markdown",
   "id": "bf99b49d-c1ec-4467-845c-0bceb2937176",
   "metadata": {
    "editable": false,
    "slideshow": {
     "slide_type": ""
    },
    "tags": []
   },
   "source": [
    "#### 1) Loading Data from a JSON file"
   ]
  },
  {
   "cell_type": "code",
   "execution_count": null,
   "id": "372825d9-d59a-4a8d-bd62-d47c4049d4bf",
   "metadata": {
    "editable": true,
    "slideshow": {
     "slide_type": ""
    },
    "tags": []
   },
   "outputs": [],
   "source": [
    "# Load json module\n",
    "import json\n",
    "\n",
    "# Create a file open context manager and load dict from JSON\n",
    "json_path = '../Data/exercise/anscombe.json'\n",
    "with open(json_path, 'r') as fobj:\n",
    "    data_dict = json.load(fobj)\n",
    "\n",
    "# Print the data using the items method of the dict\n",
    "for key, value in data_dict.items():\n",
    "    print(key)\n",
    "    print(value)"
   ]
  },
  {
   "cell_type": "markdown",
   "id": "4dbc9cf3-ba57-4c93-901b-ea9ed485b9be",
   "metadata": {
    "editable": false,
    "slideshow": {
     "slide_type": ""
    },
    "tags": []
   },
   "source": [
    "#### 2) Using np.polyfit to generate a linear fit\n",
    "A linear fit is a polynomial of grade 1"
   ]
  },
  {
   "cell_type": "code",
   "execution_count": null,
   "id": "5c6c19fc-bb96-4b60-ab08-15daf15851cd",
   "metadata": {
    "editable": true,
    "slideshow": {
     "slide_type": ""
    },
    "tags": []
   },
   "outputs": [],
   "source": [
    "# Import matplotlib and NumPy\n",
    "import matplotlib.pyplot as plt\n",
    "import numpy as np\n",
    "\n",
    "# Get the first dataset, then get its x and y value\n",
    "dataset = data_dict['dataset1']\n",
    "x = dataset['x']\n",
    "y = dataset['y']\n",
    "\n",
    "# Do the polynomial fit\n",
    "fit = np.polyfit(x, y, 1)\n",
    "print(f'for y = mx + b, m={fit[0]}, b={fit[1]}')\n",
    "\n",
    "# Also get the sum of squared residuals\n",
    "fit, sum_sq_res, *_ = np.polyfit(x, y, 1, full=True)\n",
    "sum_sq_res"
   ]
  },
  {
   "cell_type": "markdown",
   "id": "3c96fd42-669b-4b4b-8034-afbb9be176fe",
   "metadata": {
    "editable": false,
    "slideshow": {
     "slide_type": "fragment"
    },
    "tags": []
   },
   "source": [
    "### **Task** for Exercise 1:\n",
    "We can use [`np.polyfit`](https://numpy.org/doc/stable/reference/generated/numpy.polyfit.html) for a simple linear regression. Use this to visualise and fit [Anscombe's quartett](https://www.jstor.org/stable/2682899?seq=4) (compare your results with figures 1-4 in the article) using the data located in `exercise_data/anscombe.json`.\n",
    "\n",
    "Visualise the points as scatter plots and show the regression line. Give labels to the axes and try to vary the colors of the individual components. If you want, you can also create a separate plot for the fitting statistics. For the reference about the plot types in Matplotlib (including scatter plots) look [here](https://matplotlib.org/stable/plot_types/index.html)."
   ]
  },
  {
   "cell_type": "code",
   "execution_count": null,
   "id": "67d23485-6271-4ce4-a3f2-7aeed68229bb",
   "metadata": {
    "editable": true,
    "remove_code": "non-comments",
    "slideshow": {
     "slide_type": ""
    },
    "tags": []
   },
   "outputs": [],
   "source": [
    "# Your solution here\n"
   ]
  },
  {
   "cell_type": "markdown",
   "id": "026ffe9b-ce7d-4256-bd6e-ad9e7e98f77e",
   "metadata": {
    "editable": false,
    "slideshow": {
     "slide_type": "subslide"
    },
    "tags": []
   },
   "source": [
    "## Exercise 2: Create your own style"
   ]
  },
  {
   "cell_type": "markdown",
   "id": "8a72f158-6a42-4c83-a30b-fbc300080bde",
   "metadata": {
    "editable": false,
    "slideshow": {
     "slide_type": ""
    },
    "tags": []
   },
   "source": [
    "### **Task 1**: Create a mock of graphs from your field\n",
    "\n",
    "Create a selection of graphs using `np.linspace`, `np.random.rand` and the NumPy functions that are somewhat representative of a figure you might publish."
   ]
  },
  {
   "cell_type": "code",
   "execution_count": null,
   "id": "82dc5b21-7022-4eb2-9dbe-fd2175dccfcb",
   "metadata": {
    "editable": true,
    "remove_code": "non-comments",
    "slideshow": {
     "slide_type": ""
    },
    "tags": []
   },
   "outputs": [],
   "source": [
    "# Create data for x1 and y1 using 'np.linspace' and the numpy functions\n",
    "\n",
    "# Create data for x2 and y2 using 'np.linspace' and the numpy functions\n",
    "\n",
    "# Create random data y3a and y3b from x1 using 'np.random.rand'\n",
    "\n",
    "# Create meshgrid xx and yy and data zz\n",
    "\n",
    "# Create figure and axes\n",
    "\n",
    "# Plot data y1 on subplot(0,0), y2 on subplot(0,1), y3a and y3b on subplot(1,0), zz on subplot(1,1)\n"
   ]
  },
  {
   "cell_type": "markdown",
   "id": "30924879-3237-44b2-b691-f63a1f80a67e",
   "metadata": {
    "editable": false,
    "slideshow": {
     "slide_type": ""
    },
    "tags": []
   },
   "source": [
    "### **Task 2**: Try to build a presentation style and a publication style that fits your needs\n",
    "\n",
    "Available options can be found [here](https://github.com/matplotlib/matplotlib/blob/v3.8.4/lib/matplotlib/mpl-data/matplotlibrc). "
   ]
  }
 ],
 "metadata": {
  "kernelspec": {
   "display_name": "Python 3 (ipykernel)",
   "language": "python",
   "name": "python3"
  },
  "language_info": {
   "codemirror_mode": {
    "name": "ipython",
    "version": 3
   },
   "file_extension": ".py",
   "mimetype": "text/x-python",
   "name": "python",
   "nbconvert_exporter": "python",
   "pygments_lexer": "ipython3",
   "version": "3.13.0"
  }
 },
 "nbformat": 4,
 "nbformat_minor": 5
}