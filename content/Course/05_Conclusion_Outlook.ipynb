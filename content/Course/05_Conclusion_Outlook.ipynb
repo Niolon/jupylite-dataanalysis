{
 "cells": [
  {
   "cell_type": "markdown",
   "metadata": {
    "editable": true,
    "slideshow": {
     "slide_type": ""
    },
    "tags": []
   },
   "source": [
    "# Conclusion\n",
    "\n",
    " - I hope you have gotten an introduction into calculating with Python\n",
    " - It is normal to make many mistakes at the beginning, that number goes down with time"
   ]
  },
  {
   "cell_type": "markdown",
   "metadata": {
    "slideshow": {
     "slide_type": "slide"
    }
   },
   "source": [
    "# Some lessons I learned painfully\n",
    "- If you are copying a lot of code within a notebook, create a function\n",
    "- If you are copying a lot of long notebooks, create a module.\n",
    "- Type hints and docstrings are favours you can do to your future you\n",
    "- Version control with Git is your friend, locally or in a Github repository\n",
    "- If you work with code you want to use for multiple problems look into testing (e.g. pytest)\n"
   ]
  },
  {
   "cell_type": "code",
   "execution_count": null,
   "metadata": {
    "vscode": {
     "languageId": "plaintext"
    }
   },
   "outputs": [],
   "source": []
  },
  {
   "cell_type": "markdown",
   "metadata": {
    "editable": true,
    "slideshow": {
     "slide_type": "slide"
    },
    "tags": []
   },
   "source": [
    "# Next steps in the analysis"
   ]
  },
  {
   "cell_type": "markdown",
   "metadata": {
    "slideshow": {
     "slide_type": "slide"
    }
   },
   "source": [
    "## [SciPy.optimize](https://docs.scipy.org/doc/scipy/reference/optimize.html)\n",
    " - General purpose fitting library\n",
    " - Can do non-linear least-squares\n",
    " - Very efficient if you can provide analytical derivatives\n",
    " - Also works with finite difference numerical derivatives, performance is very problem specific\n",
    " \n",
    "General SciPy is also worth a look (e.g. numerical integration, fft...)"
   ]
  },
  {
   "cell_type": "markdown",
   "metadata": {
    "slideshow": {
     "slide_type": "slide"
    }
   },
   "source": [
    "## [JAX](https://jax.readthedocs.io/en/latest/)\n",
    " - NumPy style syntax\n",
    " - Just-in-time compilation for faster execution, including on GPUs\n",
    " - Analytical derivatives for Python functions\n"
   ]
  },
  {
   "cell_type": "markdown",
   "metadata": {},
   "source": [
    "## [Seaborn](https://seaborn.pydata.org/)\n",
    " - Based on Matplotlib\n",
    " - Focused on clear data visualisation\n",
    " - [`seaborn.objects`](https://seaborn.pydata.org/tutorial/objects_interface.html) follows [Grammar of Graphics](https://towardsdatascience.com/a-comprehensive-guide-to-the-grammar-of-graphics-for-effective-visualization-of-multi-dimensional-1f92b4ed4149/)"
   ]
  },
  {
   "cell_type": "markdown",
   "metadata": {},
   "source": [
    "## [Plotly (for Python)](https://plotly.com/python/)\n",
    " - Data visualisation library focused on buildings interactive plots\n",
    " - Users can build local web applications\n",
    " - This may be of interest if you are making data visualisation that is *public facing*"
   ]
  },
  {
   "cell_type": "markdown",
   "metadata": {},
   "source": [
    "## [Vega-Altair](https://altair-viz.github.io/index.html#)\n",
    " - A newer data visualisation library built around a 'simpler' interface\n",
    " - Can also be used for building interactive plots\n",
    " - (Recommended to us by data visualisation experts!)"
   ]
  },
  {
   "cell_type": "markdown",
   "metadata": {},
   "source": [
    "## [scikit-learn](https://scikit-learn.org/stable/index.html)\n",
    " - The **go to** Python library for introductory machine learning\n",
    " - Builds on NumPy and Matplotlib which you have learned about today"
   ]
  },
  {
   "cell_type": "markdown",
   "metadata": {
    "slideshow": {
     "slide_type": "slide"
    }
   },
   "source": [
    "# All the specialised libraries from your field \n",
    "(Sorry I could only list the ones from Chemistry/Crystallography)"
   ]
  },
  {
   "cell_type": "markdown",
   "metadata": {
    "slideshow": {
     "slide_type": "slide"
    }
   },
   "source": [
    "# Finally, Fill in your attendance and do the evaluation\n",
    " - We have only conducted this course a few times, so feedback is welcome.\n",
    " "
   ]
  },
  {
   "cell_type": "markdown",
   "metadata": {},
   "source": []
  }
 ],
 "metadata": {
  "kernelspec": {
   "display_name": "Python 3 (ipykernel)",
   "language": "python",
   "name": "python3"
  },
  "language_info": {
   "codemirror_mode": {
    "name": "ipython",
    "version": 3
   },
   "file_extension": ".py",
   "mimetype": "text/x-python",
   "name": "python",
   "nbconvert_exporter": "python",
   "pygments_lexer": "ipython3",
   "version": "3.12.3"
  }
 },
 "nbformat": 4,
 "nbformat_minor": 4
}
