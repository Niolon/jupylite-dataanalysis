{
 "cells": [
  {
   "cell_type": "markdown",
   "metadata": {},
   "source": [
    "# Pandas Exercise\n",
    "\n",
    "First import pandas"
   ]
  },
  {
   "cell_type": "code",
   "execution_count": 2,
   "metadata": {
    "remove_code": "non-comments"
   },
   "outputs": [],
   "source": [
    "# Import pandas\n",
    "import pandas as pd"
   ]
  },
  {
   "cell_type": "markdown",
   "metadata": {},
   "source": [
    "\n",
    "For this exercise, you will retrace another [post from the DataColada blog](https://datacolada.org/110), that looks at [this publication](https://journals.sagepub.com/doi/abs/10.1177/0956797615575277).\n",
    "\n",
    "After being asked to express their opinion on a local campus issue at Harvard University, students were then tasked with arguing for or against their own opinion. The hypothesis was that this would increase the desire for cleansing products.\n",
    "\n",
    "### Task 1: Import Data\n",
    "- **Loading the data into pandas**. For this experiment, you will load a CSV file containing responses from the survey. This data includes demographic information and participants' ratings of cleansing products.\n",
    "- **Commands to use**: Use `pd.read_csv()` to load your dataset into a pandas DataFrame. The file is located in `../Data/exercise/Gino_Kouchaki_Galinsky_Study_4_Data.csv`\n"
   ]
  },
  {
   "cell_type": "code",
   "execution_count": 3,
   "metadata": {
    "remove_code": "non-comments"
   },
   "outputs": [],
   "source": [
    "# Load dataset into a pandas DataFrame\n",
    "df = pd.read_csv('../Data/exercise/Gino_Kouchaki_Galinsky_Study_4_Data.csv')"
   ]
  },
  {
   "cell_type": "markdown",
   "metadata": {},
   "source": [
    "\n",
    "### Task 2: Preliminary Data Inspection\n",
    "- **Understand the structure**: Examine the first few rows to get an idea of the available data. Find the tables with the aggregated data: `av_products_clean` (average rating of cleansing products) and `condition`, where pro-attitudinal people agreeing with the choice they were making\n",
    "- **Commands to use**: Use `df.columns` to look at the available columns, as well as `df.head()` and `df.describe().T`\n"
   ]
  },
  {
   "cell_type": "code",
   "execution_count": 4,
   "metadata": {
    "remove_code": "non-comments"
   },
   "outputs": [
    {
     "data": {
      "text/html": [
       "<div>\n",
       "<style scoped>\n",
       "    .dataframe tbody tr th:only-of-type {\n",
       "        vertical-align: middle;\n",
       "    }\n",
       "\n",
       "    .dataframe tbody tr th {\n",
       "        vertical-align: top;\n",
       "    }\n",
       "\n",
       "    .dataframe thead th {\n",
       "        text-align: right;\n",
       "    }\n",
       "</style>\n",
       "<table border=\"1\" class=\"dataframe\">\n",
       "  <thead>\n",
       "    <tr style=\"text-align: right;\">\n",
       "      <th></th>\n",
       "      <th>count</th>\n",
       "      <th>mean</th>\n",
       "      <th>std</th>\n",
       "      <th>min</th>\n",
       "      <th>25%</th>\n",
       "      <th>50%</th>\n",
       "      <th>75%</th>\n",
       "      <th>max</th>\n",
       "    </tr>\n",
       "  </thead>\n",
       "  <tbody>\n",
       "    <tr>\n",
       "      <th>Unnamed: 0</th>\n",
       "      <td>491.0</td>\n",
       "      <td>246.000000</td>\n",
       "      <td>141.883755</td>\n",
       "      <td>1.0</td>\n",
       "      <td>123.50</td>\n",
       "      <td>246.0</td>\n",
       "      <td>368.5</td>\n",
       "      <td>491.0</td>\n",
       "    </tr>\n",
       "    <tr>\n",
       "      <th>instr</th>\n",
       "      <td>491.0</td>\n",
       "      <td>1.000000</td>\n",
       "      <td>0.000000</td>\n",
       "      <td>1.0</td>\n",
       "      <td>1.00</td>\n",
       "      <td>1.0</td>\n",
       "      <td>1.0</td>\n",
       "      <td>1.0</td>\n",
       "    </tr>\n",
       "    <tr>\n",
       "      <th>college_student</th>\n",
       "      <td>491.0</td>\n",
       "      <td>1.000000</td>\n",
       "      <td>0.000000</td>\n",
       "      <td>1.0</td>\n",
       "      <td>1.00</td>\n",
       "      <td>1.0</td>\n",
       "      <td>1.0</td>\n",
       "      <td>1.0</td>\n",
       "    </tr>\n",
       "    <tr>\n",
       "      <th>inFavor_inclusion_diffRating_in_Qguide</th>\n",
       "      <td>491.0</td>\n",
       "      <td>0.947047</td>\n",
       "      <td>0.224168</td>\n",
       "      <td>0.0</td>\n",
       "      <td>1.00</td>\n",
       "      <td>1.0</td>\n",
       "      <td>1.0</td>\n",
       "      <td>1.0</td>\n",
       "    </tr>\n",
       "    <tr>\n",
       "      <th>strongOpin</th>\n",
       "      <td>491.0</td>\n",
       "      <td>5.914460</td>\n",
       "      <td>1.240809</td>\n",
       "      <td>1.0</td>\n",
       "      <td>5.00</td>\n",
       "      <td>6.0</td>\n",
       "      <td>7.0</td>\n",
       "      <td>7.0</td>\n",
       "    </tr>\n",
       "    <tr>\n",
       "      <th>age</th>\n",
       "      <td>491.0</td>\n",
       "      <td>20.424644</td>\n",
       "      <td>1.901510</td>\n",
       "      <td>17.0</td>\n",
       "      <td>19.00</td>\n",
       "      <td>20.0</td>\n",
       "      <td>21.0</td>\n",
       "      <td>36.0</td>\n",
       "    </tr>\n",
       "    <tr>\n",
       "      <th>male</th>\n",
       "      <td>491.0</td>\n",
       "      <td>0.448065</td>\n",
       "      <td>0.533425</td>\n",
       "      <td>0.0</td>\n",
       "      <td>0.00</td>\n",
       "      <td>0.0</td>\n",
       "      <td>1.0</td>\n",
       "      <td>3.0</td>\n",
       "    </tr>\n",
       "    <tr>\n",
       "      <th>instr_A</th>\n",
       "      <td>490.0</td>\n",
       "      <td>1.000000</td>\n",
       "      <td>0.000000</td>\n",
       "      <td>1.0</td>\n",
       "      <td>1.00</td>\n",
       "      <td>1.0</td>\n",
       "      <td>1.0</td>\n",
       "      <td>1.0</td>\n",
       "    </tr>\n",
       "    <tr>\n",
       "      <th>product_clean1</th>\n",
       "      <td>490.0</td>\n",
       "      <td>4.500000</td>\n",
       "      <td>1.840523</td>\n",
       "      <td>1.0</td>\n",
       "      <td>3.00</td>\n",
       "      <td>5.0</td>\n",
       "      <td>6.0</td>\n",
       "      <td>7.0</td>\n",
       "    </tr>\n",
       "    <tr>\n",
       "      <th>product_neutral1</th>\n",
       "      <td>490.0</td>\n",
       "      <td>4.463265</td>\n",
       "      <td>1.732546</td>\n",
       "      <td>1.0</td>\n",
       "      <td>3.00</td>\n",
       "      <td>5.0</td>\n",
       "      <td>6.0</td>\n",
       "      <td>7.0</td>\n",
       "    </tr>\n",
       "    <tr>\n",
       "      <th>product_neutral2</th>\n",
       "      <td>490.0</td>\n",
       "      <td>4.351020</td>\n",
       "      <td>2.058264</td>\n",
       "      <td>1.0</td>\n",
       "      <td>3.00</td>\n",
       "      <td>4.0</td>\n",
       "      <td>6.0</td>\n",
       "      <td>7.0</td>\n",
       "    </tr>\n",
       "    <tr>\n",
       "      <th>product_clean2</th>\n",
       "      <td>490.0</td>\n",
       "      <td>4.463265</td>\n",
       "      <td>1.771069</td>\n",
       "      <td>1.0</td>\n",
       "      <td>3.00</td>\n",
       "      <td>5.0</td>\n",
       "      <td>6.0</td>\n",
       "      <td>7.0</td>\n",
       "    </tr>\n",
       "    <tr>\n",
       "      <th>product_clean3</th>\n",
       "      <td>490.0</td>\n",
       "      <td>3.300000</td>\n",
       "      <td>1.860635</td>\n",
       "      <td>1.0</td>\n",
       "      <td>2.00</td>\n",
       "      <td>3.0</td>\n",
       "      <td>5.0</td>\n",
       "      <td>7.0</td>\n",
       "    </tr>\n",
       "    <tr>\n",
       "      <th>product_neutral3</th>\n",
       "      <td>490.0</td>\n",
       "      <td>3.746939</td>\n",
       "      <td>1.885593</td>\n",
       "      <td>1.0</td>\n",
       "      <td>2.00</td>\n",
       "      <td>4.0</td>\n",
       "      <td>5.0</td>\n",
       "      <td>7.0</td>\n",
       "    </tr>\n",
       "    <tr>\n",
       "      <th>product_clean4</th>\n",
       "      <td>490.0</td>\n",
       "      <td>4.326531</td>\n",
       "      <td>1.860006</td>\n",
       "      <td>1.0</td>\n",
       "      <td>3.00</td>\n",
       "      <td>5.0</td>\n",
       "      <td>6.0</td>\n",
       "      <td>7.0</td>\n",
       "    </tr>\n",
       "    <tr>\n",
       "      <th>product_neutral4</th>\n",
       "      <td>490.0</td>\n",
       "      <td>2.259184</td>\n",
       "      <td>1.693295</td>\n",
       "      <td>1.0</td>\n",
       "      <td>1.00</td>\n",
       "      <td>2.0</td>\n",
       "      <td>3.0</td>\n",
       "      <td>7.0</td>\n",
       "    </tr>\n",
       "    <tr>\n",
       "      <th>product_neutral5</th>\n",
       "      <td>490.0</td>\n",
       "      <td>4.012245</td>\n",
       "      <td>2.164940</td>\n",
       "      <td>1.0</td>\n",
       "      <td>2.00</td>\n",
       "      <td>4.0</td>\n",
       "      <td>6.0</td>\n",
       "      <td>7.0</td>\n",
       "    </tr>\n",
       "    <tr>\n",
       "      <th>product_clean5</th>\n",
       "      <td>490.0</td>\n",
       "      <td>3.861224</td>\n",
       "      <td>1.939031</td>\n",
       "      <td>1.0</td>\n",
       "      <td>2.00</td>\n",
       "      <td>4.0</td>\n",
       "      <td>5.0</td>\n",
       "      <td>7.0</td>\n",
       "    </tr>\n",
       "    <tr>\n",
       "      <th>selfAliena_1</th>\n",
       "      <td>490.0</td>\n",
       "      <td>2.600000</td>\n",
       "      <td>1.483102</td>\n",
       "      <td>1.0</td>\n",
       "      <td>1.00</td>\n",
       "      <td>2.0</td>\n",
       "      <td>3.0</td>\n",
       "      <td>7.0</td>\n",
       "    </tr>\n",
       "    <tr>\n",
       "      <th>selfAliena_2</th>\n",
       "      <td>490.0</td>\n",
       "      <td>2.265306</td>\n",
       "      <td>1.300865</td>\n",
       "      <td>1.0</td>\n",
       "      <td>1.00</td>\n",
       "      <td>2.0</td>\n",
       "      <td>3.0</td>\n",
       "      <td>7.0</td>\n",
       "    </tr>\n",
       "    <tr>\n",
       "      <th>selfAliena_3</th>\n",
       "      <td>490.0</td>\n",
       "      <td>2.408163</td>\n",
       "      <td>1.485008</td>\n",
       "      <td>1.0</td>\n",
       "      <td>1.00</td>\n",
       "      <td>2.0</td>\n",
       "      <td>3.0</td>\n",
       "      <td>7.0</td>\n",
       "    </tr>\n",
       "    <tr>\n",
       "      <th>selfAliena_4</th>\n",
       "      <td>490.0</td>\n",
       "      <td>2.265306</td>\n",
       "      <td>1.433966</td>\n",
       "      <td>1.0</td>\n",
       "      <td>1.00</td>\n",
       "      <td>2.0</td>\n",
       "      <td>3.0</td>\n",
       "      <td>7.0</td>\n",
       "    </tr>\n",
       "    <tr>\n",
       "      <th>amountChoice_writing_essay</th>\n",
       "      <td>490.0</td>\n",
       "      <td>3.889796</td>\n",
       "      <td>2.214494</td>\n",
       "      <td>1.0</td>\n",
       "      <td>2.00</td>\n",
       "      <td>4.0</td>\n",
       "      <td>6.0</td>\n",
       "      <td>7.0</td>\n",
       "    </tr>\n",
       "    <tr>\n",
       "      <th>av_products_clean</th>\n",
       "      <td>490.0</td>\n",
       "      <td>4.084898</td>\n",
       "      <td>1.451146</td>\n",
       "      <td>1.0</td>\n",
       "      <td>3.00</td>\n",
       "      <td>4.2</td>\n",
       "      <td>5.0</td>\n",
       "      <td>7.0</td>\n",
       "    </tr>\n",
       "    <tr>\n",
       "      <th>av_products_neutral</th>\n",
       "      <td>490.0</td>\n",
       "      <td>3.766531</td>\n",
       "      <td>1.232228</td>\n",
       "      <td>1.0</td>\n",
       "      <td>3.00</td>\n",
       "      <td>3.8</td>\n",
       "      <td>4.6</td>\n",
       "      <td>7.0</td>\n",
       "    </tr>\n",
       "    <tr>\n",
       "      <th>self_alienation</th>\n",
       "      <td>490.0</td>\n",
       "      <td>2.384694</td>\n",
       "      <td>1.264677</td>\n",
       "      <td>1.0</td>\n",
       "      <td>1.25</td>\n",
       "      <td>2.0</td>\n",
       "      <td>3.0</td>\n",
       "      <td>7.0</td>\n",
       "    </tr>\n",
       "    <tr>\n",
       "      <th>amount_choice</th>\n",
       "      <td>490.0</td>\n",
       "      <td>3.889796</td>\n",
       "      <td>2.214494</td>\n",
       "      <td>1.0</td>\n",
       "      <td>2.00</td>\n",
       "      <td>4.0</td>\n",
       "      <td>6.0</td>\n",
       "      <td>7.0</td>\n",
       "    </tr>\n",
       "    <tr>\n",
       "      <th>cond_Num</th>\n",
       "      <td>491.0</td>\n",
       "      <td>0.985743</td>\n",
       "      <td>0.819283</td>\n",
       "      <td>0.0</td>\n",
       "      <td>0.00</td>\n",
       "      <td>1.0</td>\n",
       "      <td>2.0</td>\n",
       "      <td>2.0</td>\n",
       "    </tr>\n",
       "  </tbody>\n",
       "</table>\n",
       "</div>"
      ],
      "text/plain": [
       "                                        count        mean         std   min  \\\n",
       "Unnamed: 0                              491.0  246.000000  141.883755   1.0   \n",
       "instr                                   491.0    1.000000    0.000000   1.0   \n",
       "college_student                         491.0    1.000000    0.000000   1.0   \n",
       "inFavor_inclusion_diffRating_in_Qguide  491.0    0.947047    0.224168   0.0   \n",
       "strongOpin                              491.0    5.914460    1.240809   1.0   \n",
       "age                                     491.0   20.424644    1.901510  17.0   \n",
       "male                                    491.0    0.448065    0.533425   0.0   \n",
       "instr_A                                 490.0    1.000000    0.000000   1.0   \n",
       "product_clean1                          490.0    4.500000    1.840523   1.0   \n",
       "product_neutral1                        490.0    4.463265    1.732546   1.0   \n",
       "product_neutral2                        490.0    4.351020    2.058264   1.0   \n",
       "product_clean2                          490.0    4.463265    1.771069   1.0   \n",
       "product_clean3                          490.0    3.300000    1.860635   1.0   \n",
       "product_neutral3                        490.0    3.746939    1.885593   1.0   \n",
       "product_clean4                          490.0    4.326531    1.860006   1.0   \n",
       "product_neutral4                        490.0    2.259184    1.693295   1.0   \n",
       "product_neutral5                        490.0    4.012245    2.164940   1.0   \n",
       "product_clean5                          490.0    3.861224    1.939031   1.0   \n",
       "selfAliena_1                            490.0    2.600000    1.483102   1.0   \n",
       "selfAliena_2                            490.0    2.265306    1.300865   1.0   \n",
       "selfAliena_3                            490.0    2.408163    1.485008   1.0   \n",
       "selfAliena_4                            490.0    2.265306    1.433966   1.0   \n",
       "amountChoice_writing_essay              490.0    3.889796    2.214494   1.0   \n",
       "av_products_clean                       490.0    4.084898    1.451146   1.0   \n",
       "av_products_neutral                     490.0    3.766531    1.232228   1.0   \n",
       "self_alienation                         490.0    2.384694    1.264677   1.0   \n",
       "amount_choice                           490.0    3.889796    2.214494   1.0   \n",
       "cond_Num                                491.0    0.985743    0.819283   0.0   \n",
       "\n",
       "                                           25%    50%    75%    max  \n",
       "Unnamed: 0                              123.50  246.0  368.5  491.0  \n",
       "instr                                     1.00    1.0    1.0    1.0  \n",
       "college_student                           1.00    1.0    1.0    1.0  \n",
       "inFavor_inclusion_diffRating_in_Qguide    1.00    1.0    1.0    1.0  \n",
       "strongOpin                                5.00    6.0    7.0    7.0  \n",
       "age                                      19.00   20.0   21.0   36.0  \n",
       "male                                      0.00    0.0    1.0    3.0  \n",
       "instr_A                                   1.00    1.0    1.0    1.0  \n",
       "product_clean1                            3.00    5.0    6.0    7.0  \n",
       "product_neutral1                          3.00    5.0    6.0    7.0  \n",
       "product_neutral2                          3.00    4.0    6.0    7.0  \n",
       "product_clean2                            3.00    5.0    6.0    7.0  \n",
       "product_clean3                            2.00    3.0    5.0    7.0  \n",
       "product_neutral3                          2.00    4.0    5.0    7.0  \n",
       "product_clean4                            3.00    5.0    6.0    7.0  \n",
       "product_neutral4                          1.00    2.0    3.0    7.0  \n",
       "product_neutral5                          2.00    4.0    6.0    7.0  \n",
       "product_clean5                            2.00    4.0    5.0    7.0  \n",
       "selfAliena_1                              1.00    2.0    3.0    7.0  \n",
       "selfAliena_2                              1.00    2.0    3.0    7.0  \n",
       "selfAliena_3                              1.00    2.0    3.0    7.0  \n",
       "selfAliena_4                              1.00    2.0    3.0    7.0  \n",
       "amountChoice_writing_essay                2.00    4.0    6.0    7.0  \n",
       "av_products_clean                         3.00    4.2    5.0    7.0  \n",
       "av_products_neutral                       3.00    3.8    4.6    7.0  \n",
       "self_alienation                           1.25    2.0    3.0    7.0  \n",
       "amount_choice                             2.00    4.0    6.0    7.0  \n",
       "cond_Num                                  0.00    1.0    2.0    2.0  "
      ]
     },
     "execution_count": 4,
     "metadata": {},
     "output_type": "execute_result"
    }
   ],
   "source": [
    "# Generate descriptive statistics\n",
    "df.describe().T"
   ]
  },
  {
   "cell_type": "markdown",
   "metadata": {},
   "source": [
    "### Task 3 Calculating the p-value for the original hypothesis\n",
    " - **Reproduce the originally reported significance**: Calculate the difference of averages in the desire for cleansing products between the group that did or did not argue against their conviction, as well as the p-value.\n",
    " - **Commands to use**: conditional selection, `ttest_ind` from `scipy.stats`, as well as mean and std"
   ]
  },
  {
   "cell_type": "code",
   "execution_count": 13,
   "metadata": {
    "remove_code": "after:# Conducting two-sample ttest"
   },
   "outputs": [
    {
     "data": {
      "text/plain": [
       "(3.9321247114067943, 9.638791093383013e-05)"
      ]
     },
     "execution_count": 13,
     "metadata": {},
     "output_type": "execute_result"
    }
   ],
   "source": [
    "from scipy.stats import ttest_ind\n",
    "# Conducting two-sample ttest\n",
    "t_stat, p_value = ttest_ind(\n",
    "    df.loc[df['condition'] != 'ProAttitudinal', 'av_products_clean'].dropna(),\n",
    "    df.loc[df['condition'] == 'ProAttitudinal', 'av_products_clean'].dropna()\n",
    ")\n",
    "t_stat, p_value"
   ]
  },
  {
   "cell_type": "code",
   "execution_count": 10,
   "metadata": {
    "remove_code": "non-comments"
   },
   "outputs": [
    {
     "data": {
      "text/plain": [
       "(3.721739130434783, 4.262613981762918)"
      ]
     },
     "execution_count": 10,
     "metadata": {},
     "output_type": "execute_result"
    }
   ],
   "source": [
    "# Use 'loc' with conditions \n",
    "df.loc[df['condition'] == 'ProAttitudinal', 'av_products_clean'].mean(), df.loc[df['condition'] != 'ProAttitudinal', 'av_products_clean'].mean()"
   ]
  },
  {
   "cell_type": "markdown",
   "metadata": {},
   "source": [
    "### Task 4: Finding the suspect values\n",
    "- **Find the suspect values within the dataset**: Assess how students have responded to the 'yearSchool' question (*What year are you in your university?*), can you spot the answer that does not make sense (*try looking at the blog*). How long are the strings?\n",
    "- **Commands to use**: `df['yearSchool'].unique()`, and `df['yearSchool'].value_counts()` to display the first few rows and analyze the responses in the 'yearSchool' column."
   ]
  },
  {
   "cell_type": "code",
   "execution_count": 15,
   "metadata": {
    "remove_code": "non-comments"
   },
   "outputs": [
    {
     "data": {
      "text/plain": [
       "array(['senior                                            ',\n",
       "       'Junior                                            ',\n",
       "       'Freshman                                          ',\n",
       "       'Senior                                            ',\n",
       "       'Freshman (Class of 2018)                          ',\n",
       "       '2nd                                               ',\n",
       "       '3rd                                               ',\n",
       "       'Freshman (First Year)                             ',\n",
       "       '2016                                              ',\n",
       "       '2015                                              ',\n",
       "       'Sophomore                                         ',\n",
       "       'sophomore                                         ',\n",
       "       'Junior (2016)                                     ',\n",
       "       '2018                                              ',\n",
       "       '2017                                              ',\n",
       "       '3rd year, class of 2016                           ',\n",
       "       '3                                                 ',\n",
       "       'Junior 2nd term                                   ',\n",
       "       'junior                                            ',\n",
       "       '1                                                 ',\n",
       "       '2105                                              ',\n",
       "       'freshman                                          ',\n",
       "       'Sophmore                                          ',\n",
       "       'Freshman Class of 2018                            ',\n",
       "       '4                                                 ',\n",
       "       \"Sophomore ('17)                                   \",\n",
       "       'Class of 2017                                     ',\n",
       "       '3rd yr                                            ',\n",
       "       'junior (class of 2016)                            ',\n",
       "       '2                                                 ',\n",
       "       'jumior                                            ',\n",
       "       'Sophomore (2017)                                  ',\n",
       "       '3rd year - Class of 2016                          ',\n",
       "       'Sophomore-Class of 2017                           ',\n",
       "       '2017; sophomore                                   ',\n",
       "       'Graduate student                                  ',\n",
       "       'Soph                                              ',\n",
       "       '2016, Junior                                      ',\n",
       "       'Junior (although I may activate Advanced Standing)',\n",
       "       'Sophomore (class of 2017)                         ',\n",
       "       'soph                                              ',\n",
       "       'Junior, 2016                                      ',\n",
       "       'Senior (2015)                                     ',\n",
       "       'Junior (3)                                        ',\n",
       "       'Freshman (1st)                                    ',\n",
       "       'Sophomore Undergraduate                           ',\n",
       "       '2015 Senior                                       ',\n",
       "       '2nd year                                          ',\n",
       "       '2011                                              ',\n",
       "       'Sophomore (Year 2)                                ',\n",
       "       '5                                                 ',\n",
       "       '2016 (junior)                                     ',\n",
       "       'JUNIOR                                            ',\n",
       "       'Dental Medicine                                   ',\n",
       "       'Senior, 2015                                      ',\n",
       "       '4th                                               ',\n",
       "       '15                                                ',\n",
       "       'Senior (Class of 2015)                            ',\n",
       "       'harvard                                           ',\n",
       "       'Harvard                                           ',\n",
       "       '2015/Senior                                       ',\n",
       "       '2010                                              ',\n",
       "       '2013                                              ',\n",
       "       '2012                                              ',\n",
       "       '2014                                              ',\n",
       "       '2, sophomore                                      '], dtype=object)"
      ]
     },
     "execution_count": 15,
     "metadata": {},
     "output_type": "execute_result"
    }
   ],
   "source": [
    "df['yearSchool'].unique()"
   ]
  },
  {
   "cell_type": "markdown",
   "metadata": {},
   "source": [
    "\n",
    "### Task 5: Data Cleaning\n",
    "- **Normalize the 'yearSchool' entries**: Remove leading/trailing spaces, convert to lower case and create a binary column to flag responses that anomalously say 'Harvard'—this is suspected to be a data tampering indicator.\n",
    "- **Commands to use**: Utilize the `str.strip()` attribute of a `pd.Series`, and the `str.lower()` attribute of a series to mark the suspect data\n"
   ]
  },
  {
   "cell_type": "code",
   "execution_count": 18,
   "metadata": {
    "remove_code": "non-comments"
   },
   "outputs": [],
   "source": [
    "df['suspect'] = df['yearSchool'].str.strip().str.lower() == 'harvard'"
   ]
  },
  {
   "cell_type": "code",
   "execution_count": 19,
   "metadata": {
    "remove_code": "non-comments"
   },
   "outputs": [
    {
     "data": {
      "text/plain": [
       "20"
      ]
     },
     "execution_count": 19,
     "metadata": {},
     "output_type": "execute_result"
    }
   ],
   "source": [
    "df['suspect'].sum()"
   ]
  },
  {
   "cell_type": "markdown",
   "metadata": {},
   "source": [
    "\n",
    "### Task 6: Descriptive Statistics\n",
    "- **Basic Statistics**: Calculate the mean and standard deviation of the ratings for cleansing products for each survey condition.\n",
    "- **Commands to use**: Apply `df.groupby()`, `df.mean()`, and `df.std()` to group the data by condition and calculate these statistics.\n"
   ]
  },
  {
   "cell_type": "code",
   "execution_count": 20,
   "metadata": {
    "remove_code": "after:# Group the data by condition and calculate the statistics"
   },
   "outputs": [
    {
     "data": {
      "text/plain": [
       "argued_conviction  suspect\n",
       "False              False      4.140952\n",
       "                   True       7.000000\n",
       "True               False      3.771613\n",
       "                   True       2.433333\n",
       "Name: av_products_clean, dtype: float64"
      ]
     },
     "execution_count": 20,
     "metadata": {},
     "output_type": "execute_result"
    }
   ],
   "source": [
    "df['argued_conviction'] = df['condition'] == 'ProAttitudinal'\n",
    "# Group the data by condition and calculate the statistics\n",
    "df.groupby(['argued_conviction', 'suspect'])['av_products_clean'].mean()"
   ]
  },
  {
   "cell_type": "markdown",
   "metadata": {},
   "source": [
    "\n",
    "### Task 7: Visualization\n",
    "- **Plot the average ratings of cleansing products**: Distinguish between 'Harvard' and non-'Harvard' responses, to visualize potential impacts of the suspected tampered data.\n",
    "- **Commands to use**: Configure `plt.subplots()`, `ax.hist()`, and `plt.show()` to create histogram plots for the different categories.\n"
   ]
  },
  {
   "cell_type": "code",
   "execution_count": 60,
   "metadata": {
    "remove_code": "non-comments"
   },
   "outputs": [
    {
     "data": {
      "image/png": "[encoded data removed]",
      "text/plain": [
       "<Figure size 640x480 with 2 Axes>"
      ]
     },
     "metadata": {},
     "output_type": "display_data"
    }
   ],
   "source": [
    "# Import matplotlib and Numpy\n",
    "import matplotlib.pyplot as plt\n",
    "import numpy as np\n",
    "\n",
    "# Create a figure and subplots\n",
    "fig, axes = plt.subplots(2, sharex=True)\n",
    "\n",
    "# Plot the data\n",
    "axes[0].hist(df.loc[df['argued_conviction'], 'av_products_clean'], bins=15, label='all')\n",
    "axes[0].hist(df.loc[np.logical_and(df['argued_conviction'], df['suspect']), 'av_products_clean'], bins=15, label='suspect')\n",
    "axes[0].set_ylabel(r'$N_{\\mathrm{responses}}$')\n",
    "axes[1].hist(df.loc[np.logical_not(df['argued_conviction']), 'av_products_clean'], bins=15)\n",
    "axes[1].hist(df.loc[np.logical_and(np.logical_not(df['argued_conviction']), df['suspect']), 'av_products_clean'], bins=15)\n",
    "axes[1].set_ylabel(r'$N_{\\mathrm{responses}}$')\n",
    "axes[1].set_xlabel(r'Average rating of cleaning products')\n",
    "fig.legend()\n",
    "\n",
    "# Show the plot\n",
    "plt.show()"
   ]
  },
  {
   "cell_type": "markdown",
   "metadata": {},
   "source": [
    "\n",
    "### Task 8: Statistical Testing\n",
    "- **Conduct a t-test**: To confirm the authors' hypothesis that arguing against one’s own side increases the desire for cleansing products—and to check if the 'Harvard' data points influence this result.\n",
    "- **Commands to use**: Implement `scipy.stats.ttest_ind()` to perform the independent t-tests between groups.\n"
   ]
  },
  {
   "cell_type": "code",
   "execution_count": 62,
   "metadata": {
    "remove_code": "non-comments"
   },
   "outputs": [],
   "source": [
    "non_suspect_for = df.loc[\n",
    "    np.logical_and(\n",
    "        df['argued_conviction'],\n",
    "        np.logical_not(df['suspect'])\n",
    "    ), 'av_products_clean']\n",
    "non_suspect_against = df.loc[np.logical_and(\n",
    "    np.logical_not(df['argued_conviction']),\n",
    "    np.logical_not(df['suspect'])\n",
    "), 'av_products_clean']"
   ]
  },
  {
   "cell_type": "code",
   "execution_count": 71,
   "metadata": {
    "remove_code": "non-comments"
   },
   "outputs": [],
   "source": [
    "suspect_for = df.loc[np.logical_and(df['argued_conviction'], df['suspect']), 'av_products_clean']\n",
    "suspect_against = df.loc[np.logical_and(\n",
    "    np.logical_not(df['argued_conviction']),\n",
    "    df['suspect']\n",
    "), 'av_products_clean']"
   ]
  },
  {
   "cell_type": "code",
   "execution_count": 72,
   "metadata": {
    "remove_code": "non-comments"
   },
   "outputs": [
    {
     "data": {
      "text/plain": [
       "TtestResult(statistic=2.7890358466109735, pvalue=0.005502062228161376, df=468.0)"
      ]
     },
     "execution_count": 72,
     "metadata": {},
     "output_type": "execute_result"
    }
   ],
   "source": [
    "# Perform the independent t-tests between groups\n",
    "ttest_ind(non_suspect_against.dropna(), non_suspect_for.dropna())"
   ]
  },
  {
   "cell_type": "code",
   "execution_count": 73,
   "metadata": {
    "remove_code": "non-comments"
   },
   "outputs": [
    {
     "data": {
      "text/plain": [
       "(3.771612903225806, 4.140952380952381)"
      ]
     },
     "execution_count": 73,
     "metadata": {},
     "output_type": "execute_result"
    }
   ],
   "source": [
    "non_suspect_for.mean(), non_suspect_against.mean()"
   ]
  },
  {
   "cell_type": "code",
   "execution_count": 75,
   "metadata": {
    "remove_code": "non-comments"
   },
   "outputs": [
    {
     "data": {
      "text/plain": [
       "TtestResult(statistic=7.842556707395404, pvalue=3.2488204162770613e-07, df=18.0)"
      ]
     },
     "execution_count": 75,
     "metadata": {},
     "output_type": "execute_result"
    }
   ],
   "source": [
    "# Perform the independent t-tests between groups\n",
    "ttest_ind(suspect_against.dropna(), suspect_for.dropna())"
   ]
  },
  {
   "cell_type": "code",
   "execution_count": null,
   "metadata": {},
   "outputs": [],
   "source": []
  }
 ],
 "metadata": {
  "kernelspec": {
   "display_name": "Python 3 (ipykernel)",
   "language": "python",
   "name": "python3"
  },
  "language_info": {
   "codemirror_mode": {
    "name": "ipython",
    "version": 3
   },
   "file_extension": ".py",
   "mimetype": "text/x-python",
   "name": "python",
   "nbconvert_exporter": "python",
   "pygments_lexer": "ipython3",
   "version": "3.13.2"
  }
 },
 "nbformat": 4,
 "nbformat_minor": 4
}
