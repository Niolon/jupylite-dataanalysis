{
 "cells": [
  {
   "cell_type": "markdown",
   "metadata": {},
   "source": [
    "![University Logo](../Durham_University.svg)"
   ]
  },
  {
   "cell_type": "markdown",
   "metadata": {
    "editable": true,
    "slideshow": {
     "slide_type": "slide"
    },
    "tags": []
   },
   "source": [
    "# Dictionaries are like a labelled drawer containing arbitrary data\n",
    "Data is accessed by keyword"
   ]
  },
  {
   "cell_type": "code",
   "execution_count": 1,
   "metadata": {
    "editable": true,
    "remove_code": "non-comments",
    "slideshow": {
     "slide_type": ""
    },
    "tags": []
   },
   "outputs": [
    {
     "name": "stdout",
     "output_type": "stream",
     "text": [
      "my_dict['name']: John\n",
      "my_dict[1]: [2, 4, 3]\n"
     ]
    }
   ],
   "source": [
    "# Create a mixed dict with a list as content\n",
    "my_dict = {'name': 'John', 1: [2, 4, 3]}\n",
    "print(\"my_dict['name']:\", my_dict['name'])\n",
    "print(\"my_dict[1]:\", my_dict[1])"
   ]
  },
  {
   "cell_type": "markdown",
   "metadata": {
    "editable": true,
    "slideshow": {
     "slide_type": "slide"
    },
    "tags": []
   },
   "source": [
    "# Introduction to Pandas\n",
    "\n",
    "## What is Pandas?\n",
    "- Open-source library providing easy-to-use data structures and data analysis tools.\n",
    "- Built on top of NumPy, making it a critical tool for data manipulation in Python.\n",
    "\n",
    "## Why Use Pandas?\n",
    "- Simplifies many complex data operations that are cumbersome or less intuitive in NumPy.\n",
    "- Provides robust tools for working with structured data like time series and structured grids."
   ]
  },
  {
   "cell_type": "markdown",
   "metadata": {
    "editable": true,
    "slideshow": {
     "slide_type": "notes"
    },
    "tags": []
   },
   "source": [
    "Speaker Notes:\n",
    "\n",
    "Begin by linking pandas to NumPy, emphasizing that pandas is not just complementary but specifically designed to enhance and simplify data manipulation tasks in Python. Highlight its utility in handling real-world data complexities efficiently.\n"
   ]
  },
  {
   "cell_type": "markdown",
   "metadata": {
    "editable": true,
    "slideshow": {
     "slide_type": "slide"
    },
    "tags": []
   },
   "source": [
    "# The Connection Between Pandas and NumPy\n",
    "\n",
    "Pandas is built on NumPy and extends its capabilities by providing more flexible data structures.\n",
    "\n",
    "## Pandas and NumPy\n",
    "- **NumPy**: Provides the foundation with its array object, which is designed for efficient numeric computation.\n",
    "- **Pandas**: Uses NumPy arrays to store data, benefiting from NumPy's speed and resources but adds significant functionality for handling data.\n",
    "\n",
    "## Use Cases\n",
    "- **NumPy**: Ideal for performing numerical computations. Focus is on the numerical transformation of data.\n",
    "- **Pandas**: Best for more complex operations involving data cleaning, transformations, and analysis of tabular data.\n",
    "\n",
    "Both can easily be combined"
   ]
  },
  {
   "cell_type": "markdown",
   "metadata": {
    "editable": true,
    "slideshow": {
     "slide_type": "notes"
    },
    "tags": []
   },
   "source": [
    "Speaker Notes:\n",
    "\n",
    "NumPy is a more low-level library. Usually when you would do something in Excel use Pandas. We have columns of distinct but connected data with varying data types"
   ]
  },
  {
   "cell_type": "markdown",
   "metadata": {
    "editable": true,
    "slideshow": {
     "slide_type": "slide"
    },
    "tags": []
   },
   "source": [
    "# Importing Pandas"
   ]
  },
  {
   "cell_type": "code",
   "execution_count": 2,
   "metadata": {
    "editable": true,
    "remove_code": "non-comments",
    "slideshow": {
     "slide_type": ""
    },
    "tags": []
   },
   "outputs": [
    {
     "data": {
      "text/plain": [
       "'2.2.3'"
      ]
     },
     "execution_count": 2,
     "metadata": {},
     "output_type": "execute_result"
    }
   ],
   "source": [
    "# Importing pandas\n",
    "import pandas as pd\n",
    "\n",
    "# Display the version\n",
    "pd.__version__"
   ]
  },
  {
   "cell_type": "markdown",
   "metadata": {
    "editable": true,
    "slideshow": {
     "slide_type": "slide"
    },
    "tags": []
   },
   "source": [
    "# Key Data Structures in Pandas\n",
    "\n",
    "Pandas primarily uses two main data structures: `Series` and `DataFrame`.\n",
    "\n",
    "## Series\n",
    "- A one-dimensional array-like object capable of holding any data type.\n",
    "- Each element has an index; the default one ranges from 0 to N, where N is the length of the series minus one.\n",
    "\n",
    "## DataFrame\n",
    "- A two-dimensional, size-mutable, potentially heterogeneous tabular data.\n",
    "- Data is aligned in a tabular fashion in rows and columns.\n",
    "- Think of it as a spreadsheet or SQL table."
   ]
  },
  {
   "cell_type": "markdown",
   "metadata": {
    "editable": true,
    "slideshow": {
     "slide_type": "slide"
    },
    "tags": []
   },
   "source": [
    "## We can create Series from NumPy arrays, lists and dictionaries"
   ]
  },
  {
   "cell_type": "code",
   "execution_count": 3,
   "metadata": {
    "editable": true,
    "slideshow": {
     "slide_type": ""
    },
    "tags": []
   },
   "outputs": [],
   "source": [
    "# Import numpy\n",
    "import numpy as np\n"
   ]
  },
  {
   "cell_type": "code",
   "execution_count": 4,
   "metadata": {
    "editable": true,
    "remove_code": "non-comments",
    "scrolled": true,
    "slideshow": {
     "slide_type": ""
    },
    "tags": []
   },
   "outputs": [
    {
     "data": {
      "text/plain": [
       "0    a\n",
       "1    b\n",
       "2    c\n",
       "3    d\n",
       "4    e\n",
       "dtype: object"
      ]
     },
     "execution_count": 4,
     "metadata": {},
     "output_type": "execute_result"
    }
   ],
   "source": [
    "# Create a series from a list (size 5)\n",
    "a_list = list(\"abcde\")\n",
    "series1 = pd.Series(a_list)\n",
    "series1"
   ]
  },
  {
   "cell_type": "code",
   "execution_count": 5,
   "metadata": {
    "editable": true,
    "remove_code": "non-comments",
    "slideshow": {
     "slide_type": ""
    },
    "tags": []
   },
   "outputs": [
    {
     "data": {
      "text/plain": [
       "0    1\n",
       "1    2\n",
       "2    3\n",
       "3    4\n",
       "4    5\n",
       "dtype: int64"
      ]
     },
     "execution_count": 5,
     "metadata": {},
     "output_type": "execute_result"
    }
   ],
   "source": [
    "# Create a series from a numpy array (size 5)\n",
    "numpy_array = np.arange(1, 6)\n",
    "series2 = pd.Series(numpy_array)\n",
    "series2"
   ]
  },
  {
   "cell_type": "code",
   "execution_count": 6,
   "metadata": {
    "editable": true,
    "remove_code": "non-comments",
    "slideshow": {
     "slide_type": ""
    },
    "tags": []
   },
   "outputs": [
    {
     "data": {
      "text/plain": [
       "A    0\n",
       "B    1\n",
       "C    2\n",
       "D    3\n",
       "E    5\n",
       "dtype: int64"
      ]
     },
     "execution_count": 6,
     "metadata": {},
     "output_type": "execute_result"
    }
   ],
   "source": [
    "# Create a series from a dictionary\n",
    "dictionary = {\"A\": 0, \"B\": 1, \"C\": 2, \"D\": 3, \"E\": 5}\n",
    "series3 = pd.Series(dictionary)\n",
    "series3"
   ]
  },
  {
   "cell_type": "markdown",
   "metadata": {
    "editable": true,
    "slideshow": {
     "slide_type": "slide"
    },
    "tags": []
   },
   "source": [
    "## We can create a DataFrame from a dictionary \n",
    "The keys of the dictionary are the column labels and entries are objects that can be cast into a series, if they have the same indexing and length"
   ]
  },
  {
   "cell_type": "code",
   "execution_count": 7,
   "metadata": {
    "editable": true,
    "remove_code": "non-comments",
    "slideshow": {
     "slide_type": ""
    },
    "tags": []
   },
   "outputs": [
    {
     "data": {
      "text/html": [
       "<div>\n",
       "<style scoped>\n",
       "    .dataframe tbody tr th:only-of-type {\n",
       "        vertical-align: middle;\n",
       "    }\n",
       "\n",
       "    .dataframe tbody tr th {\n",
       "        vertical-align: top;\n",
       "    }\n",
       "\n",
       "    .dataframe thead th {\n",
       "        text-align: right;\n",
       "    }\n",
       "</style>\n",
       "<table border=\"1\" class=\"dataframe\">\n",
       "  <thead>\n",
       "    <tr style=\"text-align: right;\">\n",
       "      <th></th>\n",
       "      <th>column1</th>\n",
       "      <th>column2</th>\n",
       "    </tr>\n",
       "  </thead>\n",
       "  <tbody>\n",
       "    <tr>\n",
       "      <th>0</th>\n",
       "      <td>a</td>\n",
       "      <td>1</td>\n",
       "    </tr>\n",
       "    <tr>\n",
       "      <th>1</th>\n",
       "      <td>b</td>\n",
       "      <td>2</td>\n",
       "    </tr>\n",
       "    <tr>\n",
       "      <th>2</th>\n",
       "      <td>c</td>\n",
       "      <td>3</td>\n",
       "    </tr>\n",
       "    <tr>\n",
       "      <th>3</th>\n",
       "      <td>d</td>\n",
       "      <td>4</td>\n",
       "    </tr>\n",
       "    <tr>\n",
       "      <th>4</th>\n",
       "      <td>e</td>\n",
       "      <td>5</td>\n",
       "    </tr>\n",
       "  </tbody>\n",
       "</table>\n",
       "</div>"
      ],
      "text/plain": [
       "  column1  column2\n",
       "0       a        1\n",
       "1       b        2\n",
       "2       c        3\n",
       "3       d        4\n",
       "4       e        5"
      ]
     },
     "execution_count": 7,
     "metadata": {},
     "output_type": "execute_result"
    }
   ],
   "source": [
    "# Create a dataframe from the list and the numpy array\n",
    "indexed_df = pd.DataFrame({\"column1\": a_list, \"column2\": numpy_array})\n",
    "indexed_df"
   ]
  },
  {
   "cell_type": "code",
   "execution_count": 8,
   "metadata": {
    "editable": true,
    "remove_code": "non-comments",
    "slideshow": {
     "slide_type": ""
    },
    "tags": []
   },
   "outputs": [
    {
     "data": {
      "text/html": [
       "<div>\n",
       "<style scoped>\n",
       "    .dataframe tbody tr th:only-of-type {\n",
       "        vertical-align: middle;\n",
       "    }\n",
       "\n",
       "    .dataframe tbody tr th {\n",
       "        vertical-align: top;\n",
       "    }\n",
       "\n",
       "    .dataframe thead th {\n",
       "        text-align: right;\n",
       "    }\n",
       "</style>\n",
       "<table border=\"1\" class=\"dataframe\">\n",
       "  <thead>\n",
       "    <tr style=\"text-align: right;\">\n",
       "      <th></th>\n",
       "      <th>column1</th>\n",
       "      <th>column2</th>\n",
       "      <th>column3</th>\n",
       "    </tr>\n",
       "  </thead>\n",
       "  <tbody>\n",
       "    <tr>\n",
       "      <th>0</th>\n",
       "      <td>a</td>\n",
       "      <td>1.0</td>\n",
       "      <td>NaN</td>\n",
       "    </tr>\n",
       "    <tr>\n",
       "      <th>1</th>\n",
       "      <td>b</td>\n",
       "      <td>2.0</td>\n",
       "      <td>NaN</td>\n",
       "    </tr>\n",
       "    <tr>\n",
       "      <th>2</th>\n",
       "      <td>c</td>\n",
       "      <td>3.0</td>\n",
       "      <td>NaN</td>\n",
       "    </tr>\n",
       "    <tr>\n",
       "      <th>3</th>\n",
       "      <td>d</td>\n",
       "      <td>4.0</td>\n",
       "      <td>NaN</td>\n",
       "    </tr>\n",
       "    <tr>\n",
       "      <th>4</th>\n",
       "      <td>e</td>\n",
       "      <td>5.0</td>\n",
       "      <td>NaN</td>\n",
       "    </tr>\n",
       "    <tr>\n",
       "      <th>A</th>\n",
       "      <td>NaN</td>\n",
       "      <td>NaN</td>\n",
       "      <td>0.0</td>\n",
       "    </tr>\n",
       "    <tr>\n",
       "      <th>B</th>\n",
       "      <td>NaN</td>\n",
       "      <td>NaN</td>\n",
       "      <td>1.0</td>\n",
       "    </tr>\n",
       "    <tr>\n",
       "      <th>C</th>\n",
       "      <td>NaN</td>\n",
       "      <td>NaN</td>\n",
       "      <td>2.0</td>\n",
       "    </tr>\n",
       "    <tr>\n",
       "      <th>D</th>\n",
       "      <td>NaN</td>\n",
       "      <td>NaN</td>\n",
       "      <td>3.0</td>\n",
       "    </tr>\n",
       "    <tr>\n",
       "      <th>E</th>\n",
       "      <td>NaN</td>\n",
       "      <td>NaN</td>\n",
       "      <td>5.0</td>\n",
       "    </tr>\n",
       "  </tbody>\n",
       "</table>\n",
       "</div>"
      ],
      "text/plain": [
       "  column1  column2  column3\n",
       "0       a      1.0      NaN\n",
       "1       b      2.0      NaN\n",
       "2       c      3.0      NaN\n",
       "3       d      4.0      NaN\n",
       "4       e      5.0      NaN\n",
       "A     NaN      NaN      0.0\n",
       "B     NaN      NaN      1.0\n",
       "C     NaN      NaN      2.0\n",
       "D     NaN      NaN      3.0\n",
       "E     NaN      NaN      5.0"
      ]
     },
     "execution_count": 8,
     "metadata": {},
     "output_type": "execute_result"
    }
   ],
   "source": [
    "# Create another dataframe from the series\n",
    "combined_df = pd.DataFrame({\"column1\": series1, \"column2\": series2, \"column3\": series3})\n",
    "combined_df"
   ]
  },
  {
   "cell_type": "markdown",
   "metadata": {
    "editable": true,
    "slideshow": {
     "slide_type": "notes"
    },
    "tags": []
   },
   "source": [
    "Speaker Notes:\n",
    " - A `Series` maps an index to a value\n",
    " - Note that the series can be a continuous integer and that is the default, but that is not mandatory"
   ]
  },
  {
   "cell_type": "markdown",
   "metadata": {
    "slideshow": {
     "slide_type": "slide"
    }
   },
   "source": [
    "## We can also create a NumPy array from a Series or DataFrame\n",
    "For that we use the `values` property."
   ]
  },
  {
   "cell_type": "code",
   "execution_count": 9,
   "metadata": {
    "editable": true,
    "remove_code": "non-comments",
    "slideshow": {
     "slide_type": ""
    },
    "tags": []
   },
   "outputs": [
    {
     "data": {
      "text/plain": [
       "array([1, 2, 3, 4, 5])"
      ]
     },
     "execution_count": 9,
     "metadata": {},
     "output_type": "execute_result"
    }
   ],
   "source": [
    "# Show the values property of a pd.Series\n",
    "series2.values"
   ]
  },
  {
   "cell_type": "code",
   "execution_count": 10,
   "metadata": {
    "editable": true,
    "remove_code": "non-comments",
    "slideshow": {
     "slide_type": ""
    },
    "tags": []
   },
   "outputs": [
    {
     "data": {
      "text/plain": [
       "array([['a', 1],\n",
       "       ['b', 2],\n",
       "       ['c', 3],\n",
       "       ['d', 4],\n",
       "       ['e', 5]], dtype=object)"
      ]
     },
     "execution_count": 10,
     "metadata": {},
     "output_type": "execute_result"
    }
   ],
   "source": [
    "# Show the values property of a pd.DataFrame\n",
    "indexed_df.values"
   ]
  },
  {
   "cell_type": "markdown",
   "metadata": {
    "editable": true,
    "slideshow": {
     "slide_type": "notes"
    },
    "tags": []
   },
   "source": [
    "Speaker notes:\n",
    "\n",
    "Explain that this might lead to hard to handle dtypes if not done carefully."
   ]
  },
  {
   "cell_type": "markdown",
   "metadata": {
    "editable": true,
    "slideshow": {
     "slide_type": "slide"
    },
    "tags": []
   },
   "source": [
    "# Loading Data with Pandas"
   ]
  },
  {
   "cell_type": "code",
   "execution_count": 11,
   "metadata": {
    "editable": true,
    "remove_code": "after:# Load the dataset",
    "slideshow": {
     "slide_type": ""
    },
    "tags": []
   },
   "outputs": [
    {
     "data": {
      "text/html": [
       "<div>\n",
       "<style scoped>\n",
       "    .dataframe tbody tr th:only-of-type {\n",
       "        vertical-align: middle;\n",
       "    }\n",
       "\n",
       "    .dataframe tbody tr th {\n",
       "        vertical-align: top;\n",
       "    }\n",
       "\n",
       "    .dataframe thead th {\n",
       "        text-align: right;\n",
       "    }\n",
       "</style>\n",
       "<table border=\"1\" class=\"dataframe\">\n",
       "  <thead>\n",
       "    <tr style=\"text-align: right;\">\n",
       "      <th></th>\n",
       "      <th>Unnamed: 0</th>\n",
       "      <th>StartDate</th>\n",
       "      <th>EndDate</th>\n",
       "      <th>Cum_ID</th>\n",
       "      <th>filter</th>\n",
       "      <th>filter2</th>\n",
       "      <th>CF_headsheads1tails2</th>\n",
       "      <th>num_coin_tosses</th>\n",
       "      <th>instr</th>\n",
       "      <th>reported_guessed_correctly</th>\n",
       "      <th>...</th>\n",
       "      <th>ethnicity_5</th>\n",
       "      <th>ethnicity_6</th>\n",
       "      <th>student</th>\n",
       "      <th>code</th>\n",
       "      <th>care_about_rules</th>\n",
       "      <th>pos_affect</th>\n",
       "      <th>neg_affect</th>\n",
       "      <th>RAT_perf</th>\n",
       "      <th>cheated</th>\n",
       "      <th>MTurkID_md5</th>\n",
       "    </tr>\n",
       "  </thead>\n",
       "  <tbody>\n",
       "    <tr>\n",
       "      <th>0</th>\n",
       "      <td>1</td>\n",
       "      <td>2012-11-17 23:54:00</td>\n",
       "      <td>2012-11-18 00:07:12</td>\n",
       "      <td>144</td>\n",
       "      <td>5</td>\n",
       "      <td>1</td>\n",
       "      <td>1</td>\n",
       "      <td>3</td>\n",
       "      <td>1</td>\n",
       "      <td>0</td>\n",
       "      <td>...</td>\n",
       "      <td>NaN</td>\n",
       "      <td>1.0</td>\n",
       "      <td>1.0</td>\n",
       "      <td>1</td>\n",
       "      <td>6.000000</td>\n",
       "      <td>2.3</td>\n",
       "      <td>2.5</td>\n",
       "      <td>9</td>\n",
       "      <td>0</td>\n",
       "      <td>165d039a661a10e307754efba79a6110</td>\n",
       "    </tr>\n",
       "    <tr>\n",
       "      <th>1</th>\n",
       "      <td>2</td>\n",
       "      <td>2012-11-17 23:17:26</td>\n",
       "      <td>2012-11-17 23:41:13</td>\n",
       "      <td>91</td>\n",
       "      <td>5</td>\n",
       "      <td>1</td>\n",
       "      <td>1</td>\n",
       "      <td>3</td>\n",
       "      <td>1</td>\n",
       "      <td>0</td>\n",
       "      <td>...</td>\n",
       "      <td>NaN</td>\n",
       "      <td>1.0</td>\n",
       "      <td>0.0</td>\n",
       "      <td>1</td>\n",
       "      <td>5.333333</td>\n",
       "      <td>2.5</td>\n",
       "      <td>1.4</td>\n",
       "      <td>8</td>\n",
       "      <td>0</td>\n",
       "      <td>7ff5028e3f50f083999a7e904694524d</td>\n",
       "    </tr>\n",
       "    <tr>\n",
       "      <th>2</th>\n",
       "      <td>3</td>\n",
       "      <td>2012-11-17 23:44:36</td>\n",
       "      <td>2012-11-17 23:57:53</td>\n",
       "      <td>127</td>\n",
       "      <td>5</td>\n",
       "      <td>1</td>\n",
       "      <td>2</td>\n",
       "      <td>3</td>\n",
       "      <td>1</td>\n",
       "      <td>0</td>\n",
       "      <td>...</td>\n",
       "      <td>NaN</td>\n",
       "      <td>1.0</td>\n",
       "      <td>1.0</td>\n",
       "      <td>1</td>\n",
       "      <td>6.000000</td>\n",
       "      <td>2.1</td>\n",
       "      <td>1.1</td>\n",
       "      <td>9</td>\n",
       "      <td>0</td>\n",
       "      <td>0795454a621e15bff1b89c8a14efa41e</td>\n",
       "    </tr>\n",
       "    <tr>\n",
       "      <th>3</th>\n",
       "      <td>4</td>\n",
       "      <td>2012-11-17 22:57:36</td>\n",
       "      <td>2012-11-17 23:11:29</td>\n",
       "      <td>24</td>\n",
       "      <td>5</td>\n",
       "      <td>1</td>\n",
       "      <td>2</td>\n",
       "      <td>3</td>\n",
       "      <td>1</td>\n",
       "      <td>0</td>\n",
       "      <td>...</td>\n",
       "      <td>NaN</td>\n",
       "      <td>1.0</td>\n",
       "      <td>0.0</td>\n",
       "      <td>1</td>\n",
       "      <td>6.333333</td>\n",
       "      <td>1.3</td>\n",
       "      <td>1.0</td>\n",
       "      <td>12</td>\n",
       "      <td>0</td>\n",
       "      <td>c55d3da1c3ab1bcba89145f8bcb5a75e</td>\n",
       "    </tr>\n",
       "    <tr>\n",
       "      <th>4</th>\n",
       "      <td>5</td>\n",
       "      <td>2012-11-18 00:00:06</td>\n",
       "      <td>2012-11-18 00:20:19</td>\n",
       "      <td>168</td>\n",
       "      <td>5</td>\n",
       "      <td>1</td>\n",
       "      <td>1</td>\n",
       "      <td>3</td>\n",
       "      <td>1</td>\n",
       "      <td>0</td>\n",
       "      <td>...</td>\n",
       "      <td>NaN</td>\n",
       "      <td>NaN</td>\n",
       "      <td>0.0</td>\n",
       "      <td>1</td>\n",
       "      <td>5.333333</td>\n",
       "      <td>2.8</td>\n",
       "      <td>1.3</td>\n",
       "      <td>0</td>\n",
       "      <td>0</td>\n",
       "      <td>ad13ddfad7d7753a38595810fdaa566a</td>\n",
       "    </tr>\n",
       "  </tbody>\n",
       "</table>\n",
       "<p>5 rows × 79 columns</p>\n",
       "</div>"
      ],
      "text/plain": [
       "   Unnamed: 0            StartDate              EndDate  Cum_ID  filter  \\\n",
       "0           1  2012-11-17 23:54:00  2012-11-18 00:07:12     144       5   \n",
       "1           2  2012-11-17 23:17:26  2012-11-17 23:41:13      91       5   \n",
       "2           3  2012-11-17 23:44:36  2012-11-17 23:57:53     127       5   \n",
       "3           4  2012-11-17 22:57:36  2012-11-17 23:11:29      24       5   \n",
       "4           5  2012-11-18 00:00:06  2012-11-18 00:20:19     168       5   \n",
       "\n",
       "   filter2  CF_headsheads1tails2  num_coin_tosses  instr  \\\n",
       "0        1                     1                3      1   \n",
       "1        1                     1                3      1   \n",
       "2        1                     2                3      1   \n",
       "3        1                     2                3      1   \n",
       "4        1                     1                3      1   \n",
       "\n",
       "   reported_guessed_correctly  ...  ethnicity_5  ethnicity_6  student  code  \\\n",
       "0                           0  ...          NaN          1.0      1.0     1   \n",
       "1                           0  ...          NaN          1.0      0.0     1   \n",
       "2                           0  ...          NaN          1.0      1.0     1   \n",
       "3                           0  ...          NaN          1.0      0.0     1   \n",
       "4                           0  ...          NaN          NaN      0.0     1   \n",
       "\n",
       "   care_about_rules  pos_affect  neg_affect  RAT_perf  cheated  \\\n",
       "0          6.000000         2.3         2.5         9        0   \n",
       "1          5.333333         2.5         1.4         8        0   \n",
       "2          6.000000         2.1         1.1         9        0   \n",
       "3          6.333333         1.3         1.0        12        0   \n",
       "4          5.333333         2.8         1.3         0        0   \n",
       "\n",
       "                        MTurkID_md5  \n",
       "0  165d039a661a10e307754efba79a6110  \n",
       "1  7ff5028e3f50f083999a7e904694524d  \n",
       "2  0795454a621e15bff1b89c8a14efa41e  \n",
       "3  c55d3da1c3ab1bcba89145f8bcb5a75e  \n",
       "4  ad13ddfad7d7753a38595810fdaa566a  \n",
       "\n",
       "[5 rows x 79 columns]"
      ]
     },
     "execution_count": 11,
     "metadata": {},
     "output_type": "execute_result"
    }
   ],
   "source": [
    "data_path = '../Data/presentation/DAC_Study_4_PS.sav.csv'\n",
    "\n",
    "# Load the dataset\n",
    "df = pd.read_csv(data_path)\n",
    "\n",
    "# Display the first few rows of the dataframe\n",
    "df.head()"
   ]
  },
  {
   "cell_type": "markdown",
   "metadata": {
    "editable": true,
    "slideshow": {
     "slide_type": "notes"
    },
    "tags": []
   },
   "source": [
    "Speaker Notes:\n",
    "\n",
    "Introduce the `pd.read_csv` function to load data into a DataFrame. Use the `head()` method to preview the first few rows of the DataFrame. This is often the first step in data analysis, providing a quick snapshot of the dataset structure and available data columns.\n",
    "\n",
    "Also mentioning checking whether headings have been mapped to column names, and otherwise checking the documentation of `pd.read_csv`\n"
   ]
  },
  {
   "cell_type": "markdown",
   "metadata": {
    "editable": true,
    "slideshow": {
     "slide_type": "slide"
    },
    "tags": []
   },
   "source": [
    "# This is a real dataset\n",
    "The original publication has been done in [Gino & Wiltermuth (2014): 'Evil Genius?: How Dishonesty Can Lead to Greater Creativity'](https://doi.org/10.1177/0956797614520714)\n",
    "\n",
    "However, we reproduce the analysis done in the blog post [Uri, Joe, & Leif (2023): '[111] Data Falsificada (Part 3): \"The Cheaters Are Out of Order\"'](https://datacolada.org/111)\n",
    "\n",
    "This is one of the studies from a widely publicised case of academic misconduct within research on dishonesty.\n",
    "\n",
    "Until 2023 Francesca Gino was a professor at Harvard Business School\n",
    "\n",
    "We will first introduce some pandas functions and then reproduce part of the original analysis and the analysis done by Uri et al."
   ]
  },
  {
   "cell_type": "markdown",
   "metadata": {
    "editable": true,
    "slideshow": {
     "slide_type": "slide"
    },
    "tags": []
   },
   "source": [
    "# Basic DataFrame Operations"
   ]
  },
  {
   "cell_type": "code",
   "execution_count": 12,
   "metadata": {
    "editable": true,
    "remove_code": "non-comments",
    "slideshow": {
     "slide_type": ""
    },
    "tags": []
   },
   "outputs": [
    {
     "name": "stdout",
     "output_type": "stream",
     "text": [
      "DataFrame Shape: (178, 79)\n",
      "<class 'pandas.core.frame.DataFrame'>\n",
      "RangeIndex: 178 entries, 0 to 177\n",
      "Data columns (total 79 columns):\n",
      " #   Column                      Non-Null Count  Dtype  \n",
      "---  ------                      --------------  -----  \n",
      " 0   Unnamed: 0                  178 non-null    int64  \n",
      " 1   StartDate                   178 non-null    object \n",
      " 2   EndDate                     178 non-null    object \n",
      " 3   Cum_ID                      178 non-null    int64  \n",
      " 4   filter                      178 non-null    int64  \n",
      " 5   filter2                     178 non-null    int64  \n",
      " 6   CF_headsheads1tails2        178 non-null    int64  \n",
      " 7   num_coin_tosses             178 non-null    int64  \n",
      " 8   instr                       178 non-null    int64  \n",
      " 9   reported_guessed_correctly  178 non-null    int64  \n",
      " 10  ruleFollow1                 178 non-null    int64  \n",
      " 11  ruleFollow2                 178 non-null    int64  \n",
      " 12  ruleFollow3                 178 non-null    int64  \n",
      " 13  Numberofresponses           178 non-null    int64  \n",
      " 14  Originality                 178 non-null    int64  \n",
      " 15  Flexibility                 178 non-null    int64  \n",
      " 16  timeUses_1                  178 non-null    float64\n",
      " 17  timeUses_2                  178 non-null    float64\n",
      " 18  timeUses_3                  178 non-null    float64\n",
      " 19  timeUses_4                  178 non-null    int64  \n",
      " 20  RAT_1                       178 non-null    int64  \n",
      " 21  RAT_2                       178 non-null    int64  \n",
      " 22  RAT_3                       178 non-null    int64  \n",
      " 23  RAT_4                       178 non-null    int64  \n",
      " 24  RAT_5                       178 non-null    int64  \n",
      " 25  RAT_6                       178 non-null    int64  \n",
      " 26  RAT_7                       178 non-null    int64  \n",
      " 27  RAT_8                       178 non-null    int64  \n",
      " 28  RAT_9                       178 non-null    int64  \n",
      " 29  RAT_10                      178 non-null    int64  \n",
      " 30  RAT_11                      178 non-null    int64  \n",
      " 31  RAT_12                      178 non-null    int64  \n",
      " 32  RAT_13                      178 non-null    int64  \n",
      " 33  RAT_14                      178 non-null    int64  \n",
      " 34  RAT_15                      178 non-null    int64  \n",
      " 35  RAT_16                      178 non-null    int64  \n",
      " 36  RAT_17                      178 non-null    int64  \n",
      " 37  TimeRAT_1                   178 non-null    float64\n",
      " 38  TimeRAT_2                   178 non-null    float64\n",
      " 39  TimeRAT_3                   178 non-null    float64\n",
      " 40  TimeRAT_4                   178 non-null    int64  \n",
      " 41  pos_1                       176 non-null    float64\n",
      " 42  neg_1                       176 non-null    float64\n",
      " 43  pos_2                       176 non-null    float64\n",
      " 44  neg_2                       176 non-null    float64\n",
      " 45  pos_3                       176 non-null    float64\n",
      " 46  neg_3                       176 non-null    float64\n",
      " 47  neg_4                       176 non-null    float64\n",
      " 48  neg_5                       176 non-null    float64\n",
      " 49  pos_4                       176 non-null    float64\n",
      " 50  pos_5                       176 non-null    float64\n",
      " 51  neg_6                       176 non-null    float64\n",
      " 52  pos_6                       176 non-null    float64\n",
      " 53  neg_7                       176 non-null    float64\n",
      " 54  pos_7                       176 non-null    float64\n",
      " 55  neg_8                       176 non-null    float64\n",
      " 56  pos_8                       176 non-null    float64\n",
      " 57  pos_9                       176 non-null    float64\n",
      " 58  neg_9                       176 non-null    float64\n",
      " 59  pos_10                      176 non-null    float64\n",
      " 60  neg_10                      176 non-null    float64\n",
      " 61  instr_A                     176 non-null    float64\n",
      " 62  female                      176 non-null    float64\n",
      " 63  age                         172 non-null    float64\n",
      " 64  edu                         176 non-null    float64\n",
      " 65  ethnicity_1                 3 non-null      float64\n",
      " 66  ethnicity_2                 17 non-null     float64\n",
      " 67  ethnicity_3                 15 non-null     float64\n",
      " 68  ethnicity_4                 10 non-null     float64\n",
      " 69  ethnicity_5                 2 non-null      float64\n",
      " 70  ethnicity_6                 139 non-null    float64\n",
      " 71  student                     176 non-null    float64\n",
      " 72  code                        178 non-null    int64  \n",
      " 73  care_about_rules            178 non-null    float64\n",
      " 74  pos_affect                  176 non-null    float64\n",
      " 75  neg_affect                  176 non-null    float64\n",
      " 76  RAT_perf                    178 non-null    int64  \n",
      " 77  cheated                     178 non-null    int64  \n",
      " 78  MTurkID_md5                 178 non-null    object \n",
      "dtypes: float64(40), int64(36), object(3)\n",
      "memory usage: 110.0+ KB\n"
     ]
    }
   ],
   "source": [
    "# Display the shape of the dataframe\n",
    "print(\"DataFrame Shape:\", df.shape)\n",
    "\n",
    "# Get a concise summary of the dataframe\n",
    "df.info()"
   ]
  },
  {
   "cell_type": "markdown",
   "metadata": {
    "editable": true,
    "slideshow": {
     "slide_type": "notes"
    },
    "tags": []
   },
   "source": [
    "Speaker Notes:\n",
    "\n",
    "Introduce the `df.info()` method. This function is vital for initial data inspection as it provides a concise summary of the `DataFrame`, including the index dtype and column dtypes, non-null values, and memory usage. Explain the importance of checking data types and the non-null count to assess data cleaning needs. Point out that the start and end dates have not been converted correctly."
   ]
  },
  {
   "cell_type": "markdown",
   "metadata": {
    "editable": true,
    "slideshow": {
     "slide_type": "slide"
    },
    "tags": []
   },
   "source": [
    "# Accessing data values\n",
    "\n",
    "We can access the `pd.Series` belonging to these columns by name just as we would in a dictionary. A list of column names creates a new `pd.DataFrame` view"
   ]
  },
  {
   "cell_type": "code",
   "execution_count": 13,
   "metadata": {
    "editable": true,
    "remove_code": "non-comments",
    "slideshow": {
     "slide_type": ""
    },
    "tags": []
   },
   "outputs": [
    {
     "data": {
      "text/plain": [
       "(0      0\n",
       " 1      0\n",
       " 2      0\n",
       " 3      0\n",
       " 4      0\n",
       "       ..\n",
       " 173    1\n",
       " 174    1\n",
       " 175    1\n",
       " 176    1\n",
       " 177    1\n",
       " Name: cheated, Length: 178, dtype: int64,\n",
       " 0       2\n",
       " 1       2\n",
       " 2       3\n",
       " 3       3\n",
       " 4       3\n",
       "        ..\n",
       " 173    11\n",
       " 174    11\n",
       " 175    11\n",
       " 176    12\n",
       " 177    13\n",
       " Name: Numberofresponses, Length: 178, dtype: int64)"
      ]
     },
     "execution_count": 13,
     "metadata": {},
     "output_type": "execute_result"
    }
   ],
   "source": [
    "# Access the cheated and the Numberofresponses columns\n",
    "df['cheated'], df['Numberofresponses']"
   ]
  },
  {
   "cell_type": "markdown",
   "metadata": {
    "editable": true,
    "slideshow": {
     "slide_type": "slide"
    },
    "tags": []
   },
   "source": [
    "## Data Selection with loc and iloc"
   ]
  },
  {
   "cell_type": "code",
   "execution_count": 14,
   "metadata": {
    "editable": true,
    "remove_code": "non-comments",
    "slideshow": {
     "slide_type": ""
    },
    "tags": []
   },
   "outputs": [
    {
     "data": {
      "text/html": [
       "<div>\n",
       "<style scoped>\n",
       "    .dataframe tbody tr th:only-of-type {\n",
       "        vertical-align: middle;\n",
       "    }\n",
       "\n",
       "    .dataframe tbody tr th {\n",
       "        vertical-align: top;\n",
       "    }\n",
       "\n",
       "    .dataframe thead th {\n",
       "        text-align: right;\n",
       "    }\n",
       "</style>\n",
       "<table border=\"1\" class=\"dataframe\">\n",
       "  <thead>\n",
       "    <tr style=\"text-align: right;\">\n",
       "      <th></th>\n",
       "      <th>cheated</th>\n",
       "      <th>Numberofresponses</th>\n",
       "    </tr>\n",
       "  </thead>\n",
       "  <tbody>\n",
       "    <tr>\n",
       "      <th>0</th>\n",
       "      <td>0</td>\n",
       "      <td>2</td>\n",
       "    </tr>\n",
       "    <tr>\n",
       "      <th>1</th>\n",
       "      <td>0</td>\n",
       "      <td>2</td>\n",
       "    </tr>\n",
       "    <tr>\n",
       "      <th>2</th>\n",
       "      <td>0</td>\n",
       "      <td>3</td>\n",
       "    </tr>\n",
       "    <tr>\n",
       "      <th>3</th>\n",
       "      <td>0</td>\n",
       "      <td>3</td>\n",
       "    </tr>\n",
       "    <tr>\n",
       "      <th>4</th>\n",
       "      <td>0</td>\n",
       "      <td>3</td>\n",
       "    </tr>\n",
       "  </tbody>\n",
       "</table>\n",
       "</div>"
      ],
      "text/plain": [
       "   cheated  Numberofresponses\n",
       "0        0                  2\n",
       "1        0                  2\n",
       "2        0                  3\n",
       "3        0                  3\n",
       "4        0                  3"
      ]
     },
     "execution_count": 14,
     "metadata": {},
     "output_type": "execute_result"
    }
   ],
   "source": [
    "# Select columns by name using loc\n",
    "selected_columns = df.loc[:, ['cheated', 'Numberofresponses']]\n",
    "\n",
    "# Display the first five rows\n",
    "selected_columns.head()\n"
   ]
  },
  {
   "cell_type": "code",
   "execution_count": 15,
   "metadata": {
    "editable": true,
    "remove_code": "non-comments",
    "slideshow": {
     "slide_type": ""
    },
    "tags": []
   },
   "outputs": [
    {
     "data": {
      "text/html": [
       "<div>\n",
       "<style scoped>\n",
       "    .dataframe tbody tr th:only-of-type {\n",
       "        vertical-align: middle;\n",
       "    }\n",
       "\n",
       "    .dataframe tbody tr th {\n",
       "        vertical-align: top;\n",
       "    }\n",
       "\n",
       "    .dataframe thead th {\n",
       "        text-align: right;\n",
       "    }\n",
       "</style>\n",
       "<table border=\"1\" class=\"dataframe\">\n",
       "  <thead>\n",
       "    <tr style=\"text-align: right;\">\n",
       "      <th></th>\n",
       "      <th>StartDate</th>\n",
       "      <th>EndDate</th>\n",
       "    </tr>\n",
       "  </thead>\n",
       "  <tbody>\n",
       "    <tr>\n",
       "      <th>0</th>\n",
       "      <td>2012-11-17 23:54:00</td>\n",
       "      <td>2012-11-18 00:07:12</td>\n",
       "    </tr>\n",
       "    <tr>\n",
       "      <th>1</th>\n",
       "      <td>2012-11-17 23:17:26</td>\n",
       "      <td>2012-11-17 23:41:13</td>\n",
       "    </tr>\n",
       "    <tr>\n",
       "      <th>2</th>\n",
       "      <td>2012-11-17 23:44:36</td>\n",
       "      <td>2012-11-17 23:57:53</td>\n",
       "    </tr>\n",
       "    <tr>\n",
       "      <th>3</th>\n",
       "      <td>2012-11-17 22:57:36</td>\n",
       "      <td>2012-11-17 23:11:29</td>\n",
       "    </tr>\n",
       "    <tr>\n",
       "      <th>4</th>\n",
       "      <td>2012-11-18 00:00:06</td>\n",
       "      <td>2012-11-18 00:20:19</td>\n",
       "    </tr>\n",
       "  </tbody>\n",
       "</table>\n",
       "</div>"
      ],
      "text/plain": [
       "             StartDate              EndDate\n",
       "0  2012-11-17 23:54:00  2012-11-18 00:07:12\n",
       "1  2012-11-17 23:17:26  2012-11-17 23:41:13\n",
       "2  2012-11-17 23:44:36  2012-11-17 23:57:53\n",
       "3  2012-11-17 22:57:36  2012-11-17 23:11:29\n",
       "4  2012-11-18 00:00:06  2012-11-18 00:20:19"
      ]
     },
     "execution_count": 15,
     "metadata": {},
     "output_type": "execute_result"
    }
   ],
   "source": [
    "# Select rows and columns by index using iloc\n",
    "selected_data = df.iloc[0:10, 1:3]\n",
    "\n",
    "# Display the first five rows\n",
    "selected_data.head()"
   ]
  },
  {
   "cell_type": "markdown",
   "metadata": {
    "editable": true,
    "slideshow": {
     "slide_type": "slide"
    },
    "tags": []
   },
   "source": [
    "## A word of warning about chained assignment\n",
    "A view can be only created for one access, afterwards pandas will create a copy!"
   ]
  },
  {
   "cell_type": "code",
   "execution_count": 16,
   "metadata": {
    "editable": true,
    "slideshow": {
     "slide_type": ""
    },
    "tags": []
   },
   "outputs": [
    {
     "name": "stderr",
     "output_type": "stream",
     "text": [
      "/tmp/ipykernel_111534/2217315326.py:1: SettingWithCopyWarning: \n",
      "A value is trying to be set on a copy of a slice from a DataFrame.\n",
      "Try using .loc[row_indexer,col_indexer] = value instead\n",
      "\n",
      "See the caveats in the documentation: https://pandas.pydata.org/pandas-docs/stable/user_guide/indexing.html#returning-a-view-versus-a-copy\n",
      "  df[['StartDate', 'EndDate']][0:5] = df[['StartDate', 'EndDate']][0:5]\n",
      "/tmp/ipykernel_111534/2217315326.py:1: SettingWithCopyWarning: \n",
      "A value is trying to be set on a copy of a slice from a DataFrame\n",
      "\n",
      "See the caveats in the documentation: https://pandas.pydata.org/pandas-docs/stable/user_guide/indexing.html#returning-a-view-versus-a-copy\n",
      "  df[['StartDate', 'EndDate']][0:5] = df[['StartDate', 'EndDate']][0:5]\n"
     ]
    }
   ],
   "source": [
    "df[['StartDate', 'EndDate']][0:5] = df[['StartDate', 'EndDate']][0:5]\n",
    "#  Here lies the problem          -   The access here is fine"
   ]
  },
  {
   "cell_type": "markdown",
   "metadata": {},
   "source": [
    "Use this notation for access to data but not for assingment!"
   ]
  },
  {
   "cell_type": "markdown",
   "metadata": {
    "editable": true,
    "slideshow": {
     "slide_type": "notes"
    },
    "tags": []
   },
   "source": [
    "Speaker Notes\n",
    "\n",
    "- **Chained Assignment**: Refers to the use of back-to-back square brackets (`df[][]`) for selecting data and making assignments. While it might work sometimes, it can lead to unexpected results or warnings about a `SettingWithCopyWarning`.\n",
    "\n",
    "Explain why chained assignment can be problematic:\n",
    "- This method might return a copy rather than a view of the DataFrame, meaning changes made won’t actually reflect in the original DataFrame. This can lead to data integrity issues, especially in data preprocessing stages.\n",
    "\n",
    "Provide a solution:\n",
    "- Use `.loc` or `.iloc` for a more stable and reliable way to select data and assign values. These accessors are explicitly designed to handle setting values safely and efficiently."
   ]
  },
  {
   "cell_type": "markdown",
   "metadata": {
    "editable": true,
    "slideshow": {
     "slide_type": "slide"
    },
    "tags": []
   },
   "source": [
    "## Boolean data selection\n",
    "A mask on a `pd.DataFrame` works for rows."
   ]
  },
  {
   "cell_type": "code",
   "execution_count": 17,
   "metadata": {
    "editable": true,
    "remove_code": "non-comments",
    "slideshow": {
     "slide_type": ""
    },
    "tags": []
   },
   "outputs": [
    {
     "data": {
      "text/html": [
       "<div>\n",
       "<style scoped>\n",
       "    .dataframe tbody tr th:only-of-type {\n",
       "        vertical-align: middle;\n",
       "    }\n",
       "\n",
       "    .dataframe tbody tr th {\n",
       "        vertical-align: top;\n",
       "    }\n",
       "\n",
       "    .dataframe thead th {\n",
       "        text-align: right;\n",
       "    }\n",
       "</style>\n",
       "<table border=\"1\" class=\"dataframe\">\n",
       "  <thead>\n",
       "    <tr style=\"text-align: right;\">\n",
       "      <th></th>\n",
       "      <th>Unnamed: 0</th>\n",
       "      <th>StartDate</th>\n",
       "      <th>EndDate</th>\n",
       "      <th>Cum_ID</th>\n",
       "      <th>filter</th>\n",
       "      <th>filter2</th>\n",
       "      <th>CF_headsheads1tails2</th>\n",
       "      <th>num_coin_tosses</th>\n",
       "      <th>instr</th>\n",
       "      <th>reported_guessed_correctly</th>\n",
       "      <th>...</th>\n",
       "      <th>ethnicity_5</th>\n",
       "      <th>ethnicity_6</th>\n",
       "      <th>student</th>\n",
       "      <th>code</th>\n",
       "      <th>care_about_rules</th>\n",
       "      <th>pos_affect</th>\n",
       "      <th>neg_affect</th>\n",
       "      <th>RAT_perf</th>\n",
       "      <th>cheated</th>\n",
       "      <th>MTurkID_md5</th>\n",
       "    </tr>\n",
       "  </thead>\n",
       "  <tbody>\n",
       "    <tr>\n",
       "      <th>126</th>\n",
       "      <td>127</td>\n",
       "      <td>2012-11-17 23:01:46</td>\n",
       "      <td>2012-11-17 23:12:27</td>\n",
       "      <td>28</td>\n",
       "      <td>5</td>\n",
       "      <td>1</td>\n",
       "      <td>1</td>\n",
       "      <td>3</td>\n",
       "      <td>1</td>\n",
       "      <td>0</td>\n",
       "      <td>...</td>\n",
       "      <td>NaN</td>\n",
       "      <td>1.0</td>\n",
       "      <td>0.0</td>\n",
       "      <td>1</td>\n",
       "      <td>4.333333</td>\n",
       "      <td>3.5</td>\n",
       "      <td>1.6</td>\n",
       "      <td>5</td>\n",
       "      <td>0</td>\n",
       "      <td>15a679b321cb57b56dbd2ed184405f66</td>\n",
       "    </tr>\n",
       "    <tr>\n",
       "      <th>127</th>\n",
       "      <td>128</td>\n",
       "      <td>2012-11-17 22:49:25</td>\n",
       "      <td>2012-11-17 23:00:52</td>\n",
       "      <td>2</td>\n",
       "      <td>5</td>\n",
       "      <td>1</td>\n",
       "      <td>1</td>\n",
       "      <td>3</td>\n",
       "      <td>1</td>\n",
       "      <td>0</td>\n",
       "      <td>...</td>\n",
       "      <td>NaN</td>\n",
       "      <td>1.0</td>\n",
       "      <td>1.0</td>\n",
       "      <td>1</td>\n",
       "      <td>4.333333</td>\n",
       "      <td>3.2</td>\n",
       "      <td>1.1</td>\n",
       "      <td>13</td>\n",
       "      <td>0</td>\n",
       "      <td>0a03f24dd1c20d50265435ff643e54c4</td>\n",
       "    </tr>\n",
       "    <tr>\n",
       "      <th>128</th>\n",
       "      <td>129</td>\n",
       "      <td>2012-11-17 23:47:48</td>\n",
       "      <td>2012-11-18 00:01:53</td>\n",
       "      <td>132</td>\n",
       "      <td>5</td>\n",
       "      <td>1</td>\n",
       "      <td>1</td>\n",
       "      <td>3</td>\n",
       "      <td>1</td>\n",
       "      <td>0</td>\n",
       "      <td>...</td>\n",
       "      <td>NaN</td>\n",
       "      <td>1.0</td>\n",
       "      <td>1.0</td>\n",
       "      <td>1</td>\n",
       "      <td>6.000000</td>\n",
       "      <td>1.7</td>\n",
       "      <td>1.6</td>\n",
       "      <td>9</td>\n",
       "      <td>0</td>\n",
       "      <td>ed6292628b19d080c3caf9d2d5e7ebaf</td>\n",
       "    </tr>\n",
       "    <tr>\n",
       "      <th>129</th>\n",
       "      <td>130</td>\n",
       "      <td>2012-11-17 23:26:45</td>\n",
       "      <td>2012-11-17 23:38:17</td>\n",
       "      <td>87</td>\n",
       "      <td>5</td>\n",
       "      <td>1</td>\n",
       "      <td>2</td>\n",
       "      <td>3</td>\n",
       "      <td>1</td>\n",
       "      <td>0</td>\n",
       "      <td>...</td>\n",
       "      <td>NaN</td>\n",
       "      <td>NaN</td>\n",
       "      <td>0.0</td>\n",
       "      <td>1</td>\n",
       "      <td>6.000000</td>\n",
       "      <td>2.4</td>\n",
       "      <td>1.2</td>\n",
       "      <td>6</td>\n",
       "      <td>0</td>\n",
       "      <td>10bfaa5de2d8dfddb0446ed49a0ffc64</td>\n",
       "    </tr>\n",
       "    <tr>\n",
       "      <th>130</th>\n",
       "      <td>131</td>\n",
       "      <td>2012-11-18 00:04:41</td>\n",
       "      <td>2012-11-18 00:13:16</td>\n",
       "      <td>155</td>\n",
       "      <td>5</td>\n",
       "      <td>1</td>\n",
       "      <td>1</td>\n",
       "      <td>1</td>\n",
       "      <td>1</td>\n",
       "      <td>0</td>\n",
       "      <td>...</td>\n",
       "      <td>NaN</td>\n",
       "      <td>1.0</td>\n",
       "      <td>1.0</td>\n",
       "      <td>1</td>\n",
       "      <td>5.000000</td>\n",
       "      <td>2.3</td>\n",
       "      <td>1.4</td>\n",
       "      <td>5</td>\n",
       "      <td>0</td>\n",
       "      <td>c0456524aff36a9f816856d26a763bf0</td>\n",
       "    </tr>\n",
       "  </tbody>\n",
       "</table>\n",
       "<p>5 rows × 79 columns</p>\n",
       "</div>"
      ],
      "text/plain": [
       "     Unnamed: 0            StartDate              EndDate  Cum_ID  filter  \\\n",
       "126         127  2012-11-17 23:01:46  2012-11-17 23:12:27      28       5   \n",
       "127         128  2012-11-17 22:49:25  2012-11-17 23:00:52       2       5   \n",
       "128         129  2012-11-17 23:47:48  2012-11-18 00:01:53     132       5   \n",
       "129         130  2012-11-17 23:26:45  2012-11-17 23:38:17      87       5   \n",
       "130         131  2012-11-18 00:04:41  2012-11-18 00:13:16     155       5   \n",
       "\n",
       "     filter2  CF_headsheads1tails2  num_coin_tosses  instr  \\\n",
       "126        1                     1                3      1   \n",
       "127        1                     1                3      1   \n",
       "128        1                     1                3      1   \n",
       "129        1                     2                3      1   \n",
       "130        1                     1                1      1   \n",
       "\n",
       "     reported_guessed_correctly  ...  ethnicity_5  ethnicity_6  student  code  \\\n",
       "126                           0  ...          NaN          1.0      0.0     1   \n",
       "127                           0  ...          NaN          1.0      1.0     1   \n",
       "128                           0  ...          NaN          1.0      1.0     1   \n",
       "129                           0  ...          NaN          NaN      0.0     1   \n",
       "130                           0  ...          NaN          1.0      1.0     1   \n",
       "\n",
       "     care_about_rules  pos_affect  neg_affect  RAT_perf  cheated  \\\n",
       "126          4.333333         3.5         1.6         5        0   \n",
       "127          4.333333         3.2         1.1        13        0   \n",
       "128          6.000000         1.7         1.6         9        0   \n",
       "129          6.000000         2.4         1.2         6        0   \n",
       "130          5.000000         2.3         1.4         5        0   \n",
       "\n",
       "                          MTurkID_md5  \n",
       "126  15a679b321cb57b56dbd2ed184405f66  \n",
       "127  0a03f24dd1c20d50265435ff643e54c4  \n",
       "128  ed6292628b19d080c3caf9d2d5e7ebaf  \n",
       "129  10bfaa5de2d8dfddb0446ed49a0ffc64  \n",
       "130  c0456524aff36a9f816856d26a763bf0  \n",
       "\n",
       "[5 rows x 79 columns]"
      ]
     },
     "execution_count": 17,
     "metadata": {},
     "output_type": "execute_result"
    }
   ],
   "source": [
    "# Using conditions to filter rows with more than ten responses\n",
    "high_response = df[df['Numberofresponses'] > 10]\n",
    "\n",
    "# Display the head of filtered data\n",
    "high_response.head()\n"
   ]
  },
  {
   "cell_type": "code",
   "execution_count": 18,
   "metadata": {
    "editable": true,
    "remove_code": "non-comments",
    "slideshow": {
     "slide_type": ""
    },
    "tags": []
   },
   "outputs": [
    {
     "data": {
      "text/html": [
       "<div>\n",
       "<style scoped>\n",
       "    .dataframe tbody tr th:only-of-type {\n",
       "        vertical-align: middle;\n",
       "    }\n",
       "\n",
       "    .dataframe tbody tr th {\n",
       "        vertical-align: top;\n",
       "    }\n",
       "\n",
       "    .dataframe thead th {\n",
       "        text-align: right;\n",
       "    }\n",
       "</style>\n",
       "<table border=\"1\" class=\"dataframe\">\n",
       "  <thead>\n",
       "    <tr style=\"text-align: right;\">\n",
       "      <th></th>\n",
       "      <th>cheated</th>\n",
       "      <th>Numberofresponses</th>\n",
       "    </tr>\n",
       "  </thead>\n",
       "  <tbody>\n",
       "    <tr>\n",
       "      <th>126</th>\n",
       "      <td>0</td>\n",
       "      <td>11</td>\n",
       "    </tr>\n",
       "    <tr>\n",
       "      <th>127</th>\n",
       "      <td>0</td>\n",
       "      <td>11</td>\n",
       "    </tr>\n",
       "    <tr>\n",
       "      <th>128</th>\n",
       "      <td>0</td>\n",
       "      <td>11</td>\n",
       "    </tr>\n",
       "    <tr>\n",
       "      <th>129</th>\n",
       "      <td>0</td>\n",
       "      <td>11</td>\n",
       "    </tr>\n",
       "    <tr>\n",
       "      <th>130</th>\n",
       "      <td>0</td>\n",
       "      <td>11</td>\n",
       "    </tr>\n",
       "  </tbody>\n",
       "</table>\n",
       "</div>"
      ],
      "text/plain": [
       "     cheated  Numberofresponses\n",
       "126        0                 11\n",
       "127        0                 11\n",
       "128        0                 11\n",
       "129        0                 11\n",
       "130        0                 11"
      ]
     },
     "execution_count": 18,
     "metadata": {},
     "output_type": "execute_result"
    }
   ],
   "source": [
    "# Using loc with conditions to get only the cheated and Numberofresponses columns for rows with a large number of responses\n",
    "cheaters_high_response = df.loc[df['Numberofresponses'] > 10, ['cheated', 'Numberofresponses']]\n",
    "\n",
    "# Display the head of filtered data\n",
    "cheaters_high_response.head()"
   ]
  },
  {
   "cell_type": "markdown",
   "metadata": {
    "editable": true,
    "slideshow": {
     "slide_type": "slide"
    },
    "tags": []
   },
   "source": [
    "## Cleaning up: Converting Date Columns to Datetime\n",
    "Pandas allows us to convert date columns to datetime format for easier manipulation."
   ]
  },
  {
   "cell_type": "code",
   "execution_count": 19,
   "metadata": {
    "editable": true,
    "remove_code": "non-comments",
    "slideshow": {
     "slide_type": ""
    },
    "tags": []
   },
   "outputs": [
    {
     "data": {
      "text/plain": [
       "StartDate    datetime64[ns]\n",
       "EndDate      datetime64[ns]\n",
       "dtype: object"
      ]
     },
     "execution_count": 19,
     "metadata": {},
     "output_type": "execute_result"
    }
   ],
   "source": [
    "# Convert 'StartDate' and 'EndDate' to datetime\n",
    "df['StartDate'] = pd.to_datetime(df['StartDate'])\n",
    "df['EndDate'] = pd.to_datetime(df['EndDate'])\n",
    "\n",
    "# Display the types to confirm conversion\n",
    "df[['StartDate', 'EndDate']].dtypes"
   ]
  },
  {
   "cell_type": "markdown",
   "metadata": {
    "editable": true,
    "slideshow": {
     "slide_type": "slide"
    },
    "tags": []
   },
   "source": [
    "## Cleaning up: Handling Missing Values"
   ]
  },
  {
   "cell_type": "code",
   "execution_count": 20,
   "metadata": {
    "editable": true,
    "remove_code": "non-comments",
    "slideshow": {
     "slide_type": ""
    },
    "tags": []
   },
   "outputs": [
    {
     "data": {
      "text/plain": [
       "pos_1            2\n",
       "neg_1            2\n",
       "pos_2            2\n",
       "neg_2            2\n",
       "pos_3            2\n",
       "neg_3            2\n",
       "neg_4            2\n",
       "neg_5            2\n",
       "pos_4            2\n",
       "pos_5            2\n",
       "neg_6            2\n",
       "pos_6            2\n",
       "neg_7            2\n",
       "pos_7            2\n",
       "neg_8            2\n",
       "pos_8            2\n",
       "pos_9            2\n",
       "neg_9            2\n",
       "pos_10           2\n",
       "neg_10           2\n",
       "instr_A          2\n",
       "female           2\n",
       "age              6\n",
       "edu              2\n",
       "ethnicity_1    175\n",
       "ethnicity_2    161\n",
       "ethnicity_3    163\n",
       "ethnicity_4    168\n",
       "ethnicity_5    176\n",
       "ethnicity_6     39\n",
       "student          2\n",
       "pos_affect       2\n",
       "neg_affect       2\n",
       "dtype: int64"
      ]
     },
     "execution_count": 20,
     "metadata": {},
     "output_type": "execute_result"
    }
   ],
   "source": [
    "# Use isnull() to check for missing values\n",
    "# Get sum to test for the number of missing values per column\n",
    "missing_values = df.isnull().sum()\n",
    "\n",
    "# Output columns with missing values\n",
    "missing_values[missing_values > 0]"
   ]
  },
  {
   "cell_type": "markdown",
   "metadata": {
    "editable": true,
    "slideshow": {
     "slide_type": "slide"
    },
    "tags": []
   },
   "source": [
    "## An example of how you might fill missing data\n",
    "This is a technical demonstration, if or how to actually impute missing data is highly dependent on your field, but rarely the optimal solution."
   ]
  },
  {
   "cell_type": "code",
   "execution_count": 21,
   "metadata": {
    "editable": true,
    "remove_code": "non-comments",
    "slideshow": {
     "slide_type": ""
    },
    "tags": []
   },
   "outputs": [],
   "source": [
    "# Fill missing numeric values with the median\n",
    "df.loc[:, ['age', 'edu']].fillna(df[['age', 'edu']].median(), inplace=True)"
   ]
  },
  {
   "cell_type": "markdown",
   "metadata": {
    "editable": true,
    "slideshow": {
     "slide_type": "fragment"
    },
    "tags": []
   },
   "source": [
    "## Boolean Data Selection",
    "Alternative is to just exclude the affected rows with `dropna`"
   ]
  },
  {
   "cell_type": "code",
   "execution_count": 22,
   "metadata": {
    "editable": true,
    "remove_code": "non-comments",
    "slideshow": {
     "slide_type": ""
    },
    "tags": []
   },
   "outputs": [
    {
     "data": {
      "text/html": [
       "<div>\n",
       "<style scoped>\n",
       "    .dataframe tbody tr th:only-of-type {\n",
       "        vertical-align: middle;\n",
       "    }\n",
       "\n",
       "    .dataframe tbody tr th {\n",
       "        vertical-align: top;\n",
       "    }\n",
       "\n",
       "    .dataframe thead th {\n",
       "        text-align: right;\n",
       "    }\n",
       "</style>\n",
       "<table border=\"1\" class=\"dataframe\">\n",
       "  <thead>\n",
       "    <tr style=\"text-align: right;\">\n",
       "      <th></th>\n",
       "      <th>Unnamed: 0</th>\n",
       "      <th>StartDate</th>\n",
       "      <th>EndDate</th>\n",
       "      <th>Cum_ID</th>\n",
       "      <th>filter</th>\n",
       "      <th>filter2</th>\n",
       "      <th>CF_headsheads1tails2</th>\n",
       "      <th>num_coin_tosses</th>\n",
       "      <th>instr</th>\n",
       "      <th>reported_guessed_correctly</th>\n",
       "      <th>...</th>\n",
       "      <th>ethnicity_5</th>\n",
       "      <th>ethnicity_6</th>\n",
       "      <th>student</th>\n",
       "      <th>code</th>\n",
       "      <th>care_about_rules</th>\n",
       "      <th>pos_affect</th>\n",
       "      <th>neg_affect</th>\n",
       "      <th>RAT_perf</th>\n",
       "      <th>cheated</th>\n",
       "      <th>MTurkID_md5</th>\n",
       "    </tr>\n",
       "  </thead>\n",
       "  <tbody>\n",
       "  </tbody>\n",
       "</table>\n",
       "<p>0 rows × 79 columns</p>\n",
       "</div>"
      ],
      "text/plain": [
       "Empty DataFrame\n",
       "Columns: [Unnamed: 0, StartDate, EndDate, Cum_ID, filter, filter2, CF_headsheads1tails2, num_coin_tosses, instr, reported_guessed_correctly, ruleFollow1, ruleFollow2, ruleFollow3, Numberofresponses, Originality, Flexibility, timeUses_1, timeUses_2, timeUses_3, timeUses_4, RAT_1, RAT_2, RAT_3, RAT_4, RAT_5, RAT_6, RAT_7, RAT_8, RAT_9, RAT_10, RAT_11, RAT_12, RAT_13, RAT_14, RAT_15, RAT_16, RAT_17, TimeRAT_1, TimeRAT_2, TimeRAT_3, TimeRAT_4, pos_1, neg_1, pos_2, neg_2, pos_3, neg_3, neg_4, neg_5, pos_4, pos_5, neg_6, pos_6, neg_7, pos_7, neg_8, pos_8, pos_9, neg_9, pos_10, neg_10, instr_A, female, age, edu, ethnicity_1, ethnicity_2, ethnicity_3, ethnicity_4, ethnicity_5, ethnicity_6, student, code, care_about_rules, pos_affect, neg_affect, RAT_perf, cheated, MTurkID_md5]\n",
       "Index: []\n",
       "\n",
       "[0 rows x 79 columns]"
      ]
     },
     "execution_count": 22,
     "metadata": {},
     "output_type": "execute_result"
    }
   ],
   "source": [
    "# Demonstrate dropna on whole dataset\n",
    "df.dropna()\n"
   ]
  },
  {
   "cell_type": "code",
   "execution_count": 23,
   "metadata": {
    "editable": true,
    "remove_code": "non-comments",
    "slideshow": {
     "slide_type": ""
    },
    "tags": []
   },
   "outputs": [
    {
     "data": {
      "text/html": [
       "<div>\n",
       "<style scoped>\n",
       "    .dataframe tbody tr th:only-of-type {\n",
       "        vertical-align: middle;\n",
       "    }\n",
       "\n",
       "    .dataframe tbody tr th {\n",
       "        vertical-align: top;\n",
       "    }\n",
       "\n",
       "    .dataframe thead th {\n",
       "        text-align: right;\n",
       "    }\n",
       "</style>\n",
       "<table border=\"1\" class=\"dataframe\">\n",
       "  <thead>\n",
       "    <tr style=\"text-align: right;\">\n",
       "      <th></th>\n",
       "      <th>num_coin_tosses</th>\n",
       "    </tr>\n",
       "  </thead>\n",
       "  <tbody>\n",
       "    <tr>\n",
       "      <th>0</th>\n",
       "      <td>3</td>\n",
       "    </tr>\n",
       "    <tr>\n",
       "      <th>1</th>\n",
       "      <td>3</td>\n",
       "    </tr>\n",
       "    <tr>\n",
       "      <th>2</th>\n",
       "      <td>3</td>\n",
       "    </tr>\n",
       "    <tr>\n",
       "      <th>3</th>\n",
       "      <td>3</td>\n",
       "    </tr>\n",
       "    <tr>\n",
       "      <th>4</th>\n",
       "      <td>3</td>\n",
       "    </tr>\n",
       "    <tr>\n",
       "      <th>...</th>\n",
       "      <td>...</td>\n",
       "    </tr>\n",
       "    <tr>\n",
       "      <th>173</th>\n",
       "      <td>3</td>\n",
       "    </tr>\n",
       "    <tr>\n",
       "      <th>174</th>\n",
       "      <td>3</td>\n",
       "    </tr>\n",
       "    <tr>\n",
       "      <th>175</th>\n",
       "      <td>3</td>\n",
       "    </tr>\n",
       "    <tr>\n",
       "      <th>176</th>\n",
       "      <td>3</td>\n",
       "    </tr>\n",
       "    <tr>\n",
       "      <th>177</th>\n",
       "      <td>3</td>\n",
       "    </tr>\n",
       "  </tbody>\n",
       "</table>\n",
       "<p>178 rows × 1 columns</p>\n",
       "</div>"
      ],
      "text/plain": [
       "     num_coin_tosses\n",
       "0                  3\n",
       "1                  3\n",
       "2                  3\n",
       "3                  3\n",
       "4                  3\n",
       "..               ...\n",
       "173                3\n",
       "174                3\n",
       "175                3\n",
       "176                3\n",
       "177                3\n",
       "\n",
       "[178 rows x 1 columns]"
      ]
     },
     "execution_count": 23,
     "metadata": {},
     "output_type": "execute_result"
    }
   ],
   "source": [
    "# Demonstrate dropna on a subset of columns\n",
    "df[['num_coin_tosses']].dropna()\n"
   ]
  },
  {
   "cell_type": "markdown",
   "metadata": {
    "slideshow": {
     "slide_type": "notes"
    }
   },
   "source": [
    "Speaker notes: Show that `dropna` removes all rows with a `NaN` value in any column of the filtering."
   ]
  },
  {
   "cell_type": "markdown",
   "metadata": {
    "editable": true,
    "slideshow": {
     "slide_type": "slide"
    },
    "tags": []
   },
   "source": [
    "# Using `describe` for a quick statistical analysis"
   ]
  },
  {
   "cell_type": "code",
   "execution_count": 24,
   "metadata": {
    "editable": true,
    "remove_code": "non-comments",
    "slideshow": {
     "slide_type": ""
    },
    "tags": []
   },
   "outputs": [
    {
     "data": {
      "text/html": [
       "<div>\n",
       "<style scoped>\n",
       "    .dataframe tbody tr th:only-of-type {\n",
       "        vertical-align: middle;\n",
       "    }\n",
       "\n",
       "    .dataframe tbody tr th {\n",
       "        vertical-align: top;\n",
       "    }\n",
       "\n",
       "    .dataframe thead th {\n",
       "        text-align: right;\n",
       "    }\n",
       "</style>\n",
       "<table border=\"1\" class=\"dataframe\">\n",
       "  <thead>\n",
       "    <tr style=\"text-align: right;\">\n",
       "      <th></th>\n",
       "      <th>count</th>\n",
       "      <th>mean</th>\n",
       "      <th>min</th>\n",
       "      <th>25%</th>\n",
       "      <th>50%</th>\n",
       "      <th>75%</th>\n",
       "      <th>max</th>\n",
       "      <th>std</th>\n",
       "    </tr>\n",
       "  </thead>\n",
       "  <tbody>\n",
       "    <tr>\n",
       "      <th>Unnamed: 0</th>\n",
       "      <td>178.0</td>\n",
       "      <td>89.5</td>\n",
       "      <td>1.0</td>\n",
       "      <td>45.25</td>\n",
       "      <td>89.5</td>\n",
       "      <td>133.75</td>\n",
       "      <td>178.0</td>\n",
       "      <td>51.528309</td>\n",
       "    </tr>\n",
       "    <tr>\n",
       "      <th>StartDate</th>\n",
       "      <td>178</td>\n",
       "      <td>2012-11-17 23:27:10.505618176</td>\n",
       "      <td>2012-11-17 22:49:18</td>\n",
       "      <td>2012-11-17 23:04:57.500000</td>\n",
       "      <td>2012-11-17 23:25:27.500000</td>\n",
       "      <td>2012-11-17 23:46:00</td>\n",
       "      <td>2012-11-18 01:07:15</td>\n",
       "      <td>NaN</td>\n",
       "    </tr>\n",
       "    <tr>\n",
       "      <th>EndDate</th>\n",
       "      <td>178</td>\n",
       "      <td>2012-11-17 23:42:33.724718848</td>\n",
       "      <td>2012-11-17 22:58:53</td>\n",
       "      <td>2012-11-17 23:19:35.249999872</td>\n",
       "      <td>2012-11-17 23:40:24.500000</td>\n",
       "      <td>2012-11-18 00:02:42</td>\n",
       "      <td>2012-11-18 01:17:53</td>\n",
       "      <td>NaN</td>\n",
       "    </tr>\n",
       "    <tr>\n",
       "      <th>Cum_ID</th>\n",
       "      <td>178.0</td>\n",
       "      <td>92.769663</td>\n",
       "      <td>1.0</td>\n",
       "      <td>45.25</td>\n",
       "      <td>93.5</td>\n",
       "      <td>138.75</td>\n",
       "      <td>192.0</td>\n",
       "      <td>53.876483</td>\n",
       "    </tr>\n",
       "    <tr>\n",
       "      <th>filter</th>\n",
       "      <td>178.0</td>\n",
       "      <td>5.0</td>\n",
       "      <td>5.0</td>\n",
       "      <td>5.0</td>\n",
       "      <td>5.0</td>\n",
       "      <td>5.0</td>\n",
       "      <td>5.0</td>\n",
       "      <td>0.0</td>\n",
       "    </tr>\n",
       "    <tr>\n",
       "      <th>...</th>\n",
       "      <td>...</td>\n",
       "      <td>...</td>\n",
       "      <td>...</td>\n",
       "      <td>...</td>\n",
       "      <td>...</td>\n",
       "      <td>...</td>\n",
       "      <td>...</td>\n",
       "      <td>...</td>\n",
       "    </tr>\n",
       "    <tr>\n",
       "      <th>care_about_rules</th>\n",
       "      <td>178.0</td>\n",
       "      <td>4.889513</td>\n",
       "      <td>1.0</td>\n",
       "      <td>3.666667</td>\n",
       "      <td>5.166667</td>\n",
       "      <td>6.333333</td>\n",
       "      <td>7.0</td>\n",
       "      <td>1.587665</td>\n",
       "    </tr>\n",
       "    <tr>\n",
       "      <th>pos_affect</th>\n",
       "      <td>176.0</td>\n",
       "      <td>2.444318</td>\n",
       "      <td>1.0</td>\n",
       "      <td>1.8</td>\n",
       "      <td>2.3</td>\n",
       "      <td>3.0</td>\n",
       "      <td>5.0</td>\n",
       "      <td>0.865974</td>\n",
       "    </tr>\n",
       "    <tr>\n",
       "      <th>neg_affect</th>\n",
       "      <td>176.0</td>\n",
       "      <td>1.481818</td>\n",
       "      <td>1.0</td>\n",
       "      <td>1.075</td>\n",
       "      <td>1.2</td>\n",
       "      <td>1.7</td>\n",
       "      <td>4.9</td>\n",
       "      <td>0.631107</td>\n",
       "    </tr>\n",
       "    <tr>\n",
       "      <th>RAT_perf</th>\n",
       "      <td>178.0</td>\n",
       "      <td>8.235955</td>\n",
       "      <td>0.0</td>\n",
       "      <td>6.0</td>\n",
       "      <td>8.0</td>\n",
       "      <td>11.0</td>\n",
       "      <td>15.0</td>\n",
       "      <td>3.697678</td>\n",
       "    </tr>\n",
       "    <tr>\n",
       "      <th>cheated</th>\n",
       "      <td>178.0</td>\n",
       "      <td>0.241573</td>\n",
       "      <td>0.0</td>\n",
       "      <td>0.0</td>\n",
       "      <td>0.0</td>\n",
       "      <td>0.0</td>\n",
       "      <td>1.0</td>\n",
       "      <td>0.429244</td>\n",
       "    </tr>\n",
       "  </tbody>\n",
       "</table>\n",
       "<p>78 rows × 8 columns</p>\n",
       "</div>"
      ],
      "text/plain": [
       "                  count                           mean                  min  \\\n",
       "Unnamed: 0        178.0                           89.5                  1.0   \n",
       "StartDate           178  2012-11-17 23:27:10.505618176  2012-11-17 22:49:18   \n",
       "EndDate             178  2012-11-17 23:42:33.724718848  2012-11-17 22:58:53   \n",
       "Cum_ID            178.0                      92.769663                  1.0   \n",
       "filter            178.0                            5.0                  5.0   \n",
       "...                 ...                            ...                  ...   \n",
       "care_about_rules  178.0                       4.889513                  1.0   \n",
       "pos_affect        176.0                       2.444318                  1.0   \n",
       "neg_affect        176.0                       1.481818                  1.0   \n",
       "RAT_perf          178.0                       8.235955                  0.0   \n",
       "cheated           178.0                       0.241573                  0.0   \n",
       "\n",
       "                                            25%                         50%  \\\n",
       "Unnamed: 0                                45.25                        89.5   \n",
       "StartDate            2012-11-17 23:04:57.500000  2012-11-17 23:25:27.500000   \n",
       "EndDate           2012-11-17 23:19:35.249999872  2012-11-17 23:40:24.500000   \n",
       "Cum_ID                                    45.25                        93.5   \n",
       "filter                                      5.0                         5.0   \n",
       "...                                         ...                         ...   \n",
       "care_about_rules                       3.666667                    5.166667   \n",
       "pos_affect                                  1.8                         2.3   \n",
       "neg_affect                                1.075                         1.2   \n",
       "RAT_perf                                    6.0                         8.0   \n",
       "cheated                                     0.0                         0.0   \n",
       "\n",
       "                                  75%                  max        std  \n",
       "Unnamed: 0                     133.75                178.0  51.528309  \n",
       "StartDate         2012-11-17 23:46:00  2012-11-18 01:07:15        NaN  \n",
       "EndDate           2012-11-18 00:02:42  2012-11-18 01:17:53        NaN  \n",
       "Cum_ID                         138.75                192.0  53.876483  \n",
       "filter                            5.0                  5.0        0.0  \n",
       "...                               ...                  ...        ...  \n",
       "care_about_rules             6.333333                  7.0   1.587665  \n",
       "pos_affect                        3.0                  5.0   0.865974  \n",
       "neg_affect                        1.7                  4.9   0.631107  \n",
       "RAT_perf                         11.0                 15.0   3.697678  \n",
       "cheated                           0.0                  1.0   0.429244  \n",
       "\n",
       "[78 rows x 8 columns]"
      ]
     },
     "execution_count": 24,
     "metadata": {},
     "output_type": "execute_result"
    }
   ],
   "source": [
    "# Descriptive statistics for numeric columns\n",
    "df.describe().T"
   ]
  },
  {
   "cell_type": "markdown",
   "metadata": {
    "editable": true,
    "slideshow": {
     "slide_type": "notes"
    },
    "tags": []
   },
   "source": [
    "Speaker Notes:\n",
    "\n",
    "Introduce the `df.describe()` method, which provides descriptive statistics that summarize the central tendency, dispersion, and shape of a dataset's distribution, excluding NaN values. Explain what each statistic means (count, mean, std, min, etc.) and how they can be used to gain insights into the dataset, such as understanding data distribution, spotting outliers, and setting the stage for further data exploration and analysis. Often the transpose makes it easier to read as we might have more than 8 columns.\n"
   ]
  },
  {
   "cell_type": "markdown",
   "metadata": {
    "slideshow": {
     "slide_type": "slide"
    }
   },
   "source": [
    "# Reproducing the original but refuted calculation \n",
    "\n",
    "[Gino & Wiltermuth (2014): 'Evil Genius?: How Dishonesty Can Lead to Greater Creativity'](https://doi.org/10.1177/0956797614520714)\n",
    "\n",
    " - The original hypothesis was that people willing to cheat are more creative\n",
    " - People participated in a virtual coin toss game where they had the opportunity and incentive to cheat\n",
    " - They then were asked to come up with ways to use a newspaper as a measurement of creativity (among others)"
   ]
  },
  {
   "cell_type": "markdown",
   "metadata": {
    "editable": true,
    "slideshow": {
     "slide_type": "slide"
    },
    "tags": []
   },
   "source": [
    "## Selecting Relevant Data for Analysis\n",
    "We create a new work DataFrame that only contains the columns that indicate \n",
    " - whether a participant cheated (`cheated`)\n",
    " - and the number of uses for the newspaper (`Numberofresponses`)"
   ]
  },
  {
   "cell_type": "code",
   "execution_count": 25,
   "metadata": {
    "editable": true,
    "remove_code": "non-comments",
    "slideshow": {
     "slide_type": ""
    },
    "tags": []
   },
   "outputs": [
    {
     "data": {
      "text/html": [
       "<div>\n",
       "<style scoped>\n",
       "    .dataframe tbody tr th:only-of-type {\n",
       "        vertical-align: middle;\n",
       "    }\n",
       "\n",
       "    .dataframe tbody tr th {\n",
       "        vertical-align: top;\n",
       "    }\n",
       "\n",
       "    .dataframe thead th {\n",
       "        text-align: right;\n",
       "    }\n",
       "</style>\n",
       "<table border=\"1\" class=\"dataframe\">\n",
       "  <thead>\n",
       "    <tr style=\"text-align: right;\">\n",
       "      <th></th>\n",
       "      <th>cheated</th>\n",
       "      <th>Numberofresponses</th>\n",
       "    </tr>\n",
       "  </thead>\n",
       "  <tbody>\n",
       "    <tr>\n",
       "      <th>0</th>\n",
       "      <td>0</td>\n",
       "      <td>2</td>\n",
       "    </tr>\n",
       "    <tr>\n",
       "      <th>1</th>\n",
       "      <td>0</td>\n",
       "      <td>2</td>\n",
       "    </tr>\n",
       "    <tr>\n",
       "      <th>2</th>\n",
       "      <td>0</td>\n",
       "      <td>3</td>\n",
       "    </tr>\n",
       "    <tr>\n",
       "      <th>3</th>\n",
       "      <td>0</td>\n",
       "      <td>3</td>\n",
       "    </tr>\n",
       "    <tr>\n",
       "      <th>4</th>\n",
       "      <td>0</td>\n",
       "      <td>3</td>\n",
       "    </tr>\n",
       "  </tbody>\n",
       "</table>\n",
       "</div>"
      ],
      "text/plain": [
       "   cheated  Numberofresponses\n",
       "0        0                  2\n",
       "1        0                  2\n",
       "2        0                  3\n",
       "3        0                  3\n",
       "4        0                  3"
      ]
     },
     "execution_count": 25,
     "metadata": {},
     "output_type": "execute_result"
    }
   ],
   "source": [
    "# Create a new DataFrame with only necessary columns\n",
    "df_work = df[['cheated', 'Numberofresponses']].copy()\n",
    "\n",
    "# Display the new DataFrame to confirm selection\n",
    "df_work.head()"
   ]
  },
  {
   "cell_type": "markdown",
   "metadata": {
    "editable": true,
    "slideshow": {
     "slide_type": "notes"
    },
    "tags": []
   },
   "source": [
    "Speaker notes:\n",
    "- Reducing the DataFrame size not only helps in speeding up computations but also in avoiding potential errors or confusion from irrelevant data.\n",
    "- Using `.copy()` ensures that `df_work` is a separate object, preventing any SettingWithCopy warnings or errors when modifying this new DataFrame."
   ]
  },
  {
   "cell_type": "markdown",
   "metadata": {
    "editable": true,
    "slideshow": {
     "slide_type": "slide"
    },
    "tags": []
   },
   "source": [
    "## Preparing Data for Analysis\n",
    "We create subviews for the datasets for the people that cheated and the people that did not"
   ]
  },
  {
   "cell_type": "code",
   "execution_count": 26,
   "metadata": {
    "editable": true,
    "remove_code": "non-comments",
    "slideshow": {
     "slide_type": ""
    },
    "tags": []
   },
   "outputs": [
    {
     "data": {
      "text/html": [
       "<div>\n",
       "<style scoped>\n",
       "    .dataframe tbody tr th:only-of-type {\n",
       "        vertical-align: middle;\n",
       "    }\n",
       "\n",
       "    .dataframe tbody tr th {\n",
       "        vertical-align: top;\n",
       "    }\n",
       "\n",
       "    .dataframe thead th {\n",
       "        text-align: right;\n",
       "    }\n",
       "</style>\n",
       "<table border=\"1\" class=\"dataframe\">\n",
       "  <thead>\n",
       "    <tr style=\"text-align: right;\">\n",
       "      <th></th>\n",
       "      <th>cheated</th>\n",
       "      <th>Numberofresponses</th>\n",
       "    </tr>\n",
       "  </thead>\n",
       "  <tbody>\n",
       "    <tr>\n",
       "      <th>0</th>\n",
       "      <td>0</td>\n",
       "      <td>2</td>\n",
       "    </tr>\n",
       "    <tr>\n",
       "      <th>1</th>\n",
       "      <td>0</td>\n",
       "      <td>2</td>\n",
       "    </tr>\n",
       "    <tr>\n",
       "      <th>2</th>\n",
       "      <td>0</td>\n",
       "      <td>3</td>\n",
       "    </tr>\n",
       "    <tr>\n",
       "      <th>3</th>\n",
       "      <td>0</td>\n",
       "      <td>3</td>\n",
       "    </tr>\n",
       "    <tr>\n",
       "      <th>4</th>\n",
       "      <td>0</td>\n",
       "      <td>3</td>\n",
       "    </tr>\n",
       "    <tr>\n",
       "      <th>5</th>\n",
       "      <td>0</td>\n",
       "      <td>3</td>\n",
       "    </tr>\n",
       "    <tr>\n",
       "      <th>6</th>\n",
       "      <td>0</td>\n",
       "      <td>3</td>\n",
       "    </tr>\n",
       "  </tbody>\n",
       "</table>\n",
       "</div>"
      ],
      "text/plain": [
       "   cheated  Numberofresponses\n",
       "0        0                  2\n",
       "1        0                  2\n",
       "2        0                  3\n",
       "3        0                  3\n",
       "4        0                  3\n",
       "5        0                  3\n",
       "6        0                  3"
      ]
     },
     "execution_count": 26,
     "metadata": {},
     "output_type": "execute_result"
    }
   ],
   "source": [
    "# Select non-cheaters and display the first 7 rows\n",
    "non_cheaters = df_work[df_work['cheated'] == 0]\n",
    "non_cheaters.head(7)"
   ]
  },
  {
   "cell_type": "code",
   "execution_count": 27,
   "metadata": {
    "editable": true,
    "remove_code": "non-comments",
    "slideshow": {
     "slide_type": ""
    },
    "tags": []
   },
   "outputs": [
    {
     "data": {
      "text/html": [
       "<div>\n",
       "<style scoped>\n",
       "    .dataframe tbody tr th:only-of-type {\n",
       "        vertical-align: middle;\n",
       "    }\n",
       "\n",
       "    .dataframe tbody tr th {\n",
       "        vertical-align: top;\n",
       "    }\n",
       "\n",
       "    .dataframe thead th {\n",
       "        text-align: right;\n",
       "    }\n",
       "</style>\n",
       "<table border=\"1\" class=\"dataframe\">\n",
       "  <thead>\n",
       "    <tr style=\"text-align: right;\">\n",
       "      <th></th>\n",
       "      <th>cheated</th>\n",
       "      <th>Numberofresponses</th>\n",
       "    </tr>\n",
       "  </thead>\n",
       "  <tbody>\n",
       "    <tr>\n",
       "      <th>135</th>\n",
       "      <td>1</td>\n",
       "      <td>3</td>\n",
       "    </tr>\n",
       "    <tr>\n",
       "      <th>136</th>\n",
       "      <td>1</td>\n",
       "      <td>3</td>\n",
       "    </tr>\n",
       "    <tr>\n",
       "      <th>137</th>\n",
       "      <td>1</td>\n",
       "      <td>4</td>\n",
       "    </tr>\n",
       "    <tr>\n",
       "      <th>138</th>\n",
       "      <td>1</td>\n",
       "      <td>4</td>\n",
       "    </tr>\n",
       "    <tr>\n",
       "      <th>139</th>\n",
       "      <td>1</td>\n",
       "      <td>13</td>\n",
       "    </tr>\n",
       "    <tr>\n",
       "      <th>140</th>\n",
       "      <td>1</td>\n",
       "      <td>9</td>\n",
       "    </tr>\n",
       "    <tr>\n",
       "      <th>141</th>\n",
       "      <td>1</td>\n",
       "      <td>5</td>\n",
       "    </tr>\n",
       "  </tbody>\n",
       "</table>\n",
       "</div>"
      ],
      "text/plain": [
       "     cheated  Numberofresponses\n",
       "135        1                  3\n",
       "136        1                  3\n",
       "137        1                  4\n",
       "138        1                  4\n",
       "139        1                 13\n",
       "140        1                  9\n",
       "141        1                  5"
      ]
     },
     "execution_count": 27,
     "metadata": {},
     "output_type": "execute_result"
    }
   ],
   "source": [
    "# Select cheaters and display the first 7 rows\n",
    "cheaters = df_work[df_work['cheated'] == 1]\n",
    "cheaters.head(7)"
   ]
  },
  {
   "cell_type": "markdown",
   "metadata": {
    "editable": true,
    "slideshow": {
     "slide_type": "slide"
    },
    "tags": []
   },
   "source": [
    "## Conducting T-Tests\n",
    "We can now reproduce the analysis of the original publication from 2014"
   ]
  },
  {
   "cell_type": "code",
   "execution_count": 28,
   "metadata": {
    "editable": true,
    "remove_code": "after:# Calculate the ttest value for the numberofresponses of cheaters and non-cheaters",
    "slideshow": {
     "slide_type": ""
    },
    "tags": []
   },
   "outputs": [
    {
     "name": "stdout",
     "output_type": "stream",
     "text": [
      "T-statistic: 4.23885197761483, P-value: 3.620653714121987e-05\n",
      "Cheaters: Mean = 8.325581395348838, Std = 2.8006880976999216\n",
      "Non-Cheaters: Mean = 6.518518518518518, Std = 2.3078446747051573\n"
     ]
    }
   ],
   "source": [
    "from scipy.stats import ttest_ind\n",
    "# Calculate the ttest value for the numberofresponses of cheaters and non-cheaters\n",
    "t_stat, p_value = ttest_ind(cheaters['Numberofresponses'], non_cheaters['Numberofresponses'])\n",
    "\n",
    "print(f\"T-statistic: {t_stat}, P-value: {p_value}\")\n",
    "\n",
    "# Calculate the mean and std of number of responses for cheaters and non-cheaters\n",
    "cheaters_mean = cheaters['Numberofresponses'].mean()\n",
    "cheaters_std = cheaters['Numberofresponses'].std()\n",
    "non_cheaters_mean = non_cheaters['Numberofresponses'].mean()\n",
    "non_cheaters_std = non_cheaters['Numberofresponses'].std()\n",
    "\n",
    "print(f\"Cheaters: Mean = {cheaters_mean}, Std = {cheaters_std}\")\n",
    "print(f\"Non-Cheaters: Mean = {non_cheaters_mean}, Std = {non_cheaters_std}\")"
   ]
  },
  {
   "cell_type": "markdown",
   "metadata": {
    "editable": true,
    "slideshow": {
     "slide_type": "notes"
    },
    "tags": []
   },
   "source": [
    "Speaker notes:\n",
    " - NumPy function directly work with pandas Series as well\n",
    " - Everything is great?"
   ]
  },
  {
   "cell_type": "markdown",
   "metadata": {
    "editable": true,
    "slideshow": {
     "slide_type": "slide"
    },
    "tags": []
   },
   "source": [
    "## The sorting of the data indicates manipulation\n",
    "as found by [Uri, Joe, & Leif (2023): [111] Data Falsificada (Part 3): \"The Cheaters Are Out of Order\"](https://datacolada.org/111)\n",
    "\n",
    "We can have a look by using matplotlib"
   ]
  },
  {
   "cell_type": "code",
   "execution_count": 29,
   "metadata": {
    "editable": true,
    "remove_code": "non-comments",
    "slideshow": {
     "slide_type": ""
    },
    "tags": []
   },
   "outputs": [
    {
     "data": {
      "image/png": "[encoded data removed]",
      "text/plain": [
       "<Figure size 1000x300 with 1 Axes>"
      ]
     },
     "metadata": {},
     "output_type": "display_data"
    }
   ],
   "source": [
    "# Create a plot of index versus number of responses, color by the cheated column\n",
    "import matplotlib.pyplot as plt\n",
    "fig, ax = plt.subplots(figsize=(10, 3))\n",
    "ax.scatter(df.index, df['Numberofresponses'], c=df['cheated'], cmap='coolwarm')\n",
    "ax.set_xlabel('Index in dataset')\n",
    "ax.set_ylabel('Number of responses');"
   ]
  },
  {
   "cell_type": "markdown",
   "metadata": {
    "editable": true,
    "slideshow": {
     "slide_type": "notes"
    },
    "tags": []
   },
   "source": [
    "Speaker notes:\n",
    " - **Color**: Participants who cheated are indicated with red, non-cheaters in blue\n",
    " - The dataset seems to be ordered by cheaters and non-cheaters\n",
    " - Within the categories, the non-cheaters are ordered by number of responses, a portion of the cheaters is ordered by number of responses as well\n"
   ]
  },
  {
   "cell_type": "markdown",
   "metadata": {
    "editable": true,
    "slideshow": {
     "slide_type": "slide"
    },
    "tags": []
   },
   "source": [
    "#  So what if the cheaters were originally in order as well\n",
    "\n",
    "We can implement a function that enforces monotonicity (means data can only be lower than the following values)"
   ]
  },
  {
   "cell_type": "code",
   "execution_count": 30,
   "metadata": {
    "editable": true,
    "remove_code": "after:# Correct value to min if True",
    "slideshow": {
     "slide_type": ""
    },
    "tags": []
   },
   "outputs": [
    {
     "data": {
      "text/html": [
       "<div>\n",
       "<style scoped>\n",
       "    .dataframe tbody tr th:only-of-type {\n",
       "        vertical-align: middle;\n",
       "    }\n",
       "\n",
       "    .dataframe tbody tr th {\n",
       "        vertical-align: top;\n",
       "    }\n",
       "\n",
       "    .dataframe thead th {\n",
       "        text-align: right;\n",
       "    }\n",
       "</style>\n",
       "<table border=\"1\" class=\"dataframe\">\n",
       "  <thead>\n",
       "    <tr style=\"text-align: right;\">\n",
       "      <th></th>\n",
       "      <th>Numberofresponses</th>\n",
       "      <th>ImputedResponses</th>\n",
       "    </tr>\n",
       "  </thead>\n",
       "  <tbody>\n",
       "    <tr>\n",
       "      <th>135</th>\n",
       "      <td>3</td>\n",
       "      <td>3.0</td>\n",
       "    </tr>\n",
       "    <tr>\n",
       "      <th>136</th>\n",
       "      <td>3</td>\n",
       "      <td>3.0</td>\n",
       "    </tr>\n",
       "    <tr>\n",
       "      <th>137</th>\n",
       "      <td>4</td>\n",
       "      <td>4.0</td>\n",
       "    </tr>\n",
       "    <tr>\n",
       "      <th>138</th>\n",
       "      <td>4</td>\n",
       "      <td>4.0</td>\n",
       "    </tr>\n",
       "    <tr>\n",
       "      <th>139</th>\n",
       "      <td>13</td>\n",
       "      <td>5.0</td>\n",
       "    </tr>\n",
       "  </tbody>\n",
       "</table>\n",
       "</div>"
      ],
      "text/plain": [
       "     Numberofresponses  ImputedResponses\n",
       "135                  3               3.0\n",
       "136                  3               3.0\n",
       "137                  4               4.0\n",
       "138                  4               4.0\n",
       "139                 13               5.0"
      ]
     },
     "execution_count": 30,
     "metadata": {},
     "output_type": "execute_result"
    }
   ],
   "source": [
    "import numpy as np\n",
    "\n",
    "# Implement a function by checking if value higher than the min of value + next 4\n",
    "# Correct value to min if True\n",
    "def enforce_monotonicity(array):\n",
    "    corrected_array = array.copy()\n",
    "    for i in range(1, len(array)-1):\n",
    "        if corrected_array[i] > np.min(corrected_array[i:]):\n",
    "            corrected_array[i] = np.min(corrected_array[i:])\n",
    "    return corrected_array\n",
    "\n",
    "# Apply the function to the cheated values and create a new column ImputedResponses\n",
    "cheater_sel = df_work['cheated'] == 1\n",
    "df_work.loc[cheater_sel, 'ImputedResponses'] = enforce_monotonicity(cheaters['Numberofresponses'].values)\n",
    "\n",
    "# Fill the missing values for non-cheaters from the original data\n",
    "df_work['ImputedResponses'] = df_work['ImputedResponses'].fillna(df_work['Numberofresponses'])\n",
    "\n",
    "# Display the original and imputed data\n",
    "df_work.loc[cheater_sel, ['Numberofresponses', 'ImputedResponses']].head()"
   ]
  },
  {
   "cell_type": "markdown",
   "metadata": {
    "editable": true,
    "slideshow": {
     "slide_type": "slide"
    },
    "tags": []
   },
   "source": [
    "# Visualizing Before and After Imputation\n",
    "With more involved functions we should make sure that our calculation actually worked"
   ]
  },
  {
   "cell_type": "code",
   "execution_count": 31,
   "metadata": {
    "editable": true,
    "remove_code": "non-comments",
    "slideshow": {
     "slide_type": ""
    },
    "tags": []
   },
   "outputs": [
    {
     "data": {
      "image/png": "[encoded data removed]",
      "text/plain": [
       "<Figure size 1200x400 with 2 Axes>"
      ]
     },
     "metadata": {},
     "output_type": "display_data"
    }
   ],
   "source": [
    "# Create a new matplotlib figure to check that the function was successful\n",
    "fig, (ax1, ax2) = plt.subplots(1, 2, figsize=(12, 4), sharey=True)\n",
    "\n",
    "# Create DataFrame view with cheaters\n",
    "cheaters = df_work[cheater_sel]\n",
    "\n",
    "# Plot Original Data\n",
    "ax1.scatter(cheaters.index, cheaters['Numberofresponses'], color='red')\n",
    "ax1.set_title('Original Data')\n",
    "ax1.set_xlabel('Index')\n",
    "ax1.set_ylabel('Number of Responses')\n",
    "\n",
    "# Plot Imputed Data\n",
    "ax2.scatter(cheaters.index, cheaters['ImputedResponses'], color='blue')\n",
    "ax2.set_title('Imputed Data')\n",
    "ax2.set_xlabel('Index')\n",
    "\n",
    "plt.tight_layout()\n",
    "plt.show()"
   ]
  },
  {
   "cell_type": "markdown",
   "metadata": {
    "editable": true,
    "slideshow": {
     "slide_type": "slide"
    },
    "tags": []
   },
   "source": [
    "## Rerun the Statistical Analysis\n",
    "Although we have imputed high (if in doubt take the higher number of responses), the significance has vanished"
   ]
  },
  {
   "cell_type": "code",
   "execution_count": 32,
   "metadata": {
    "editable": true,
    "remove_code": "non-comments",
    "slideshow": {
     "slide_type": ""
    },
    "tags": []
   },
   "outputs": [
    {
     "name": "stdout",
     "output_type": "stream",
     "text": [
      "T-statistic: 1.3447617371681737, P-value: 0.18043261590115559\n",
      "Cheaters: Mean = 7.069767441860465, Std = 2.4436053460995204\n",
      "Non-Cheaters: Mean = 6.518518518518518, Std = 2.3078446747051573\n"
     ]
    }
   ],
   "source": [
    "# Recreate the analysis with the imputed data\n",
    "cheaters = df_work[df_work['cheated'] == 1]\n",
    "non_cheaters = df_work[df_work['cheated'] == 0]\n",
    "t_stat, p_value = ttest_ind(cheaters['ImputedResponses'], non_cheaters['ImputedResponses'])\n",
    "\n",
    "print(f\"T-statistic: {t_stat}, P-value: {p_value}\")\n",
    "\n",
    "# Calculate the mean and std of number of responses for cheaters and non-cheaters\n",
    "cheaters_mean = cheaters['ImputedResponses'].mean()\n",
    "cheaters_std = cheaters['ImputedResponses'].std()\n",
    "non_cheaters_mean = non_cheaters['ImputedResponses'].mean()\n",
    "non_cheaters_std = non_cheaters['ImputedResponses'].std()\n",
    "\n",
    "print(f\"Cheaters: Mean = {cheaters_mean}, Std = {cheaters_std}\")\n",
    "print(f\"Non-Cheaters: Mean = {non_cheaters_mean}, Std = {non_cheaters_std}\")"
   ]
  },
  {
   "cell_type": "markdown",
   "metadata": {
    "editable": true,
    "slideshow": {
     "slide_type": "slide"
    },
    "tags": []
   },
   "source": [
    "## Grouping Data for Analysis for comparison"
   ]
  },
  {
   "cell_type": "code",
   "execution_count": 33,
   "metadata": {
    "editable": true,
    "remove_code": "non-comments",
    "slideshow": {
     "slide_type": ""
    },
    "tags": []
   },
   "outputs": [
    {
     "data": {
      "text/html": [
       "<div>\n",
       "<style scoped>\n",
       "    .dataframe tbody tr th:only-of-type {\n",
       "        vertical-align: middle;\n",
       "    }\n",
       "\n",
       "    .dataframe tbody tr th {\n",
       "        vertical-align: top;\n",
       "    }\n",
       "\n",
       "    .dataframe thead th {\n",
       "        text-align: right;\n",
       "    }\n",
       "</style>\n",
       "<table border=\"1\" class=\"dataframe\">\n",
       "  <thead>\n",
       "    <tr style=\"text-align: right;\">\n",
       "      <th></th>\n",
       "      <th>Numberofresponses</th>\n",
       "      <th>ImputedResponses</th>\n",
       "    </tr>\n",
       "    <tr>\n",
       "      <th>cheated</th>\n",
       "      <th></th>\n",
       "      <th></th>\n",
       "    </tr>\n",
       "  </thead>\n",
       "  <tbody>\n",
       "    <tr>\n",
       "      <th>0</th>\n",
       "      <td>6.518519</td>\n",
       "      <td>6.518519</td>\n",
       "    </tr>\n",
       "    <tr>\n",
       "      <th>1</th>\n",
       "      <td>8.325581</td>\n",
       "      <td>7.069767</td>\n",
       "    </tr>\n",
       "  </tbody>\n",
       "</table>\n",
       "</div>"
      ],
      "text/plain": [
       "         Numberofresponses  ImputedResponses\n",
       "cheated                                     \n",
       "0                 6.518519          6.518519\n",
       "1                 8.325581          7.069767"
      ]
     },
     "execution_count": 33,
     "metadata": {},
     "output_type": "execute_result"
    }
   ],
   "source": [
    "# 'groupby' cheated and calculate new means\n",
    "grouped_data = df_work.groupby('cheated').mean()\n",
    "grouped_data"
   ]
  },
  {
   "cell_type": "code",
   "execution_count": 34,
   "metadata": {
    "editable": true,
    "remove_code": "non-comments",
    "slideshow": {
     "slide_type": ""
    },
    "tags": []
   },
   "outputs": [
    {
     "data": {
      "text/html": [
       "<div>\n",
       "<style scoped>\n",
       "    .dataframe tbody tr th:only-of-type {\n",
       "        vertical-align: middle;\n",
       "    }\n",
       "\n",
       "    .dataframe tbody tr th {\n",
       "        vertical-align: top;\n",
       "    }\n",
       "\n",
       "    .dataframe thead th {\n",
       "        text-align: right;\n",
       "    }\n",
       "</style>\n",
       "<table border=\"1\" class=\"dataframe\">\n",
       "  <thead>\n",
       "    <tr style=\"text-align: right;\">\n",
       "      <th></th>\n",
       "      <th>Numberofresponses</th>\n",
       "      <th>ImputedResponses</th>\n",
       "    </tr>\n",
       "    <tr>\n",
       "      <th>cheated</th>\n",
       "      <th></th>\n",
       "      <th></th>\n",
       "    </tr>\n",
       "  </thead>\n",
       "  <tbody>\n",
       "    <tr>\n",
       "      <th>0</th>\n",
       "      <td>2.307845</td>\n",
       "      <td>2.307845</td>\n",
       "    </tr>\n",
       "    <tr>\n",
       "      <th>1</th>\n",
       "      <td>2.800688</td>\n",
       "      <td>2.443605</td>\n",
       "    </tr>\n",
       "  </tbody>\n",
       "</table>\n",
       "</div>"
      ],
      "text/plain": [
       "         Numberofresponses  ImputedResponses\n",
       "cheated                                     \n",
       "0                 2.307845          2.307845\n",
       "1                 2.800688          2.443605"
      ]
     },
     "execution_count": 34,
     "metadata": {},
     "output_type": "execute_result"
    }
   ],
   "source": [
    "# 'groupby' cheated and calculate new standard deviations\n",
    "grouped_data = df_work.groupby('cheated').std()\n",
    "grouped_data"
   ]
  },
  {
   "cell_type": "markdown",
   "metadata": {
    "editable": true,
    "slideshow": {
     "slide_type": "notes"
    },
    "tags": []
   },
   "source": [
    "Explain the use of `groupby` in pandas:\n",
    "- **Purpose**: `groupby` allows us to segment the dataset into subsets based on unique values of a variable, in this case, 'cheated'. It's particularly useful for performing calculations separately within these segments.\n",
    "\n",
    "Discuss the significance of comparing averages:\n",
    "- By grouping by the 'cheated' status and calculating the mean number of responses, we can directly compare the creativity scores of cheaters versus non-cheaters.\n",
    "- This helps illustrate the practical application of group-based analysis in real-world datasets, showing how data manipulation and analysis techniques can reveal underlying patterns or confirm hypotheses.\n",
    "\n",
    "Encourage participants to think about how these techniques can be applied to their own data projects, highlighting the importance of group-based analyses in many fields, including marketing, healthcare, and public policy."
   ]
  },
  {
   "cell_type": "markdown",
   "metadata": {
    "slideshow": {
     "slide_type": "slide"
    }
   },
   "source": [
    "# A final function: Using pd.merge to combine data of different dataframes\n",
    "We will now demonstrate the Pandas merge function. This has nothing to do with the research question. We will however use the data as mock data.\n",
    "\n",
    "Let us say we have a grading scheme for the number of responses, and want to give each participant a grade for their number of responses."
   ]
  },
  {
   "cell_type": "code",
   "execution_count": 35,
   "metadata": {
    "editable": true,
    "remove_code": "after: # Merge the grades with the data",
    "slideshow": {
     "slide_type": ""
    },
    "tags": []
   },
   "outputs": [
    {
     "data": {
      "text/html": [
       "<div>\n",
       "<style scoped>\n",
       "    .dataframe tbody tr th:only-of-type {\n",
       "        vertical-align: middle;\n",
       "    }\n",
       "\n",
       "    .dataframe tbody tr th {\n",
       "        vertical-align: top;\n",
       "    }\n",
       "\n",
       "    .dataframe thead th {\n",
       "        text-align: right;\n",
       "    }\n",
       "</style>\n",
       "<table border=\"1\" class=\"dataframe\">\n",
       "  <thead>\n",
       "    <tr style=\"text-align: right;\">\n",
       "      <th></th>\n",
       "      <th>cheated</th>\n",
       "      <th>Numberofresponses</th>\n",
       "      <th>ImputedResponses</th>\n",
       "      <th>Grade</th>\n",
       "    </tr>\n",
       "  </thead>\n",
       "  <tbody>\n",
       "    <tr>\n",
       "      <th>0</th>\n",
       "      <td>0</td>\n",
       "      <td>2</td>\n",
       "      <td>2.0</td>\n",
       "      <td>F</td>\n",
       "    </tr>\n",
       "    <tr>\n",
       "      <th>1</th>\n",
       "      <td>0</td>\n",
       "      <td>2</td>\n",
       "      <td>2.0</td>\n",
       "      <td>F</td>\n",
       "    </tr>\n",
       "    <tr>\n",
       "      <th>2</th>\n",
       "      <td>0</td>\n",
       "      <td>3</td>\n",
       "      <td>3.0</td>\n",
       "      <td>F</td>\n",
       "    </tr>\n",
       "    <tr>\n",
       "      <th>3</th>\n",
       "      <td>0</td>\n",
       "      <td>3</td>\n",
       "      <td>3.0</td>\n",
       "      <td>F</td>\n",
       "    </tr>\n",
       "    <tr>\n",
       "      <th>4</th>\n",
       "      <td>0</td>\n",
       "      <td>3</td>\n",
       "      <td>3.0</td>\n",
       "      <td>F</td>\n",
       "    </tr>\n",
       "  </tbody>\n",
       "</table>\n",
       "</div>"
      ],
      "text/plain": [
       "   cheated  Numberofresponses  ImputedResponses Grade\n",
       "0        0                  2               2.0     F\n",
       "1        0                  2               2.0     F\n",
       "2        0                  3               3.0     F\n",
       "3        0                  3               3.0     F\n",
       "4        0                  3               3.0     F"
      ]
     },
     "execution_count": 35,
     "metadata": {},
     "output_type": "execute_result"
    }
   ],
   "source": [
    "# Grading scheme\n",
    "grades = pd.DataFrame({\n",
    "    'Numberofresponses': [2, 3,  4,  5,  6,  7,  8,  9, 10, 11, 12, 13, 14],\n",
    "    'Grade': ['F', 'F', 'F', 'D', 'D', 'C', 'C', 'C', 'B', 'B', 'B', 'A', 'A']\n",
    "})\n",
    "\n",
    "# Merge the grades with the data\n",
    "df_merged = pd.merge(df_work, grades, on='Numberofresponses', how='left')\n",
    "df_merged.head()"
   ]
  },
  {
   "cell_type": "markdown",
   "metadata": {
    "slideshow": {
     "slide_type": "notes"
    }
   },
   "source": [
    "Speaker Notes:\n",
    "- Explain the different merge types: \n",
    "  - 'outer': Create new lines with NaN if in any of the two DataFrames\n",
    "  - 'inner': Only include where values shared in both DataFrames\n",
    "  - 'left': Omit if not in first DataFrame\n",
    "  - 'right': Omit if not in second DataFrame"
   ]
  },
  {
   "cell_type": "markdown",
   "metadata": {
    "editable": true,
    "slideshow": {
     "slide_type": "slide"
    },
    "tags": []
   },
   "source": [
    "# Key Takeaways\n",
    "\n",
    "Today, we've covered a wide range of topics in Pandas, aimed at giving you the tools to perform basic data manipulation, analysis, and visualization:\n",
    "\n",
    "1. **Data Loading and Cleaning**: How to load data from various sources and clean it for analysis.\n",
    "2. **Data Selection and Manipulation**: Techniques for selecting, filtering, and adjusting data.\n",
    "3. **Statistical Analysis**: Using t-tests to compare groups within your data.\n",
    "4. **Data Visualization**: Creating plots to visualize data discrepancies and distributions.\n",
    "5. **Grouping Data**: How to segment data for grouped analyses and comparisons.\n",
    "6. **Merging Data**: How to combine data from two different sources.\n"
   ]
  }
 ],
 "metadata": {
  "kernelspec": {
   "display_name": "teaching_data_analysis",
   "language": "python",
   "name": "python3"
  },
  "language_info": {
   "codemirror_mode": {
    "name": "ipython",
    "version": 3
   },
   "file_extension": ".py",
   "mimetype": "text/x-python",
   "name": "python",
   "nbconvert_exporter": "python",
   "pygments_lexer": "ipython3",
   "version": "3.13.2"
  }
 },
 "nbformat": 4,
 "nbformat_minor": 4
}
