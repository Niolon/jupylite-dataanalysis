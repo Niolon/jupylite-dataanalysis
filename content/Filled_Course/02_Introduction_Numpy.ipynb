{
 "cells": [
  {
   "cell_type": "markdown",
   "metadata": {
    "@deathbeds/jupyterlab-fonts": {
     "styles": {
      "": {
       "body[data-jp-deck-mode='presenting'] &": {
        "height": "9.475160831779377%",
        "left": "2.4705882352941173%",
        "position": "fixed",
        "top": "1.3350784508890696%",
        "width": "12.25%",
        "zoom": "50%"
       }
      }
     }
    },
    "editable": true,
    "jupyterlab-deck": {
     "layer": "deck"
    },
    "slideshow": {
     "slide_type": ""
    },
    "tags": []
   },
   "source": [
    "![University Logo](../Durham_University.svg)"
   ]
  },
  {
   "cell_type": "markdown",
   "metadata": {
    "@deathbeds/jupyterlab-fonts": {
     "styles": {
      "": {
       "body[data-jp-deck-mode='presenting'] &": {
        "height": null,
        "left": null,
        "position": null,
        "top": null,
        "width": null
       }
      }
     }
    },
    "editable": true,
    "slideshow": {
     "slide_type": "slide"
    },
    "tags": []
   },
   "source": [
    "# Introduction to NumPy"
   ]
  },
  {
   "cell_type": "markdown",
   "metadata": {
    "editable": true,
    "slideshow": {
     "slide_type": "slide"
    },
    "tags": []
   },
   "source": [
    "### Recap: Python Lists are a container for arbitrary data\n",
    " - We can create a list within square brackets: `[]`\n",
    " - Data is accessed by *index*, with the index starting at 0."
   ]
  },
  {
   "cell_type": "code",
   "execution_count": 1,
   "metadata": {
    "editable": true,
    "remove_code": "non-comments",
    "slideshow": {
     "slide_type": ""
    },
    "tags": []
   },
   "outputs": [
    {
     "name": "stdout",
     "output_type": "stream",
     "text": [
      "my_list[0] gives: 1\n",
      "my_list[1] gives: hello\n",
      "my_list[2] gives: True\n",
      "my_list[3] gives: 3.14\n"
     ]
    }
   ],
   "source": [
    "# Create a list with arbitrary data\n",
    "my_list = [1, 'hello', True, 3.14]\n",
    "\n",
    "# Accessing the data in the list\n",
    "print(\"my_list[0] gives:\", my_list[0])\n",
    "print(\"my_list[1] gives:\", my_list[1])\n",
    "print(\"my_list[2] gives:\", my_list[2])\n",
    "print(\"my_list[3] gives:\", my_list[3])"
   ]
  },
  {
   "cell_type": "markdown",
   "metadata": {
    "editable": true,
    "slideshow": {
     "slide_type": "slide"
    },
    "tags": []
   },
   "source": [
    "#### You can count from the back with negative indices and get a slice using the colon `:`"
   ]
  },
  {
   "cell_type": "code",
   "execution_count": 2,
   "metadata": {
    "editable": true,
    "remove_code": "non-comments",
    "slideshow": {
     "slide_type": ""
    },
    "tags": []
   },
   "outputs": [
    {
     "name": "stdout",
     "output_type": "stream",
     "text": [
      "my_list[-1] gives: 3.14\n",
      "my_list[1:3] gives: ['hello', True]\n"
     ]
    }
   ],
   "source": [
    "# Copy of our list for reference\n",
    "my_list = [1, 'hello', True, 3.14]\n",
    "\n",
    "# Accessing the data in the list using negative index\n",
    "print(\"my_list[-1] gives:\",  my_list[-1])\n",
    "\n",
    "# Slicing the list with indexes\n",
    "print(\"my_list[1:3] gives:\", my_list[1:3])  # Output: ['hello', True]\n"
   ]
  },
  {
   "cell_type": "markdown",
   "metadata": {
    "editable": true,
    "slideshow": {
     "slide_type": "slide"
    },
    "tags": []
   },
   "source": [
    "#### Lists are mutable: You can also modify the data by index"
   ]
  },
  {
   "cell_type": "code",
   "execution_count": 3,
   "metadata": {
    "editable": true,
    "remove_code": "non-comments",
    "slideshow": {
     "slide_type": ""
    },
    "tags": []
   },
   "outputs": [
    {
     "name": "stdout",
     "output_type": "stream",
     "text": [
      "my_list after modification: [2, 'hello', True, 3.14]\n"
     ]
    }
   ],
   "source": [
    "# Copy of our list for reference\n",
    "my_list = [1, 'hello', True, 3.14]\n",
    "\n",
    "# Modifying the data in the list\n",
    "my_list[0] = 2\n",
    "print(\"my_list after modification:\", my_list)\n"
   ]
  },
  {
   "cell_type": "markdown",
   "metadata": {
    "editable": true,
    "slideshow": {
     "slide_type": "slide"
    },
    "tags": []
   },
   "source": [
    "#### NumPy Arrays: Key Features\n",
    "\n",
    "- Homogeneous: Only contain elements of the same/one data type.\n",
    "- Fixed Size: Size cannot be changed once created.\n",
    "- Memory-Efficient: More efficient than Python lists.\n",
    "- Vectorized Operations: Perform operations on entire arrays at once.\n",
    "- Multidimensional: Efficiently store and manipulate multi-dimensional data.\n",
    "- Built-in Functions: Access to more mathematical operations and data manipulation.\n"
   ]
  },
  {
   "cell_type": "markdown",
   "metadata": {
    "editable": true,
    "slideshow": {
     "slide_type": "slide"
    },
    "tags": []
   },
   "source": [
    "#### We use NumPy by importing it\n",
    "\n",
    "Typically we use the alias `np`, as projects tend to use NumPy a lot."
   ]
  },
  {
   "cell_type": "code",
   "execution_count": 4,
   "metadata": {
    "editable": true,
    "remove_code": "non-comments",
    "slideshow": {
     "slide_type": ""
    },
    "tags": []
   },
   "outputs": [],
   "source": [
    "# Import NumPy module\n",
    "import numpy as np"
   ]
  },
  {
   "cell_type": "markdown",
   "metadata": {
    "editable": true,
    "slideshow": {
     "slide_type": "fragment"
    },
    "tags": []
   },
   "source": [
    "We can now access anything in numpy via `np.function`"
   ]
  },
  {
   "cell_type": "code",
   "execution_count": 5,
   "metadata": {
    "editable": true,
    "remove_code": "non-comments",
    "slideshow": {
     "slide_type": ""
    },
    "tags": []
   },
   "outputs": [
    {
     "data": {
      "text/plain": [
       "3.141592653589793"
      ]
     },
     "execution_count": 5,
     "metadata": {},
     "output_type": "execute_result"
    }
   ],
   "source": [
    "# Use pi from NumPy\n",
    "np.pi"
   ]
  },
  {
   "cell_type": "markdown",
   "metadata": {
    "editable": true,
    "slideshow": {
     "slide_type": "slide"
    },
    "tags": []
   },
   "source": [
    "#### We can create NumPy arrays from lists"
   ]
  },
  {
   "cell_type": "code",
   "execution_count": 6,
   "metadata": {
    "editable": true,
    "remove_code": "non-comments",
    "slideshow": {
     "slide_type": ""
    },
    "tags": []
   },
   "outputs": [
    {
     "data": {
      "text/plain": [
       "array([1., 2., 3., 4., 5.])"
      ]
     },
     "execution_count": 6,
     "metadata": {},
     "output_type": "execute_result"
    }
   ],
   "source": [
    "# Create a list with floats from 1 to 5\n",
    "my_list = [1.0, 2.0, 3.0, 4.0, 5.0]\n",
    "\n",
    "# Convert into list\n",
    "my_array = np.array(my_list)\n",
    "\n",
    "# Display\n",
    "my_array"
   ]
  },
  {
   "cell_type": "markdown",
   "metadata": {
    "editable": true,
    "slideshow": {
     "slide_type": "fragment"
    },
    "tags": []
   },
   "source": [
    "\n",
    "The object type is a NumPy array. The type of contained data is dependent on the content and its type"
   ]
  },
  {
   "cell_type": "code",
   "execution_count": 7,
   "metadata": {
    "editable": true,
    "remove_code": "non-comments",
    "slideshow": {
     "slide_type": ""
    },
    "tags": []
   },
   "outputs": [
    {
     "data": {
      "text/plain": [
       "(numpy.ndarray, dtype('float64'))"
      ]
     },
     "execution_count": 7,
     "metadata": {},
     "output_type": "execute_result"
    }
   ],
   "source": [
    "# Check type and dtype\n",
    "type(my_array), my_array.dtype"
   ]
  },
  {
   "cell_type": "markdown",
   "metadata": {
    "editable": true,
    "slideshow": {
     "slide_type": "notes"
    },
    "tags": []
   },
   "source": [
    "Show that you can change the data type of array members to cast as floats instead"
   ]
  },
  {
   "cell_type": "markdown",
   "metadata": {
    "editable": true,
    "slideshow": {
     "slide_type": ""
    },
    "tags": []
   },
   "source": [
    "If a single string is present, everything will be cast into a string! In general, you should already input homogeneous lists"
   ]
  },
  {
   "cell_type": "code",
   "execution_count": 8,
   "metadata": {
    "@deathbeds/jupyterlab-fonts": {
     "styles": {
      "": {
       "body[data-jp-deck-mode='presenting'] &": {
        "height": null,
        "left": null,
        "position": null,
        "top": null,
        "width": null
       }
      }
     }
    },
    "editable": true,
    "remove_code": "non-comments",
    "slideshow": {
     "slide_type": "slide"
    },
    "tags": []
   },
   "outputs": [
    {
     "data": {
      "text/plain": [
       "(dtype('<U21'), np.str_('2'))"
      ]
     },
     "execution_count": 8,
     "metadata": {},
     "output_type": "execute_result"
    }
   ],
   "source": [
    "# Show casting in an array with a string\n",
    "mixed_array = np.array([1, 2, 3, 4, 'hello'])\n",
    "mixed_array.dtype, mixed_array[1]"
   ]
  },
  {
   "cell_type": "markdown",
   "metadata": {
    "editable": true,
    "slideshow": {
     "slide_type": "slide"
    },
    "tags": []
   },
   "source": [
    "#### We can also read NumPy arrays from disk\n",
    "For this first step we will use a set of bond lengths determined by X-ray diffraction. Let us have a look at the first lines of the file. "
   ]
  },
  {
   "cell_type": "code",
   "execution_count": 9,
   "metadata": {
    "editable": true,
    "remove_code": "non-comments",
    "slideshow": {
     "slide_type": ""
    },
    "tags": []
   },
   "outputs": [
    {
     "name": "stdout",
     "output_type": "stream",
     "text": [
      "Si  C   2.3048\n",
      "Si  C   2.3093\n",
      "Si  C   2.3465\n",
      "Si  C   2.3929\n",
      "Si  C   2.4052\n"
     ]
    }
   ],
   "source": [
    "data1_path = '../Data/presentation/bond_lengths.txt'\n",
    "\n",
    "# Read data and display the first three lines\n",
    "with open(data1_path, 'r') as fobj:\n",
    "    lines = fobj.readlines()\n",
    "\n",
    "for index, line in enumerate(lines):\n",
    "    print(line.strip())\n",
    "    if index > 3:\n",
    "        break"
   ]
  },
  {
   "cell_type": "markdown",
   "metadata": {
    "editable": true,
    "slideshow": {
     "slide_type": "notes"
    },
    "tags": []
   },
   "source": [
    "Speaker Notes:\n",
    "\n",
    "In this section explain: Opening files in Python. Control statements including the for loop, if statement and break. End on the statement that we have different data types!"
   ]
  },
  {
   "cell_type": "markdown",
   "metadata": {
    "editable": true,
    "slideshow": {
     "slide_type": "slide"
    },
    "tags": []
   },
   "source": [
    "## Let us now load the data using NumPy\n",
    "Because we have different data types within each line in the file, we need to specify this. We load every column separately into a new variable"
   ]
  },
  {
   "cell_type": "code",
   "execution_count": 10,
   "metadata": {
    "editable": true,
    "remove_code": "non-comments",
    "slideshow": {
     "slide_type": ""
    },
    "tags": []
   },
   "outputs": [],
   "source": [
    "# Load data from txt, unpack and demonstrate data types\n",
    "element1, element2, length = np.loadtxt(data1_path, dtype='U2,U2,float64', unpack=True)"
   ]
  },
  {
   "cell_type": "markdown",
   "metadata": {
    "editable": true,
    "slideshow": {
     "slide_type": "notes"
    },
    "tags": []
   },
   "source": [
    "Speaker Notes:\n",
    "\n",
    "In this section: Revise element unpacking, and function arguments."
   ]
  },
  {
   "cell_type": "markdown",
   "metadata": {
    "editable": true,
    "slideshow": {
     "slide_type": ""
    },
    "tags": []
   },
   "source": [
    "#### A quick look at what we loaded"
   ]
  },
  {
   "cell_type": "code",
   "execution_count": 11,
   "metadata": {
    "editable": true,
    "remove_code": "non-comments",
    "slideshow": {
     "slide_type": ""
    },
    "tags": []
   },
   "outputs": [
    {
     "data": {
      "text/plain": [
       "(array(['Si', 'Si', 'C', 'C', 'C', 'C', 'C'], dtype='<U2'),\n",
       " array(['C', 'C', 'C', 'C', 'C', 'H', 'H'], dtype='<U2'),\n",
       " array([2.3093, 2.4052, 1.418 , 1.498 , 1.417 , 0.98  , 0.98  ]),\n",
       " dtype('float64'))"
      ]
     },
     "execution_count": 11,
     "metadata": {},
     "output_type": "execute_result"
    }
   ],
   "source": [
    "# Do some slices through our array with start, stop and skip\n",
    "element1[1:21:3], element2[1:21:3], length[1:21:3], length.dtype"
   ]
  },
  {
   "cell_type": "markdown",
   "metadata": {
    "editable": true,
    "slideshow": {
     "slide_type": "slide"
    },
    "tags": []
   },
   "source": [
    "#### Let us have a look at the NumPy datatypes:\n",
    "\n",
    "| Python| NumPy      | Numpy Short |\n",
    "|-------|------------|-------------|\n",
    "| float | float64    |   f8       |\n",
    "| int   | int64      |   i8       |\n",
    "| bool  | bool       |   b1        |\n",
    "|complex| complex128 |   c16       |\n",
    "| str   | str_       |  <U{n}       |\n",
    "\n",
    "A list of all data types can be accessed with"
   ]
  },
  {
   "cell_type": "code",
   "execution_count": 12,
   "metadata": {
    "editable": true,
    "remove_code": "non-comments",
    "slideshow": {
     "slide_type": ""
    },
    "tags": []
   },
   "outputs": [
    {
     "data": {
      "text/plain": [
       "dict_keys(['bool', 'float16', 'float32', 'float64', 'longdouble', 'complex64', 'complex128', 'clongdouble', 'bytes_', 'str_', 'void', 'object_', 'datetime64', 'timedelta64', 'int8', 'byte', 'uint8', 'ubyte', 'int16', 'short', 'uint16', 'ushort', 'int32', 'intc', 'uint32', 'uintc', 'int64', 'long', 'uint64', 'ulong', 'longlong', 'ulonglong', 'intp', 'uintp', 'double', 'cdouble', 'single', 'csingle', 'half', 'bool_', 'int_', 'uint', 'float', 'complex', 'object', 'bytes', 'a', 'int', 'str', 'unicode', 'float128', 'complex256'])"
      ]
     },
     "execution_count": 12,
     "metadata": {},
     "output_type": "execute_result"
    }
   ],
   "source": [
    "np.sctypeDict.keys()"
   ]
  },
  {
   "cell_type": "markdown",
   "metadata": {
    "editable": true,
    "slideshow": {
     "slide_type": "slide"
    },
    "tags": []
   },
   "source": [
    "#### Let us determine the mean bond length and its standard deviation\n",
    "For this we can use NumPy's built-in functions. The full list can be found in the routines section of the [NumPy documentation](https://numpy.org/doc/stable/reference/routines.html). Specifically under *[statistics](https://numpy.org/doc/stable/reference/routines.statistics.html)*."
   ]
  },
  {
   "cell_type": "code",
   "execution_count": 13,
   "metadata": {
    "editable": true,
    "remove_code": "non-comments",
    "slideshow": {
     "slide_type": ""
    },
    "tags": []
   },
   "outputs": [
    {
     "name": "stdout",
     "output_type": "stream",
     "text": [
      "1.2838740112994351 0.4283874266912911\n"
     ]
    }
   ],
   "source": [
    "# Print mean and standard deviation of bond lengths\n",
    "print(np.mean(length), np.std(length))"
   ]
  },
  {
   "cell_type": "markdown",
   "metadata": {
    "editable": true,
    "slideshow": {
     "slide_type": "slide"
    },
    "tags": []
   },
   "source": [
    "#### NumPy supports more sophisticated slicing than Python lists"
   ]
  },
  {
   "cell_type": "code",
   "execution_count": 14,
   "metadata": {
    "editable": true,
    "remove_code": "non-comments",
    "slideshow": {
     "slide_type": ""
    },
    "tags": []
   },
   "outputs": [
    {
     "data": {
      "text/plain": [
       "array([2.3048, 2.3093, 2.3465, 2.3929, 2.4052])"
      ]
     },
     "execution_count": 14,
     "metadata": {},
     "output_type": "execute_result"
    }
   ],
   "source": [
    "# First five entries\n",
    "length[:5]"
   ]
  },
  {
   "cell_type": "code",
   "execution_count": 15,
   "metadata": {
    "editable": true,
    "remove_code": "non-comments",
    "slideshow": {
     "slide_type": "fragment"
    },
    "tags": []
   },
   "outputs": [
    {
     "data": {
      "text/plain": [
       "array([2.3465, 2.3929, 2.4275, 1.418 , 0.98  ])"
      ]
     },
     "execution_count": 15,
     "metadata": {},
     "output_type": "execute_result"
    }
   ],
   "source": [
    "# Slicing by indexing\n",
    "indexes = [2, 3, 5, 7, 22]\n",
    "length[indexes]"
   ]
  },
  {
   "cell_type": "markdown",
   "metadata": {
    "editable": true,
    "slideshow": {
     "slide_type": "slide"
    },
    "tags": []
   },
   "source": [
    "#### We can create conditional selections with masks\n",
    "A mask is an array of booleans that has the same size as the array we want to apply the mask to"
   ]
  },
  {
   "cell_type": "code",
   "execution_count": 16,
   "metadata": {
    "editable": true,
    "remove_code": "non-comments",
    "slideshow": {
     "slide_type": ""
    },
    "tags": []
   },
   "outputs": [
    {
     "data": {
      "text/plain": [
       "array([ True,  True,  True,  True, False, False])"
      ]
     },
     "execution_count": 16,
     "metadata": {},
     "output_type": "execute_result"
    }
   ],
   "source": [
    "# Create a mask array for values where element 1 is Si\n",
    "mask = element1 == 'Si'\n",
    "mask[2:8]"
   ]
  },
  {
   "cell_type": "code",
   "execution_count": 17,
   "metadata": {
    "editable": true,
    "remove_code": "non-comments",
    "slideshow": {
     "slide_type": "fragment"
    },
    "tags": []
   },
   "outputs": [
    {
     "data": {
      "text/plain": [
       "array([2.3048, 2.3093, 2.3465, 2.3929, 2.4052, 2.4275, 2.3399, 2.3629,\n",
       "       2.3749, 2.3862, 2.421 , 2.4355, 2.3087, 2.3309, 2.3411, 2.3701,\n",
       "       2.4327, 2.4346])"
      ]
     },
     "execution_count": 17,
     "metadata": {},
     "output_type": "execute_result"
    }
   ],
   "source": [
    "# Apply our mask to length\n",
    "length[mask]"
   ]
  },
  {
   "cell_type": "markdown",
   "metadata": {
    "editable": true,
    "slideshow": {
     "slide_type": "fragment"
    },
    "tags": []
   },
   "source": [
    "Very often you would not store the mask in a variable"
   ]
  },
  {
   "cell_type": "code",
   "execution_count": 18,
   "metadata": {
    "editable": true,
    "remove_code": "non-comments",
    "slideshow": {
     "slide_type": ""
    },
    "tags": []
   },
   "outputs": [
    {
     "data": {
      "text/plain": [
       "array([2.3048, 2.3093, 2.3465, 2.3929, 2.4052, 2.4275, 2.3399, 2.3629,\n",
       "       2.3749, 2.3862, 2.421 , 2.4355, 2.3087, 2.3309, 2.3411, 2.3701,\n",
       "       2.4327, 2.4346])"
      ]
     },
     "execution_count": 18,
     "metadata": {},
     "output_type": "execute_result"
    }
   ],
   "source": [
    "# Create the mask in line\n",
    "length[element1 == 'Si']"
   ]
  },
  {
   "cell_type": "markdown",
   "metadata": {
    "editable": true,
    "slideshow": {
     "slide_type": "slide"
    },
    "tags": []
   },
   "source": [
    "#### Let us calculate means and standard deviations of different bond types\n",
    "We will use the [logical operations](https://numpy.org/doc/stable/reference/routines.logic.html#logical-operations) for this purpose. `np.logical_and(arr1, arr2)` can be used to get the elementwise truth of \"arr1 and arr2\""
   ]
  },
  {
   "cell_type": "code",
   "execution_count": 19,
   "metadata": {
    "editable": true,
    "remove_code": "non-comments",
    "slideshow": {
     "slide_type": ""
    },
    "tags": []
   },
   "outputs": [
    {
     "data": {
      "text/plain": [
       "(np.float64(1.45835), np.float64(0.041565941586832855))"
      ]
     },
     "execution_count": 19,
     "metadata": {},
     "output_type": "execute_result"
    }
   ],
   "source": [
    "# np.logical_and can be used to get the elementwise truth of \"arr1 and arr2\"\n",
    "# C-C bonds\n",
    "cc_mask = np.logical_and(element1 == 'C', element2 == 'C')\n",
    "np.mean(length[cc_mask]), np.std(length[cc_mask])"
   ]
  },
  {
   "cell_type": "code",
   "execution_count": 20,
   "metadata": {
    "editable": true,
    "remove_code": "non-comments",
    "slideshow": {
     "slide_type": ""
    },
    "tags": []
   },
   "outputs": [
    {
     "data": {
      "text/plain": [
       "(np.float64(0.9800000000000004), np.float64(4.440892098500626e-16))"
      ]
     },
     "execution_count": 20,
     "metadata": {},
     "output_type": "execute_result"
    }
   ],
   "source": [
    "# Also get C-H bond lengths\n",
    "ch_mask = np.logical_and(element1 == 'C', element2 == 'H')\n",
    "np.mean(length[ch_mask]), np.std(length[ch_mask])"
   ]
  },
  {
   "cell_type": "code",
   "execution_count": 21,
   "metadata": {
    "editable": true,
    "remove_code": "non-comments",
    "slideshow": {
     "slide_type": ""
    },
    "tags": []
   },
   "outputs": [],
   "source": [
    "# Show & as shorthand\n",
    "(element1 == 'C') & (element2 == 'H');"
   ]
  },
  {
   "cell_type": "markdown",
   "metadata": {
    "editable": true,
    "slideshow": {
     "slide_type": "slide"
    },
    "tags": []
   },
   "source": [
    "#### Numpy arrays can be multidimensional."
   ]
  },
  {
   "cell_type": "code",
   "execution_count": 22,
   "metadata": {
    "editable": true,
    "remove_code": "non-comments",
    "slideshow": {
     "slide_type": ""
    },
    "tags": []
   },
   "outputs": [
    {
     "data": {
      "text/plain": [
       "array([[1, 2, 3],\n",
       "       [4, 5, 6],\n",
       "       [7, 8, 9]])"
      ]
     },
     "execution_count": 22,
     "metadata": {},
     "output_type": "execute_result"
    }
   ],
   "source": [
    "# Create a simple 2D array\n",
    "mult = np.array([[1,2,3], [4,5,6], [7,8,9]])\n",
    "mult"
   ]
  },
  {
   "cell_type": "code",
   "execution_count": 23,
   "metadata": {
    "editable": true,
    "remove_code": "non-comments",
    "slideshow": {
     "slide_type": "fragment"
    },
    "tags": []
   },
   "outputs": [
    {
     "data": {
      "text/plain": [
       "(array([4, 5, 6]), array([3, 6, 9]))"
      ]
     },
     "execution_count": 23,
     "metadata": {},
     "output_type": "execute_result"
    }
   ],
   "source": [
    "# Second row or third column\n",
    "mult[1,:], mult[:,2]"
   ]
  },
  {
   "cell_type": "code",
   "execution_count": 24,
   "metadata": {
    "editable": true,
    "remove_code": "non-comments",
    "slideshow": {
     "slide_type": "fragment"
    },
    "tags": []
   },
   "outputs": [
    {
     "data": {
      "text/plain": [
       "array([[1, 2, 3],\n",
       "       [0, 0, 0],\n",
       "       [7, 8, 9]])"
      ]
     },
     "execution_count": 24,
     "metadata": {},
     "output_type": "execute_result"
    }
   ],
   "source": [
    "# We can also use this for assignment\n",
    "mult[1, :] = 0\n",
    "mult"
   ]
  },
  {
   "cell_type": "markdown",
   "metadata": {
    "editable": true,
    "slideshow": {
     "slide_type": ""
    },
    "tags": []
   },
   "source": [
    "Explain that this is a view of the original data and not a new object in memory"
   ]
  },
  {
   "cell_type": "markdown",
   "metadata": {
    "editable": true,
    "slideshow": {
     "slide_type": "slide"
    },
    "tags": []
   },
   "source": [
    "#### We can change the arrangement with reshape"
   ]
  },
  {
   "cell_type": "code",
   "execution_count": 25,
   "metadata": {
    "editable": true,
    "remove_code": "non-comments",
    "slideshow": {
     "slide_type": ""
    },
    "tags": []
   },
   "outputs": [
    {
     "data": {
      "text/plain": [
       "array([0.        , 0.09090909, 0.18181818, 0.27272727, 0.36363636,\n",
       "       0.45454545, 0.54545455, 0.63636364, 0.72727273, 0.81818182,\n",
       "       0.90909091, 1.        ])"
      ]
     },
     "execution_count": 25,
     "metadata": {},
     "output_type": "execute_result"
    }
   ],
   "source": [
    "# Create a linspace with size 12 in new var\n",
    "numbers = np.linspace(0.0, 1.0, 12)\n",
    "numbers"
   ]
  },
  {
   "cell_type": "code",
   "execution_count": 26,
   "metadata": {
    "editable": true,
    "remove_code": "non-comments",
    "slideshow": {
     "slide_type": ""
    },
    "tags": []
   },
   "outputs": [
    {
     "data": {
      "text/plain": [
       "array([[0.        , 0.09090909, 0.18181818],\n",
       "       [0.27272727, 0.36363636, 0.45454545],\n",
       "       [0.54545455, 0.63636364, 0.72727273],\n",
       "       [0.81818182, 0.90909091, 1.        ]])"
      ]
     },
     "execution_count": 26,
     "metadata": {},
     "output_type": "execute_result"
    }
   ],
   "source": [
    "# Use reshape\n",
    "np.reshape(numbers, (4,3))"
   ]
  },
  {
   "cell_type": "markdown",
   "metadata": {
    "editable": true,
    "slideshow": {
     "slide_type": "slide"
    },
    "tags": []
   },
   "source": [
    "### Calculating with NumPy arrays and basic arithmetic\n",
    "Let us load a new dataset. This time we skip the first column, which contains the atom type, and only load the coordinates. Because all loaded data columns have the same type, NumPy will automatically detect the correct type."
   ]
  },
  {
   "cell_type": "code",
   "execution_count": 27,
   "metadata": {
    "editable": true,
    "remove_code": "non-comments",
    "slideshow": {
     "slide_type": ""
    },
    "tags": []
   },
   "outputs": [
    {
     "data": {
      "text/plain": [
       "((51, 3), dtype('float64'))"
      ]
     },
     "execution_count": 27,
     "metadata": {},
     "output_type": "execute_result"
    }
   ],
   "source": [
    "data_path2 = '../Data/presentation/molecule1.xyz'\n",
    "\n",
    "# Load non-number columns from file (1,2,3)\n",
    "coordinates = np.loadtxt(data_path2, usecols=(1,2,3))\n",
    "coordinates.shape, coordinates.dtype"
   ]
  },
  {
   "cell_type": "markdown",
   "metadata": {
    "editable": true,
    "slideshow": {
     "slide_type": ""
    },
    "tags": []
   },
   "source": [
    "Mathematical operations are calculated elementwise. Here we take the difference between two points"
   ]
  },
  {
   "cell_type": "code",
   "execution_count": 28,
   "metadata": {
    "editable": true,
    "remove_code": "non-comments",
    "slideshow": {
     "slide_type": ""
    },
    "tags": []
   },
   "outputs": [
    {
     "data": {
      "text/plain": [
       "array([-1.477886,  0.42672 , -2.043088])"
      ]
     },
     "execution_count": 28,
     "metadata": {},
     "output_type": "execute_result"
    }
   ],
   "source": [
    "# Difference between arrays\n",
    "coordinates[0] - coordinates[1]"
   ]
  },
  {
   "cell_type": "markdown",
   "metadata": {
    "editable": true,
    "slideshow": {
     "slide_type": ""
    },
    "tags": []
   },
   "source": [
    "The distance is the norm of that vector"
   ]
  },
  {
   "cell_type": "code",
   "execution_count": 29,
   "metadata": {
    "editable": true,
    "remove_code": "non-comments",
    "slideshow": {
     "slide_type": ""
    },
    "tags": []
   },
   "outputs": [
    {
     "data": {
      "text/plain": [
       "np.float64(2.5574294835126925)"
      ]
     },
     "execution_count": 29,
     "metadata": {},
     "output_type": "execute_result"
    }
   ],
   "source": [
    "# Calculate the length of that vector\n",
    "np.linalg.norm(coordinates[0] - coordinates[1])"
   ]
  },
  {
   "cell_type": "markdown",
   "metadata": {
    "editable": true,
    "slideshow": {
     "slide_type": "slide"
    },
    "tags": []
   },
   "source": [
    "#### Broadcasting an operation\n",
    "We now want to calculate the distance of the first atom to all other atoms in the molecule"
   ]
  },
  {
   "cell_type": "code",
   "execution_count": 30,
   "metadata": {
    "editable": true,
    "remove_code": "non-comments",
    "slideshow": {
     "slide_type": ""
    },
    "tags": []
   },
   "outputs": [
    {
     "name": "stdout",
     "output_type": "stream",
     "text": [
      "(51, 3)\n"
     ]
    },
    {
     "data": {
      "text/plain": [
       "array([0.        , 2.55742948, 2.4054673 , 2.30937131, 2.39286202,\n",
       "       2.54175625, 3.56497407, 3.64416286, 4.42093052, 3.70184382,\n",
       "       3.37761395, 3.44725211, 3.51735778, 4.24267866, 3.36668177,\n",
       "       3.54164164, 3.47282997, 4.20315821, 3.4025242 , 3.52993785,\n",
       "       3.51178045, 4.25669029, 3.55654195, 3.61068653, 4.40948763,\n",
       "       3.72256163, 2.30482234, 2.4273525 , 2.56677753, 2.51693889,\n",
       "       2.34644284, 3.32366003, 3.46608293, 3.43992489, 4.17235977,\n",
       "       3.4177005 , 3.40363197, 4.26257747, 3.66271932, 3.57797505,\n",
       "       4.22595933, 4.17237041, 3.39843803, 3.54132471, 3.93582131,\n",
       "       4.32393156, 3.43985706, 3.35887957, 3.44361902, 3.51622035,\n",
       "       4.21207557])"
      ]
     },
     "execution_count": 30,
     "metadata": {},
     "output_type": "execute_result"
    }
   ],
   "source": [
    "# Calculate the distance of all atoms to atom 1\n",
    "diff = coordinates - coordinates[0]\n",
    "print(diff.shape)\n",
    "np.linalg.norm(diff, axis=-1)"
   ]
  },
  {
   "cell_type": "markdown",
   "metadata": {
    "editable": true,
    "slideshow": {
     "slide_type": "notes"
    },
    "tags": []
   },
   "source": [
    "Speaker notes: `diff` calculates the difference between first the coordinate, `coordinates[0]`, and all other coordinates. This gives us a list of vectors which we then want to calculate the length or `norm` of. To do this we have to `np.linalg.norm()` which `axis` to broadcast along.\n",
    "\n",
    "Try different `axis` values:\n",
    "* `axis=0` computes a function vertically\n",
    "* `axis=-1` computes a function horizontally"
   ]
  },
  {
   "cell_type": "markdown",
   "metadata": {
    "editable": true,
    "slideshow": {
     "slide_type": "slide"
    },
    "tags": []
   },
   "source": [
    "# Linear Algebra\n",
    "1D and 2D numerical arrays are often referred to as vectors and matrices, respectively. However, the rules of computation around these mathematical objects have subtle differences from numerical arrays."
   ]
  },
  {
   "cell_type": "code",
   "execution_count": 31,
   "metadata": {
    "editable": true,
    "remove_code": "non-comments",
    "slideshow": {
     "slide_type": ""
    },
    "tags": []
   },
   "outputs": [
    {
     "name": "stdout",
     "output_type": "stream",
     "text": [
      "[[ 1  0  3]\n",
      " [-1  2  1]\n",
      " [-2 -2  1]]\n",
      "[[ 1]\n",
      " [ 0]\n",
      " [-1]]\n",
      "Multiply matrix and vector = \n",
      " [[-2]\n",
      " [-2]\n",
      " [-3]]\n",
      "Multiply 2D and 1D arrays = \n",
      " [[ 1  0  3]\n",
      " [ 0  0  0]\n",
      " [ 2  2 -1]]\n"
     ]
    }
   ],
   "source": [
    "# We define two arrays: A - a 3x3 matrix and B - a 3x1 vector\n",
    "mat_A = np.array([[1, 0, 3], [-1, 2, 1], [-2, -2, 1]])\n",
    "print(mat_A)\n",
    "vec_A = np.array([[1], [0], [-1]])\n",
    "print(vec_A)\n",
    "\n",
    "print(\"Multiply matrix and vector = \\n\", mat_A @ vec_A)\n",
    "print(\"Multiply 2D and 1D arrays = \\n\", mat_A * vec_A)"
   ]
  },
  {
   "cell_type": "markdown",
   "metadata": {
    "editable": true,
    "slideshow": {
     "slide_type": ""
    },
    "tags": []
   },
   "source": [
    "We can also use NumPy to compute matrix operations"
   ]
  },
  {
   "cell_type": "code",
   "execution_count": 32,
   "metadata": {
    "editable": true,
    "remove_code": "non-comments",
    "slideshow": {
     "slide_type": ""
    },
    "tags": []
   },
   "outputs": [
    {
     "name": "stdout",
     "output_type": "stream",
     "text": [
      "mat_B =\n",
      " [[ 1  1]\n",
      " [-1  1]]\n",
      "det(mat_B) = 2.0\n",
      "[[2 0]\n",
      " [0 1]]\n",
      "Eigenvalues = [2. 1.]\n",
      "Eigenvectors =\n",
      " [[1. 0.]\n",
      " [0. 1.]]\n"
     ]
    }
   ],
   "source": [
    "# Calculate the determinant\n",
    "mat_B = np.array([[1, 1], [-1, 1]])\n",
    "print(\"mat_B =\\n\", mat_B)\n",
    "print(\"det(mat_B) =\", np.linalg.det(mat_B))\n",
    "\n",
    "# Calculate eigenvalues and eigenvectors\n",
    "mat_C = np.diag((2, 1))\n",
    "eig_vals, eig_vecs = np.linalg.eig(mat_C)\n",
    "print(mat_C)\n",
    "print(\"Eigenvalues =\", eig_vals)\n",
    "print(\"Eigenvectors =\\n\", eig_vecs)"
   ]
  },
  {
   "cell_type": "markdown",
   "metadata": {
    "editable": true,
    "slideshow": {
     "slide_type": "slide"
    },
    "tags": []
   },
   "source": [
    "Returning to the coordinates data, we now want to apply an inversion matrix to all atomic positions."
   ]
  },
  {
   "cell_type": "code",
   "execution_count": 33,
   "metadata": {
    "editable": true,
    "remove_code": "non-comments",
    "slideshow": {
     "slide_type": ""
    },
    "tags": []
   },
   "outputs": [
    {
     "data": {
      "text/plain": [
       "array([[-1., -0., -0.],\n",
       "       [-0., -1., -0.],\n",
       "       [-0., -0., -1.]])"
      ]
     },
     "execution_count": 33,
     "metadata": {},
     "output_type": "execute_result"
    }
   ],
   "source": [
    "# Create an inversion matrix\n",
    "inv_mat = -1 * np.eye(3)\n",
    "inv_mat"
   ]
  },
  {
   "cell_type": "code",
   "execution_count": 34,
   "metadata": {
    "editable": true,
    "remove_code": "non-comments",
    "slideshow": {
     "slide_type": ""
    },
    "tags": []
   },
   "outputs": [
    {
     "data": {
      "text/plain": [
       "array([-12.977027,  -2.90556 , -14.602081])"
      ]
     },
     "execution_count": 34,
     "metadata": {},
     "output_type": "execute_result"
    }
   ],
   "source": [
    "# Use matmul with @\n",
    "inv_mat @ coordinates[0]"
   ]
  },
  {
   "cell_type": "markdown",
   "metadata": {
    "editable": true,
    "slideshow": {
     "slide_type": "slide"
    },
    "tags": []
   },
   "source": [
    "#### If we want to apply it to all coordinates we can use np.einsum\n",
    "$C_{ik} = \\sum\\limits_j A_{ij} B_{jk}$"
   ]
  },
  {
   "cell_type": "code",
   "execution_count": 35,
   "metadata": {
    "editable": true,
    "remove_code": "non-comments",
    "scrolled": true,
    "slideshow": {
     "slide_type": ""
    },
    "tags": []
   },
   "outputs": [
    {
     "data": {
      "text/plain": [
       "array([[-12.977027,  -2.90556 , -14.602081],\n",
       "       [-14.454913,  -2.47884 , -16.645169],\n",
       "       [-15.089983,  -3.30204 , -15.681198],\n",
       "       [-14.334341,  -4.5066  , -15.565183],\n",
       "       [-13.2189  ,  -4.40496 , -16.451158],\n",
       "       [-13.305466,  -3.15336 , -17.110317],\n",
       "       [-14.872292,  -1.09872 , -17.021242],\n",
       "       [-14.077023,  -0.539314, -17.14586 ],\n",
       "       [-15.384766,  -1.128019, -17.855966],\n",
       "       [-15.429176,  -0.72004 , -16.309159],\n",
       "       [-16.338744,  -2.97528 , -14.921884],\n",
       "       [-16.337732,  -3.457331, -14.068454],\n",
       "       [-16.375397,  -2.010952, -14.752293],\n",
       "       [-17.120704,  -3.24455 , -15.447864],\n",
       "       [-14.766341,  -5.74728 , -14.841933],\n",
       "       [-13.981967,  -6.301336, -14.647097],\n",
       "       [-15.207683,  -5.498968, -14.002951],\n",
       "       [-15.391468,  -6.251456, -15.403326],\n",
       "       [-12.202574,  -5.47428 , -16.694704],\n",
       "       [-11.328352,  -5.062798, -16.857886],\n",
       "       [-12.147624,  -6.057719, -15.90921 ],\n",
       "       [-12.465876,  -6.003152, -17.476635],\n",
       "       [-12.294344,  -2.6124  , -18.080154],\n",
       "       [-11.406041,  -2.958194, -17.852664],\n",
       "       [-12.531068,  -2.892868, -18.988941],\n",
       "       [-12.286405,  -1.633834, -18.031836],\n",
       "       [-12.045851,  -3.92952 , -12.759088],\n",
       "       [-10.982516,  -3.12396 , -13.235967],\n",
       "       [-11.307846,  -1.76904 , -13.017624],\n",
       "       [-12.577962,  -1.71444 , -12.421035],\n",
       "       [-13.056033,  -3.02568 , -12.260047],\n",
       "       [-12.053617,  -5.41296 , -12.625474],\n",
       "       [-12.979421,  -5.73358 , -12.598078],\n",
       "       [-11.592158,  -5.81259 , -13.391958],\n",
       "       [-11.594897,  -5.668883, -11.798093],\n",
       "       [ -9.716968,  -3.62544 , -13.87101 ],\n",
       "       [ -9.587258,  -3.181996, -14.735347],\n",
       "       [ -8.956762,  -3.427696, -13.285111],\n",
       "       [ -9.781471,  -4.593742, -14.007122],\n",
       "       [-10.502834,  -0.58548 , -13.463001],\n",
       "       [-10.65952 ,   0.164615, -12.852247],\n",
       "       [ -9.550686,  -0.817463, -13.458091],\n",
       "       [-10.772059,  -0.329969, -14.370072],\n",
       "       [-13.312035,  -0.45192 , -12.070599],\n",
       "       [-14.123711,  -0.675175, -11.568735],\n",
       "       [-12.735372,   0.119431, -11.521916],\n",
       "       [-13.55608 ,   0.022604, -12.892353],\n",
       "       [-14.338615,  -3.42048 , -11.575035],\n",
       "       [-15.05938 ,  -2.821501, -11.860685],\n",
       "       [-14.566395,  -4.343296, -11.814496],\n",
       "       [-14.224023,  -3.354187, -10.603917]])"
      ]
     },
     "execution_count": 35,
     "metadata": {},
     "output_type": "execute_result"
    }
   ],
   "source": [
    "# Apply the inversion matrix using einsum\n",
    "np.einsum('ij, ...j -> ...i', inv_mat, coordinates)"
   ]
  },
  {
   "cell_type": "markdown",
   "metadata": {
    "editable": true,
    "slideshow": {
     "slide_type": "notes"
    },
    "tags": []
   },
   "source": [
    "Speaker notes: `einsum` is a powerful function with lots of flexibility. In this case we are multiplying a matrix with indices `ij` by a vector with one index `j`. This function should return a vector with one index `i`, but we have a vector defined in each row of `coordinates` so we use the `...` notation to broadcast along these rows"
   ]
  },
  {
   "cell_type": "markdown",
   "metadata": {
    "slideshow": {
     "slide_type": "slide"
    }
   },
   "source": [
    "# Summary and Key Takeaways\n",
    "\n",
    "- **NumPy Arrays**: NumPy arrays are homogeneous, fixed-size, memory-efficient data structures that support vectorized operations and multi-dimensional data.\n",
    "\n",
    "- **Array Operations**: NumPy provides a wide range of operations that can be performed on arrays, including arithmetic operations, reshaping, indexing, slicing, and statistical operations.\n",
    "\n",
    "- **Broadcasting**: NumPy's broadcasting feature allows for arithmetic operations between arrays of different shapes.\n",
    "\n",
    "- **Boolean Indexing**: NumPy arrays support boolean indexing, which can be used to filter data based on certain conditions.\n",
    "\n",
    "- **Data Reading**: NumPy can be used to read data from files, enabling further data manipulation and analysis.\n",
    "\n",
    "- **Statistical Measures**: We learned how to calculate mean, standard deviation, and other statistical measures using NumPy.\n",
    "\n",
    "- **Advanced Operations**: We explored advanced operations like `np.einsum` which provides a way to compute multivariate operations on arrays.\n",
    "\n",
    "Now we will move on to the exercises"
   ]
  }
 ],
 "metadata": {
  "kernelspec": {
   "display_name": "Python 3 (ipykernel)",
   "language": "python",
   "name": "python3"
  },
  "language_info": {
   "codemirror_mode": {
    "name": "ipython",
    "version": 3
   },
   "file_extension": ".py",
   "mimetype": "text/x-python",
   "name": "python",
   "nbconvert_exporter": "python",
   "pygments_lexer": "ipython3",
   "version": "3.12.3"
  }
 },
 "nbformat": 4,
 "nbformat_minor": 4
}
