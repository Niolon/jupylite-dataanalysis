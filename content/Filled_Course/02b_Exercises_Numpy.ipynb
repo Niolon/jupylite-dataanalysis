{
 "cells": [
  {
   "cell_type": "markdown",
   "metadata": {
    "editable": true,
    "slideshow": {
     "slide_type": ""
    },
    "tags": []
   },
   "source": [
    "# Exercises for using NumPy\n",
    "Import the NumPy module"
   ]
  },
  {
   "cell_type": "code",
   "execution_count": 1,
   "metadata": {
    "editable": true,
    "remove_code": "non-comments",
    "slideshow": {
     "slide_type": ""
    },
    "tags": []
   },
   "outputs": [],
   "source": [
    "import numpy as np"
   ]
  },
  {
   "cell_type": "markdown",
   "metadata": {
    "editable": true,
    "slideshow": {
     "slide_type": ""
    },
    "tags": []
   },
   "source": [
    "\n",
    "## Warm-Up Exercises\n",
    "\n",
    "1. **Create a NumPy array**: Create a NumPy array of integers from 1 to 10.\n",
    "\n",
    "2. **Array shape**: Find the shape of the array you created.\n",
    "\n",
    "3. **Array data type**: Find the data type of the array. Try to convert it to a different data type.\n",
    "\n",
    "4. **Array operations**: Perform basic arithmetic operations (addition, subtraction, multiplication, division) on the array.\n",
    "\n",
    "5. **Reshape array**: Reshape the array into a 2x5 matrix.\n",
    "\n",
    "6. **Indexing and slicing**: Access the third element of the array and slice the array to get the first 5 elements.\n",
    "\n",
    "7. **Array statistics**: Calculate the sum, mean, and standard deviation of the array.\n",
    "\n",
    "8. **Boolean indexing**: Create a boolean array that selects only the even numbers from the original array.\n",
    "\n",
    "9. **Broadcasting**: Add a scalar (e.g., 5) to the original array using broadcasting."
   ]
  },
  {
   "cell_type": "code",
   "execution_count": 2,
   "metadata": {
    "editable": true,
    "remove_code": "non-comments",
    "slideshow": {
     "slide_type": ""
    },
    "tags": []
   },
   "outputs": [
    {
     "name": "stdout",
     "output_type": "stream",
     "text": [
      "(10,)\n",
      "int64\n",
      "[0.97003961 1.35910972 2.50627871 3.87222668 4.45183602 5.18331718\n",
      " 6.81442792 7.44675419 8.46672628 9.56540818]\n",
      "[[ 1  2  3  4  5]\n",
      " [ 6  7  8  9 10]]\n",
      "3 [1 2 3 4 5]\n",
      "55 5.5 2.8722813232690143\n",
      "[ 2  4  6  8 10]\n",
      "[ 6  7  8  9 10 11 12 13 14 15]\n"
     ]
    }
   ],
   "source": [
    "# 1\n",
    "arr1 = np.arange(1, 11)\n",
    "\n",
    "# 2\n",
    "print(arr1.shape)\n",
    "\n",
    "# 3\n",
    "print(arr1.dtype)\n",
    "\n",
    "# 4\n",
    "print(arr1 - np.random.rand(10))\n",
    "\n",
    "# 5\n",
    "print(np.reshape(arr1, (2,5)))\n",
    "\n",
    "# 6\n",
    "print(arr1[2], arr1[:5])\n",
    "\n",
    "#7\n",
    "print(np.sum(arr1), np.mean(arr1), np.std(arr1))\n",
    "\n",
    "# 8\n",
    "print(arr1[arr1 % 2 == 0])\n",
    "\n",
    "# 9\n",
    "print(arr1 + 5)\n"
   ]
  },
  {
   "cell_type": "markdown",
   "metadata": {},
   "source": [
    "## Working with XRD data.\n",
    "The  file `../Data/exercise/fco.txt` contains a cut output file from a crystallographic refinement. For simplicity, you can rename the variables $A$-$F$, as the context is not really that important here.\n",
    "\n",
    "Here are the exercises for working with the SC-XRD data:\n",
    "\n",
    "1. **Read the data**: Use NumPy to read the data from the file `data/fco.txt` mentioned above. The data contains six columns:\n",
    "    - $h$ : Integer, Miller index\n",
    "    - $k$ : Integer, Miller index\n",
    "    - $l$ : Integer, Miller index\n",
    "    - $F^2_\\text{calc,i}$ : Calculated scaled intensity from the model\n",
    "    - $F^2_\\text{obs,i}$ : Observed scaled intensity from the model\n",
    "    - $\\sigma_i$ : Estimated standard deviation of the scaled observed intensity\n",
    "\n",
    "Note: Make sure that you take into account that the data file already contains the squared values.\n"
   ]
  },
  {
   "cell_type": "code",
   "execution_count": 3,
   "metadata": {
    "editable": true,
    "remove_code": "non-comments",
    "slideshow": {
     "slide_type": ""
    },
    "tags": []
   },
   "outputs": [],
   "source": [
    "h, k, l, fsq_calc, fsq_obs, sigma = np.loadtxt('../Data/exercise/fco.txt', unpack=True, dtype='i8,i8,i8,f8,f8,f8')"
   ]
  },
  {
   "cell_type": "markdown",
   "metadata": {},
   "source": [
    "\n",
    "2. **Calculate the mean I/sigma**: Calculate the mean of the ratio of observed intensity to the estimated standard deviation for the dataset. The formula for calculating the mean is:\n",
    "\n",
    "   $$\\overline{I/\\sigma} = \\frac{\\sum_{i=1}^{n} \\frac{F^2_\\text{obs,i}}{\\sigma_i}}{n}$$\n",
    "\n",
    "   where $F^2_\\text{obs,i}$ is the observed absolute squared structure factor and $\\sigma_i$ is the estimated standard deviation for the $i$ th data point.\n"
   ]
  },
  {
   "cell_type": "code",
   "execution_count": 4,
   "metadata": {
    "editable": true,
    "remove_code": "non-comments",
    "slideshow": {
     "slide_type": ""
    },
    "tags": []
   },
   "outputs": [
    {
     "data": {
      "text/plain": [
       "np.float64(22.894137052287043)"
      ]
     },
     "execution_count": 4,
     "metadata": {},
     "output_type": "execute_result"
    }
   ],
   "source": [
    "np.mean(fsq_obs / sigma)"
   ]
  },
  {
   "cell_type": "markdown",
   "metadata": {},
   "source": [
    "\n",
    "3. **Calculate $R_1$**: Calculate the R1 value for the dataset. R1 is a measure of the agreement between the observed and modelled absolute squared structure factors. The formula for calculating R1 is:\n",
    "\n",
    "   $$R_1 = \\frac{\\sum_{i=1}^{n} ||F^2_\\text{calc,i} - F^2_\\text{obs,i}||}{\\sum_{i=1}^{n} |F^2_\\text{obs,i}|}$$\n",
    "\n",
    "   where $F^2_\\text{obs,i}$ is the observed absolute squared structure factor and $F^2_\\text{calc,i}$ is the modelled absolute squared structure factor for the $i$th data point.\n"
   ]
  },
  {
   "cell_type": "code",
   "execution_count": 5,
   "metadata": {
    "editable": true,
    "remove_code": "non-comments",
    "slideshow": {
     "slide_type": ""
    },
    "tags": []
   },
   "outputs": [
    {
     "data": {
      "text/plain": [
       "np.float64(0.08166633291590505)"
      ]
     },
     "execution_count": 5,
     "metadata": {},
     "output_type": "execute_result"
    }
   ],
   "source": [
    "np.sum(np.abs(fsq_calc - fsq_obs)) / np.sum(np.abs(fsq_obs))"
   ]
  },
  {
   "cell_type": "markdown",
   "metadata": {},
   "source": [
    "\n",
    "4. **Calculate wR2**: Calculate the weighted R2 value for the dataset. wR2 is another measure of the agreement between the observed and modelled absolute squared structure factors, taking into account the estimated standard deviation. The formula for calculating wR2 is:\n",
    "\n",
    "   $$wR_2 = \\sqrt{\\frac{\\sum_{i=1}^{n} \\left( \\frac{F^2_\\text{obs,i} - F^2_\\text{calc,i}}{\\sigma_i} \\right)^2}{\\sum_{i=1}^{n} \\left( \\frac{F^2_\\text{obs,i}}{\\sigma_i} \\right)^2}}$$\n",
    "\n",
    "   where $F^2_\\text{obs,i}$ is the observed absolute squared structure factor, $F^2_\\text{calc,i}$ is the modelled absolute squared structure factor, and $\\sigma_i$ is the estimated standard deviation for the $i$th data point.\n"
   ]
  },
  {
   "cell_type": "code",
   "execution_count": 6,
   "metadata": {
    "editable": true,
    "remove_code": "non-comments",
    "slideshow": {
     "slide_type": ""
    },
    "tags": []
   },
   "outputs": [
    {
     "data": {
      "text/plain": [
       "np.float64(0.15807699516903526)"
      ]
     },
     "execution_count": 6,
     "metadata": {},
     "output_type": "execute_result"
    }
   ],
   "source": [
    "np.sqrt(np.sum(((fsq_calc - fsq_obs) / sigma)**2) / np.sum((fsq_obs/sigma)**2))"
   ]
  },
  {
   "cell_type": "markdown",
   "metadata": {},
   "source": [
    "# Bonus exercise: Systematic absenses\n",
    "The high temperature phase of the molecule crystallises in the space group $C2/c$ while the low temperature space group is $P2_1/c$. Decide which space group this structure belongs to by calculating the $\\overline{I/\\sigma}$ of the intensities that need to be absenst.\n",
    "Use the following information:\n",
    " - For $C2/c$ the following reflections should be absent, with $n$ being any integer value:\n",
    "    - C-centred lattice: $h + k = 2n + 1$ \n",
    "    - $c$-glide plane perpendicular to b: $k = 0$ and $l = 2n + 1$\n",
    " - For $P2_1/n$ the following reflections should be absent, with $n$ being any integer value:\n",
    "    - $2_1$ screw axis parallel to b: $h = 0$ and $k = 2n + 1$ and $l = 0$\n",
    "    - $c$-glide plane perpendicular to b: $k = 0$ and $l = 2n + 1$\n",
    "\n",
    "Hint: Use the modulo (`%`) operator to test whether the division by two leaves a remainder of one."
   ]
  },
  {
   "cell_type": "code",
   "execution_count": 7,
   "metadata": {
    "editable": true,
    "remove_code": "non-comments",
    "slideshow": {
     "slide_type": ""
    },
    "tags": []
   },
   "outputs": [
    {
     "name": "stdout",
     "output_type": "stream",
     "text": [
      "In C2/c the mean I/sigma for values that should be zero is  15.923100074221722\n",
      "In P2(1)/c the mean I/sigma for values that should be zero is  0.6655857510376365\n"
     ]
    }
   ],
   "source": [
    "c_centred_condition = (h + k) % 2 == 1\n",
    "c_glide_condition = (k == 0) & (l % 2 == 1)\n",
    "\n",
    "c2ovc_condition = np.logical_or(c_glide_condition, c_centred_condition)\n",
    "print('In C2/c the mean I/sigma for values that should be zero is ', np.mean(fsq_obs[c2ovc_condition] / sigma[c2ovc_condition]))\n",
    "\n",
    "screw_condition = (h == 0) & (k % 2 == 1) & (l == 0)\n",
    "p21ovc_condition = np.logical_or(c_glide_condition, screw_condition)\n",
    "print('In P2(1)/c the mean I/sigma for values that should be zero is ', np.mean(fsq_obs[p21ovc_condition] / sigma[p21ovc_condition]))"
   ]
  }
 ],
 "metadata": {
  "kernelspec": {
   "display_name": "Python 3 (ipykernel)",
   "language": "python",
   "name": "python3"
  },
  "language_info": {
   "codemirror_mode": {
    "name": "ipython",
    "version": 3
   },
   "file_extension": ".py",
   "mimetype": "text/x-python",
   "name": "python",
   "nbconvert_exporter": "python",
   "pygments_lexer": "ipython3",
   "version": "3.12.3"
  }
 },
 "nbformat": 4,
 "nbformat_minor": 4
}
